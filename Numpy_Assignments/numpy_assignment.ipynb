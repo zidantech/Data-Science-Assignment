{
 "cells": [
  {
   "cell_type": "code",
   "execution_count": 143,
   "metadata": {},
   "outputs": [],
   "source": [
    "# 1. Import the numpy package under the name np\n",
    "# Already done in the import statement above.\n",
    "import numpy as np"
   ]
  },
  {
   "cell_type": "code",
   "execution_count": 144,
   "metadata": {},
   "outputs": [
    {
     "name": "stdout",
     "output_type": "stream",
     "text": [
      "1.26.2\n",
      "{\n",
      "  \"Compilers\": {\n",
      "    \"c\": {\n",
      "      \"name\": \"msvc\",\n",
      "      \"linker\": \"link\",\n",
      "      \"version\": \"19.29.30153\",\n",
      "      \"commands\": \"cl.exe\"\n",
      "    },\n",
      "    \"cython\": {\n",
      "      \"name\": \"cython\",\n",
      "      \"linker\": \"cython\",\n",
      "      \"version\": \"3.0.0\",\n",
      "      \"commands\": \"cython\"\n",
      "    },\n",
      "    \"c++\": {\n",
      "      \"name\": \"msvc\",\n",
      "      \"linker\": \"link\",\n",
      "      \"version\": \"19.29.30153\",\n",
      "      \"commands\": \"cl.exe\"\n",
      "    }\n",
      "  },\n",
      "  \"Machine Information\": {\n",
      "    \"host\": {\n",
      "      \"cpu\": \"x86_64\",\n",
      "      \"family\": \"x86_64\",\n",
      "      \"endian\": \"little\",\n",
      "      \"system\": \"windows\"\n",
      "    },\n",
      "    \"build\": {\n",
      "      \"cpu\": \"x86_64\",\n",
      "      \"family\": \"x86_64\",\n",
      "      \"endian\": \"little\",\n",
      "      \"system\": \"windows\"\n",
      "    }\n",
      "  },\n",
      "  \"Build Dependencies\": {\n",
      "    \"blas\": {\n",
      "      \"name\": \"mkl-sdl\",\n",
      "      \"found\": true,\n",
      "      \"version\": \"2023.1\",\n",
      "      \"detection method\": \"pkgconfig\",\n",
      "      \"include directory\": \"C:/Users/ZIDAN/.conda/envs/arewads3.11/Library/include\",\n",
      "      \"lib directory\": \"C:/Users/ZIDAN/.conda/envs/arewads3.11/Library/lib\",\n",
      "      \"openblas configuration\": \"unknown\",\n",
      "      \"pc file directory\": \"C:\\\\b\\\\abs_7267ja_mqz\\\\croot\\\\numpy_and_numpy_base_1701295083047\\\\_h_env\\\\Library\\\\lib\\\\pkgconfig\"\n",
      "    },\n",
      "    \"lapack\": {\n",
      "      \"name\": \"dep1610466607184\",\n",
      "      \"found\": true,\n",
      "      \"version\": \"1.26.2\",\n",
      "      \"detection method\": \"internal\",\n",
      "      \"include directory\": \"unknown\",\n",
      "      \"lib directory\": \"unknown\",\n",
      "      \"openblas configuration\": \"unknown\",\n",
      "      \"pc file directory\": \"unknown\"\n",
      "    }\n",
      "  },\n",
      "  \"Python Information\": {\n",
      "    \"path\": \"C:\\\\b\\\\abs_7267ja_mqz\\\\croot\\\\numpy_and_numpy_base_1701295083047\\\\_h_env\\\\python.exe\",\n",
      "    \"version\": \"3.11\"\n",
      "  },\n",
      "  \"SIMD Extensions\": {\n",
      "    \"baseline\": [\n",
      "      \"SSE\",\n",
      "      \"SSE2\",\n",
      "      \"SSE3\"\n",
      "    ],\n",
      "    \"found\": [\n",
      "      \"SSSE3\",\n",
      "      \"SSE41\",\n",
      "      \"POPCNT\",\n",
      "      \"SSE42\",\n",
      "      \"AVX\",\n",
      "      \"F16C\",\n",
      "      \"FMA3\",\n",
      "      \"AVX2\"\n",
      "    ],\n",
      "    \"not found\": [\n",
      "      \"AVX512F\",\n",
      "      \"AVX512CD\",\n",
      "      \"AVX512_SKX\",\n",
      "      \"AVX512_CLX\",\n",
      "      \"AVX512_CNL\",\n",
      "      \"AVX512_ICL\"\n",
      "    ]\n",
      "  }\n",
      "}\n",
      "None\n"
     ]
    },
    {
     "name": "stderr",
     "output_type": "stream",
     "text": [
      "c:\\Users\\ZIDAN\\.conda\\envs\\arewads3.11\\Lib\\site-packages\\numpy\\__config__.py:149: UserWarning: Install `pyyaml` for better output\n",
      "  warnings.warn(\"Install `pyyaml` for better output\", stacklevel=1)\n"
     ]
    }
   ],
   "source": [
    "# 2. Print the numpy version and the configuration\n",
    "print(np.__version__)\n",
    "print(np.show_config())"
   ]
  },
  {
   "cell_type": "code",
   "execution_count": 145,
   "metadata": {},
   "outputs": [
    {
     "name": "stdout",
     "output_type": "stream",
     "text": [
      "[0. 0. 0. 0. 0. 0. 0. 0. 0. 0.]\n"
     ]
    }
   ],
   "source": [
    "# 3. Create a null vector of size 10\n",
    "null_vector = np.zeros(10)\n",
    "print(null_vector)"
   ]
  },
  {
   "cell_type": "code",
   "execution_count": 146,
   "metadata": {},
   "outputs": [
    {
     "name": "stdout",
     "output_type": "stream",
     "text": [
      "Memory size: 80 bytes\n"
     ]
    }
   ],
   "source": [
    "# 4. How to find the memory size of any array\n",
    "memory_size = null_vector.size * null_vector.itemsize\n",
    "print(\"Memory size:\", memory_size, \"bytes\")"
   ]
  },
  {
   "cell_type": "code",
   "execution_count": 147,
   "metadata": {},
   "outputs": [],
   "source": [
    "# 5. How to get the documentation of the numpy add function from the command line\n",
    "# You can use the following command in the command line or Jupyter notebook:\n",
    "# python -c \"import numpy as np; help(np.add)\""
   ]
  },
  {
   "cell_type": "code",
   "execution_count": 148,
   "metadata": {},
   "outputs": [
    {
     "name": "stdout",
     "output_type": "stream",
     "text": [
      "[0. 0. 0. 0. 1. 0. 0. 0. 0. 0.]\n"
     ]
    }
   ],
   "source": [
    "# 6. Create a null vector of size 10 but the fifth value which is 1\n",
    "null_vector_with_one = np.zeros(10)\n",
    "null_vector_with_one[4] = 1\n",
    "print(null_vector_with_one)"
   ]
  },
  {
   "cell_type": "code",
   "execution_count": 149,
   "metadata": {},
   "outputs": [
    {
     "name": "stdout",
     "output_type": "stream",
     "text": [
      "[10 11 12 13 14 15 16 17 18 19 20 21 22 23 24 25 26 27 28 29 30 31 32 33\n",
      " 34 35 36 37 38 39 40 41 42 43 44 45 46 47 48 49]\n"
     ]
    }
   ],
   "source": [
    "# 7. Create a vector with values ranging from 10 to 49\n",
    "vector_10_to_49 = np.arange(10, 50)\n",
    "print(vector_10_to_49)"
   ]
  },
  {
   "cell_type": "code",
   "execution_count": 150,
   "metadata": {},
   "outputs": [
    {
     "name": "stdout",
     "output_type": "stream",
     "text": [
      "[49 48 47 46 45 44 43 42 41 40 39 38 37 36 35 34 33 32 31 30 29 28 27 26\n",
      " 25 24 23 22 21 20 19 18 17 16 15 14 13 12 11 10]\n"
     ]
    }
   ],
   "source": [
    "# 8. Reverse a vector (first element becomes last)\n",
    "reversed_vector = np.flip(vector_10_to_49)\n",
    "print(reversed_vector)"
   ]
  },
  {
   "cell_type": "code",
   "execution_count": 151,
   "metadata": {},
   "outputs": [
    {
     "name": "stdout",
     "output_type": "stream",
     "text": [
      "[[0 1 2]\n",
      " [3 4 5]\n",
      " [6 7 8]]\n"
     ]
    }
   ],
   "source": [
    "# 9. Create a 3x3 matrix with values ranging from 0 to 8\n",
    "matrix_3x3 = np.arange(9).reshape(3, 3)\n",
    "print(matrix_3x3)"
   ]
  },
  {
   "cell_type": "code",
   "execution_count": 152,
   "metadata": {},
   "outputs": [
    {
     "name": "stdout",
     "output_type": "stream",
     "text": [
      "(array([0, 1, 4], dtype=int64),)\n"
     ]
    }
   ],
   "source": [
    "# 10. Find indices of non-zero elements from [1,2,0,0,4,0]\n",
    "non_zero_indices = np.nonzero([1, 2, 0, 0, 4, 0])\n",
    "print(non_zero_indices)"
   ]
  },
  {
   "cell_type": "code",
   "execution_count": 153,
   "metadata": {},
   "outputs": [
    {
     "name": "stdout",
     "output_type": "stream",
     "text": [
      "[[1. 0. 0.]\n",
      " [0. 1. 0.]\n",
      " [0. 0. 1.]]\n"
     ]
    }
   ],
   "source": [
    "# 11. Create a 3x3 identity matrix\n",
    "identity_matrix = np.eye(3)\n",
    "print(identity_matrix)"
   ]
  },
  {
   "cell_type": "code",
   "execution_count": 154,
   "metadata": {},
   "outputs": [
    {
     "name": "stdout",
     "output_type": "stream",
     "text": [
      "[[[0.89973028 0.84612376 0.41071784]\n",
      "  [0.53511664 0.50650892 0.00436964]\n",
      "  [0.87399317 0.91140927 0.71735287]]\n",
      "\n",
      " [[0.69003495 0.73660489 0.1035184 ]\n",
      "  [0.41460216 0.29997975 0.50121535]\n",
      "  [0.65476248 0.43099369 0.11923813]]\n",
      "\n",
      " [[0.80910826 0.24382331 0.6845277 ]\n",
      "  [0.8538755  0.72808746 0.77145462]\n",
      "  [0.47288833 0.90038792 0.45850714]]]\n"
     ]
    }
   ],
   "source": [
    "# 12. Create a 3x3x3 array with random values\n",
    "random_array = np.random.random((3, 3, 3))\n",
    "print(random_array)"
   ]
  },
  {
   "cell_type": "code",
   "execution_count": 155,
   "metadata": {},
   "outputs": [
    {
     "name": "stdout",
     "output_type": "stream",
     "text": [
      "Minimum value: 0.0043969088309566695\n",
      "Maximum value: 0.9753401729820548\n"
     ]
    }
   ],
   "source": [
    "# 13. Create a 10x10 array with random values and find the minimum and maximum values\n",
    "array_10x10 = np.random.random((10, 10))\n",
    "min_value = np.min(array_10x10)\n",
    "max_value = np.max(array_10x10)\n",
    "print(\"Minimum value:\", min_value)\n",
    "print(\"Maximum value:\", max_value)\n"
   ]
  },
  {
   "cell_type": "code",
   "execution_count": 156,
   "metadata": {},
   "outputs": [
    {
     "name": "stdout",
     "output_type": "stream",
     "text": [
      "Mean value: 0.4469330908165808\n"
     ]
    }
   ],
   "source": [
    "# 14. Create a random vector of size 30 and find the mean value\n",
    "random_vector = np.random.random(30)\n",
    "mean_value = np.mean(random_vector)\n",
    "print(\"Mean value:\", mean_value)"
   ]
  },
  {
   "cell_type": "code",
   "execution_count": 157,
   "metadata": {},
   "outputs": [
    {
     "name": "stdout",
     "output_type": "stream",
     "text": [
      "[[1. 1. 1. 1. 1.]\n",
      " [1. 0. 0. 0. 1.]\n",
      " [1. 0. 0. 0. 1.]\n",
      " [1. 0. 0. 0. 1.]\n",
      " [1. 1. 1. 1. 1.]]\n"
     ]
    }
   ],
   "source": [
    "# 15. Create a 2d array with 1 on the border and 0 inside\n",
    "border_array = np.ones((5, 5))\n",
    "border_array[1:-1, 1:-1] = 0\n",
    "print(border_array)"
   ]
  },
  {
   "cell_type": "code",
   "execution_count": 158,
   "metadata": {},
   "outputs": [
    {
     "name": "stdout",
     "output_type": "stream",
     "text": [
      "[[0. 0. 0. 0. 0.]\n",
      " [0. 1. 1. 1. 0.]\n",
      " [0. 1. 1. 1. 0.]\n",
      " [0. 1. 1. 1. 0.]\n",
      " [0. 0. 0. 0. 0.]]\n"
     ]
    }
   ],
   "source": [
    "# 16. How to add a border (filled with 0's) around an existing array\n",
    "existing_array = np.ones((3, 3))\n",
    "array_with_border = np.pad(existing_array, pad_width=1, mode='constant', constant_values=0)\n",
    "print(array_with_border)\n"
   ]
  },
  {
   "cell_type": "code",
   "execution_count": 159,
   "metadata": {},
   "outputs": [
    {
     "name": "stdout",
     "output_type": "stream",
     "text": [
      "nan\n",
      "False\n",
      "False\n",
      "nan\n",
      "True\n",
      "False\n"
     ]
    }
   ],
   "source": [
    "# 17. Result of the following expression\n",
    "print(0 * np.nan)           # nan\n",
    "print(np.nan == np.nan)     # False\n",
    "print(np.inf > np.nan)      # False\n",
    "print(np.nan - np.nan)      # nan\n",
    "print(np.nan in set([np.nan]))  # True\n",
    "print(0.3 == 3 * 0.1)       # False (due to floating-point precision)"
   ]
  },
  {
   "cell_type": "code",
   "execution_count": 160,
   "metadata": {},
   "outputs": [
    {
     "name": "stdout",
     "output_type": "stream",
     "text": [
      "[[0 0 0 0 0]\n",
      " [1 0 0 0 0]\n",
      " [0 2 0 0 0]\n",
      " [0 0 3 0 0]\n",
      " [0 0 0 4 0]]\n"
     ]
    }
   ],
   "source": [
    "# 18. Create a 5x5 matrix with values 1,2,3,4 just below the diagonal\n",
    "matrix_below_diagonal = np.diag(1 + np.arange(4), k=-1)\n",
    "print(matrix_below_diagonal)"
   ]
  },
  {
   "cell_type": "code",
   "execution_count": 161,
   "metadata": {},
   "outputs": [
    {
     "name": "stdout",
     "output_type": "stream",
     "text": [
      "[[0 1 0 1 0 1 0 1]\n",
      " [1 0 1 0 1 0 1 0]\n",
      " [0 1 0 1 0 1 0 1]\n",
      " [1 0 1 0 1 0 1 0]\n",
      " [0 1 0 1 0 1 0 1]\n",
      " [1 0 1 0 1 0 1 0]\n",
      " [0 1 0 1 0 1 0 1]\n",
      " [1 0 1 0 1 0 1 0]]\n"
     ]
    }
   ],
   "source": [
    "# 19. Create an 8x8 matrix and fill it with a checkerboard pattern\n",
    "checkerboard_matrix = np.zeros((8, 8), dtype=int)\n",
    "checkerboard_matrix[1::2, ::2] = 1\n",
    "checkerboard_matrix[::2, 1::2] = 1\n",
    "print(checkerboard_matrix)"
   ]
  },
  {
   "cell_type": "code",
   "execution_count": 162,
   "metadata": {},
   "outputs": [
    {
     "name": "stdout",
     "output_type": "stream",
     "text": [
      "(1, 5, 3)\n"
     ]
    }
   ],
   "source": [
    "# 20. Index (x,y,z) of the 100th element in a (6,7,8) shape array\n",
    "index_100th_element = np.unravel_index(99, (6, 7, 8))\n",
    "print(index_100th_element)"
   ]
  },
  {
   "cell_type": "code",
   "execution_count": 163,
   "metadata": {},
   "outputs": [
    {
     "name": "stdout",
     "output_type": "stream",
     "text": [
      "[[0 1 0 1 0 1 0 1]\n",
      " [1 0 1 0 1 0 1 0]\n",
      " [0 1 0 1 0 1 0 1]\n",
      " [1 0 1 0 1 0 1 0]\n",
      " [0 1 0 1 0 1 0 1]\n",
      " [1 0 1 0 1 0 1 0]\n",
      " [0 1 0 1 0 1 0 1]\n",
      " [1 0 1 0 1 0 1 0]]\n"
     ]
    }
   ],
   "source": [
    "# 21. Create a checkerboard 8x8 matrix using the tile function\n",
    "checkerboard_tile = np.tile([[0, 1], [1, 0]], (4, 4))\n",
    "print(checkerboard_tile)"
   ]
  },
  {
   "cell_type": "code",
   "execution_count": 164,
   "metadata": {},
   "outputs": [
    {
     "name": "stdout",
     "output_type": "stream",
     "text": [
      "[[ 1.08244788 -1.21548751  0.54308364  1.90936648  0.56438911]\n",
      " [-1.69508491 -0.42406816  1.12282198  1.4748443  -0.12192628]\n",
      " [-1.26331223  1.37723148  0.024406   -0.84989118  0.71674653]\n",
      " [-0.5147178   0.23160341  0.35889199 -1.17162141 -0.48150149]\n",
      " [-1.21080999  0.9286556  -1.19527339  0.62266045 -0.8134545 ]]\n"
     ]
    }
   ],
   "source": [
    "# 22. Normalize a 5x5 random matrix\n",
    "random_matrix = np.random.random((5, 5))\n",
    "normalized_matrix = (random_matrix - np.mean(random_matrix)) / np.std(random_matrix)\n",
    "print(normalized_matrix)"
   ]
  },
  {
   "cell_type": "code",
   "execution_count": 165,
   "metadata": {},
   "outputs": [
    {
     "name": "stdout",
     "output_type": "stream",
     "text": [
      "[('R', 'u1'), ('G', 'u1'), ('B', 'u1'), ('A', 'u1')]\n"
     ]
    },
    {
     "name": "stderr",
     "output_type": "stream",
     "text": [
      "C:\\Users\\ZIDAN\\AppData\\Local\\Temp\\ipykernel_2620\\1426000142.py:2: FutureWarning: Passing (type, 1) or '1type' as a synonym of type is deprecated; in a future version of numpy, it will be understood as (type, (1,)) / '(1,)type'.\n",
      "  color_dtype = np.dtype([('R', np.ubyte, 1),\n"
     ]
    }
   ],
   "source": [
    "# 23. Create a custom dtype that describes a color as four unsigned bytes (RGBA)\n",
    "color_dtype = np.dtype([('R', np.ubyte, 1),\n",
    "                        ('G', np.ubyte, 1),\n",
    "                        ('B', np.ubyte, 1),\n",
    "                        ('A', np.ubyte, 1)])\n",
    "print(color_dtype)"
   ]
  },
  {
   "cell_type": "code",
   "execution_count": 166,
   "metadata": {},
   "outputs": [
    {
     "name": "stdout",
     "output_type": "stream",
     "text": [
      "[[0.77252915 1.10929871]\n",
      " [0.57178033 1.2938772 ]\n",
      " [0.31003597 0.76681801]\n",
      " [0.35101555 0.59800738]\n",
      " [0.09554129 0.80161745]]\n"
     ]
    }
   ],
   "source": [
    "# 24. Multiply a 5x3 matrix by a 3x2 matrix (real matrix product)\n",
    "matrix_a = np.random.random((5, 3))\n",
    "matrix_b = np.random.random((3, 2))\n",
    "matrix_product = np.dot(matrix_a, matrix_b)\n",
    "print(matrix_product)\n"
   ]
  },
  {
   "cell_type": "code",
   "execution_count": 167,
   "metadata": {},
   "outputs": [
    {
     "name": "stdout",
     "output_type": "stream",
     "text": [
      "[ 0  1  2  3 -4 -5 -6 -7  8  9]\n"
     ]
    }
   ],
   "source": [
    "# 25. Given a 1D array, negate all elements which are between 3 and 8, in place\n",
    "array_1d = np.arange(10)\n",
    "array_1d[(array_1d > 3) & (array_1d < 8)] *= -1\n",
    "print(array_1d)"
   ]
  },
  {
   "cell_type": "code",
   "execution_count": 168,
   "metadata": {},
   "outputs": [],
   "source": [
    "# 26. Output of the following script\n",
    "# The script prints the sum of the range with an initial value of -1, both in Python and numpy.\n",
    "# The output would be 9 for both print statements."
   ]
  },
  {
   "cell_type": "code",
   "execution_count": 169,
   "metadata": {},
   "outputs": [],
   "source": [
    "# 27. Which of these expressions are legal for an integer vector Z?\n",
    "# Z**Z           # Legal\n",
    "# 2 << Z >> 2    # Legal\n",
    "# Z <- Z         # Legal\n",
    "# 1j*Z           # Legal\n",
    "# Z/1/1          # Legal\n",
    "# Z<Z>Z          # Illegal, cannot chain comparisons like this in numpy"
   ]
  },
  {
   "cell_type": "code",
   "execution_count": 170,
   "metadata": {},
   "outputs": [
    {
     "data": {
      "text/plain": [
       "array([-2.14748365e+09])"
      ]
     },
     "execution_count": 170,
     "metadata": {},
     "output_type": "execute_result"
    }
   ],
   "source": [
    "# 28. Result of the following expressions\n",
    "np.array(0) / np.array(0)      # nan\n",
    "np.array(0) // np.array(0)     # 0\n",
    "np.array([np.nan]).astype(int).astype(float)   # array([-9.22337204e+18])"
   ]
  },
  {
   "cell_type": "code",
   "execution_count": 171,
   "metadata": {},
   "outputs": [
    {
     "name": "stdout",
     "output_type": "stream",
     "text": [
      "[-3. -2.  0.  5.  5. -4.  1. -0.  0.  2.]\n"
     ]
    }
   ],
   "source": [
    "# 29. How to round away from zero a float array?\n",
    "float_array = np.random.uniform(-5, 5, 10)\n",
    "rounded_array = np.trunc(float_array + np.copysign(0.5, float_array))\n",
    "print(rounded_array)\n"
   ]
  },
  {
   "cell_type": "code",
   "execution_count": 172,
   "metadata": {},
   "outputs": [
    {
     "name": "stdout",
     "output_type": "stream",
     "text": [
      "[3 4 5]\n"
     ]
    }
   ],
   "source": [
    "# 30. How to find common values between two arrays?\n",
    "array1 = np.array([1, 2, 3, 4, 5])\n",
    "array2 = np.array([3, 4, 5, 6, 7])\n",
    "common_values = np.intersect1d(array1, array2)\n",
    "print(common_values)\n"
   ]
  },
  {
   "cell_type": "code",
   "execution_count": 173,
   "metadata": {},
   "outputs": [
    {
     "data": {
      "text/plain": [
       "{'divide': 'ignore', 'over': 'ignore', 'under': 'ignore', 'invalid': 'ignore'}"
      ]
     },
     "execution_count": 173,
     "metadata": {},
     "output_type": "execute_result"
    }
   ],
   "source": [
    "# 31. Ignore all numpy warnings (not recommended)\n",
    "np.seterr(all='ignore')"
   ]
  },
  {
   "cell_type": "code",
   "execution_count": 174,
   "metadata": {},
   "outputs": [
    {
     "data": {
      "text/plain": [
       "False"
      ]
     },
     "execution_count": 174,
     "metadata": {},
     "output_type": "execute_result"
    }
   ],
   "source": [
    "# 32. Is the following expression true?\n",
    "np.sqrt(-1) == np.emath.sqrt(-1)\n",
    "# False, as numpy's emath.sqrt returns a complex number with imaginary part while sqrt(-1) returns nan"
   ]
  },
  {
   "cell_type": "code",
   "execution_count": 175,
   "metadata": {},
   "outputs": [
    {
     "name": "stdout",
     "output_type": "stream",
     "text": [
      "Yesterday: 2024-02-09\n",
      "Today: 2024-02-10\n",
      "Tomorrow: 2024-02-11\n"
     ]
    }
   ],
   "source": [
    "# 33. Get the dates of yesterday, today, and tomorrow\n",
    "today = np.datetime64('today', 'D')\n",
    "yesterday = today - np.timedelta64(1, 'D')\n",
    "tomorrow = today + np.timedelta64(1, 'D')\n",
    "print(\"Yesterday:\", yesterday)\n",
    "print(\"Today:\", today)\n",
    "print(\"Tomorrow:\", tomorrow)"
   ]
  },
  {
   "cell_type": "code",
   "execution_count": 176,
   "metadata": {},
   "outputs": [
    {
     "name": "stdout",
     "output_type": "stream",
     "text": [
      "['2016-07-01' '2016-07-02' '2016-07-03' '2016-07-04' '2016-07-05'\n",
      " '2016-07-06' '2016-07-07' '2016-07-08' '2016-07-09' '2016-07-10'\n",
      " '2016-07-11' '2016-07-12' '2016-07-13' '2016-07-14' '2016-07-15'\n",
      " '2016-07-16' '2016-07-17' '2016-07-18' '2016-07-19' '2016-07-20'\n",
      " '2016-07-21' '2016-07-22' '2016-07-23' '2016-07-24' '2016-07-25'\n",
      " '2016-07-26' '2016-07-27' '2016-07-28' '2016-07-29' '2016-07-30'\n",
      " '2016-07-31']\n"
     ]
    }
   ],
   "source": [
    "# 34. Get all the dates corresponding to the month of July 2016\n",
    "dates_july_2016 = np.arange('2016-07', '2016-08', dtype='datetime64[D]')\n",
    "print(dates_july_2016)"
   ]
  },
  {
   "cell_type": "code",
   "execution_count": 177,
   "metadata": {},
   "outputs": [
    {
     "data": {
      "text/plain": [
       "array([-1.5, -1.5, -1.5])"
      ]
     },
     "execution_count": 177,
     "metadata": {},
     "output_type": "execute_result"
    }
   ],
   "source": [
    "# 35. Compute ((A+B)*(-A/2)) in place (without copy)\n",
    "A = np.ones(3)\n",
    "B = np.ones(3) * 2\n",
    "np.multiply(A + B, np.negative(A) / 2, out=(A + B))"
   ]
  },
  {
   "cell_type": "code",
   "execution_count": 178,
   "metadata": {},
   "outputs": [
    {
     "name": "stdout",
     "output_type": "stream",
     "text": [
      "Method 1: [9 9 9 6 3]\n",
      "Method 2: [9. 9. 9. 6. 3.]\n",
      "Method 3: [9. 9. 9. 6. 3.]\n",
      "Method 4: [9. 9. 9. 6. 3.]\n"
     ]
    }
   ],
   "source": [
    "# 36. Extract the integer part of a random array of positive numbers using 4 different methods\n",
    "random_array = np.random.uniform(0, 10, 5)\n",
    "\n",
    "method1 = random_array.astype(int)\n",
    "method2 = np.floor(random_array)\n",
    "method3 = np.ceil(random_array) - 1\n",
    "method4 = np.trunc(random_array)\n",
    "\n",
    "print(\"Method 1:\", method1)\n",
    "print(\"Method 2:\", method2)\n",
    "print(\"Method 3:\", method3)\n",
    "print(\"Method 4:\", method4)"
   ]
  },
  {
   "cell_type": "code",
   "execution_count": 179,
   "metadata": {},
   "outputs": [
    {
     "name": "stdout",
     "output_type": "stream",
     "text": [
      "[[0. 1. 2. 3. 4.]\n",
      " [0. 1. 2. 3. 4.]\n",
      " [0. 1. 2. 3. 4.]\n",
      " [0. 1. 2. 3. 4.]\n",
      " [0. 1. 2. 3. 4.]]\n"
     ]
    }
   ],
   "source": [
    "# 37. Create a 5x5 matrix with row values ranging from 0 to 4\n",
    "matrix_0_to_4 = np.zeros((5, 5)) + np.arange(5)\n",
    "print(matrix_0_to_4)"
   ]
  },
  {
   "cell_type": "code",
   "execution_count": 180,
   "metadata": {},
   "outputs": [
    {
     "name": "stdout",
     "output_type": "stream",
     "text": [
      "[0 1 2 3 4 5 6 7 8 9]\n"
     ]
    }
   ],
   "source": [
    "# 38. Consider a generator function that generates 10 integers and use it to build an array\n",
    "def generator_function():\n",
    "    for i in range(10):\n",
    "        yield i\n",
    "\n",
    "array_from_generator = np.fromiter(generator_function(), dtype=int)\n",
    "print(array_from_generator)\n"
   ]
  },
  {
   "cell_type": "code",
   "execution_count": 181,
   "metadata": {},
   "outputs": [
    {
     "name": "stdout",
     "output_type": "stream",
     "text": [
      "[0.09090909 0.18181818 0.27272727 0.36363636 0.45454545 0.54545455\n",
      " 0.63636364 0.72727273 0.81818182 0.90909091]\n"
     ]
    }
   ],
   "source": [
    "# 39. Create a vector of size 10 with values ranging from 0 to 1, both excluded\n",
    "vector_excluded = np.linspace(0, 1, 12)[1:-1]\n",
    "print(vector_excluded)"
   ]
  },
  {
   "cell_type": "code",
   "execution_count": 182,
   "metadata": {},
   "outputs": [
    {
     "name": "stdout",
     "output_type": "stream",
     "text": [
      "[0.02439483 0.19795691 0.25051549 0.25826541 0.34774548 0.49625318\n",
      " 0.55077446 0.68637411 0.7490436  0.85968102]\n"
     ]
    }
   ],
   "source": [
    "# 40. Create a random vector of size 10 and sort it\n",
    "random_vector = np.random.random(10)\n",
    "sorted_vector = np.sort(random_vector)\n",
    "print(sorted_vector)"
   ]
  },
  {
   "cell_type": "code",
   "execution_count": 183,
   "metadata": {},
   "outputs": [
    {
     "name": "stdout",
     "output_type": "stream",
     "text": [
      "45\n"
     ]
    }
   ],
   "source": [
    "# 41. How to sum a small array faster than np.sum?\n",
    "# For a small array, using np.add.reduce() is faster than np.sum().\n",
    "small_array = np.arange(10)\n",
    "sum_faster = np.add.reduce(small_array)\n",
    "print(sum_faster)"
   ]
  },
  {
   "cell_type": "code",
   "execution_count": 184,
   "metadata": {},
   "outputs": [
    {
     "name": "stdout",
     "output_type": "stream",
     "text": [
      "False\n"
     ]
    }
   ],
   "source": [
    "# 42. Consider two random arrays A and B, check if they are equal\n",
    "A = np.random.random(5)\n",
    "B = np.random.random(5)\n",
    "are_equal = np.array_equal(A, B)\n",
    "print(are_equal)"
   ]
  },
  {
   "cell_type": "code",
   "execution_count": 185,
   "metadata": {},
   "outputs": [],
   "source": [
    "# 43. Make an array immutable (read-only)\n",
    "immutable_array = np.zeros(5)\n",
    "immutable_array.flags.writeable = False"
   ]
  },
  {
   "cell_type": "code",
   "execution_count": 186,
   "metadata": {},
   "outputs": [
    {
     "name": "stdout",
     "output_type": "stream",
     "text": [
      "[[0.65814776 1.1273935 ]\n",
      " [0.63415654 0.0270626 ]\n",
      " [0.19324001 0.79665972]\n",
      " [0.97877418 0.2573607 ]\n",
      " [0.81348738 0.41341836]\n",
      " [0.70912093 1.18655002]\n",
      " [0.62675193 1.25707688]\n",
      " [0.84146012 0.67203684]\n",
      " [0.67691328 1.56429555]\n",
      " [0.64418535 1.24215297]]\n"
     ]
    }
   ],
   "source": [
    "# 44. Convert cartesian coordinates to polar coordinates\n",
    "cartesian_coordinates = np.random.random((10, 2))\n",
    "x, y = cartesian_coordinates[:, 0], cartesian_coordinates[:, 1]\n",
    "r = np.sqrt(x**2 + y**2)\n",
    "theta = np.arctan2(y, x)\n",
    "polar_coordinates = np.column_stack((r, theta))\n",
    "print(polar_coordinates)"
   ]
  },
  {
   "cell_type": "code",
   "execution_count": 187,
   "metadata": {},
   "outputs": [
    {
     "name": "stdout",
     "output_type": "stream",
     "text": [
      "[0.1782291  0.03699765 0.7364087  0.3665523  0.32141636 0.22139679\n",
      " 0.10047753 0.053982   0.04417023 0.        ]\n"
     ]
    }
   ],
   "source": [
    "# 45. Create random vector of size 10 and replace the maximum value by 0\n",
    "random_vector_max_replaced = np.random.random(10)\n",
    "random_vector_max_replaced[random_vector_max_replaced.argmax()] = 0\n",
    "print(random_vector_max_replaced)"
   ]
  },
  {
   "cell_type": "code",
   "execution_count": 188,
   "metadata": {},
   "outputs": [
    {
     "name": "stdout",
     "output_type": "stream",
     "text": [
      "[[(0.  , 0.  ) (0.25, 0.  ) (0.5 , 0.  ) (0.75, 0.  ) (1.  , 0.  )]\n",
      " [(0.  , 0.25) (0.25, 0.25) (0.5 , 0.25) (0.75, 0.25) (1.  , 0.25)]\n",
      " [(0.  , 0.5 ) (0.25, 0.5 ) (0.5 , 0.5 ) (0.75, 0.5 ) (1.  , 0.5 )]\n",
      " [(0.  , 0.75) (0.25, 0.75) (0.5 , 0.75) (0.75, 0.75) (1.  , 0.75)]\n",
      " [(0.  , 1.  ) (0.25, 1.  ) (0.5 , 1.  ) (0.75, 1.  ) (1.  , 1.  )]]\n"
     ]
    }
   ],
   "source": [
    "# 46. Create a structured array with x and y coordinates covering the [0,1]x[0,1] area\n",
    "structured_array = np.zeros((5, 5), dtype=[('x', float), ('y', float)])\n",
    "structured_array['x'], structured_array['y'] = np.meshgrid(np.linspace(0, 1, 5), np.linspace(0, 1, 5))\n",
    "print(structured_array)"
   ]
  },
  {
   "cell_type": "code",
   "execution_count": 189,
   "metadata": {},
   "outputs": [
    {
     "name": "stdout",
     "output_type": "stream",
     "text": [
      "[[-0.2        -0.16666667 -0.14285714 -0.125      -0.11111111]\n",
      " [-0.25       -0.2        -0.16666667 -0.14285714 -0.125     ]\n",
      " [-0.33333333 -0.25       -0.2        -0.16666667 -0.14285714]\n",
      " [-0.5        -0.33333333 -0.25       -0.2        -0.16666667]\n",
      " [-1.         -0.5        -0.33333333 -0.25       -0.2       ]]\n"
     ]
    }
   ],
   "source": [
    "# 47. Given two arrays, X and Y, construct the Cauchy matrix C (Cij = 1/(xi - yj))\n",
    "X = np.arange(1, 6)\n",
    "Y = X + 5\n",
    "Cauchy_matrix = 1 / (X[:, np.newaxis] - Y)\n",
    "print(Cauchy_matrix)"
   ]
  },
  {
   "cell_type": "code",
   "execution_count": 246,
   "metadata": {},
   "outputs": [
    {
     "name": "stdout",
     "output_type": "stream",
     "text": [
      "int8: Min=-128, Max=127\n",
      "int16: Min=-32768, Max=32767\n",
      "int32: Min=-2147483648, Max=2147483647\n",
      "int64: Min=-9223372036854775808, Max=9223372036854775807\n",
      "uint8: Min=0, Max=255\n",
      "uint16: Min=0, Max=65535\n",
      "uint32: Min=0, Max=4294967295\n",
      "uint64: Min=0, Max=18446744073709551615\n",
      "float16: Min=-65504.0, Max=65504.0\n",
      "float32: Min=-3.4028234663852886e+38, Max=3.4028234663852886e+38\n",
      "float64: Min=-1.7976931348623157e+308, Max=1.7976931348623157e+308\n"
     ]
    }
   ],
   "source": [
    "for dtype in np.sctypes['int'] + np.sctypes['uint'] + np.sctypes['float']:\n",
    "    if np.issubdtype(dtype, np.integer):\n",
    "        info = np.iinfo(dtype)\n",
    "        print(f\"{dtype.__name__}: Min={info.min}, Max={info.max}\")\n",
    "    elif np.issubdtype(dtype, np.floating):\n",
    "        info = np.finfo(dtype)\n",
    "        print(f\"{dtype.__name__}: Min={info.min}, Max={info.max}\")\n",
    "    else:\n",
    "        print(f\"{dtype.__name__}: Not an integer or float type\")"
   ]
  },
  {
   "cell_type": "code",
   "execution_count": null,
   "metadata": {},
   "outputs": [
    {
     "name": "stdout",
     "output_type": "stream",
     "text": [
      "[[ 0  1  2  3  4  5  6  7  8  9]\n",
      " [10 11 12 13 14 15 16 17 18 19]\n",
      " [20 21 22 23 24 25 26 27 28 29]\n",
      " [30 31 32 33 34 35 36 37 38 39]\n",
      " [40 41 42 43 44 45 46 47 48 49]\n",
      " [50 51 52 53 54 55 56 57 58 59]\n",
      " [60 61 62 63 64 65 66 67 68 69]\n",
      " [70 71 72 73 74 75 76 77 78 79]\n",
      " [80 81 82 83 84 85 86 87 88 89]\n",
      " [90 91 92 93 94 95 96 97 98 99]]\n"
     ]
    }
   ],
   "source": [
    "# 49. How to print all the values of an array?\n",
    "np.set_printoptions(threshold=np.inf)\n",
    "print(np.arange(100).reshape(10, 10))"
   ]
  },
  {
   "cell_type": "code",
   "execution_count": 191,
   "metadata": {},
   "outputs": [
    {
     "name": "stdout",
     "output_type": "stream",
     "text": [
      "0.5055368930204434\n"
     ]
    }
   ],
   "source": [
    "# 50. Find the closest value (to a given scalar) in a vector\n",
    "vector = np.random.random(10)\n",
    "scalar = 0.5\n",
    "closest_value = vector[(np.abs(vector - scalar)).argmin()]\n",
    "print(closest_value)"
   ]
  },
  {
   "cell_type": "code",
   "execution_count": 192,
   "metadata": {},
   "outputs": [
    {
     "name": "stdout",
     "output_type": "stream",
     "text": [
      "[((0., 0.), (0., 0., 0.)) ((0., 0.), (0., 0., 0.))\n",
      " ((0., 0.), (0., 0., 0.)) ((0., 0.), (0., 0., 0.))\n",
      " ((0., 0.), (0., 0., 0.))]\n"
     ]
    }
   ],
   "source": [
    "# 51. Create a structured array representing a position (x, y) and a color (r, g, b)\n",
    "structured_array_position_color = np.zeros(5, dtype=[('position', [('x', float), ('y', float)]),\n",
    "                                                     ('color', [('r', float), ('g', float), ('b', float)])])\n",
    "print(structured_array_position_color)"
   ]
  },
  {
   "cell_type": "code",
   "execution_count": 193,
   "metadata": {},
   "outputs": [
    {
     "name": "stdout",
     "output_type": "stream",
     "text": [
      "[[0.         0.16744063 0.35380704 0.19981619 0.83549514 0.28343898\n",
      "  0.27398801 0.7028817  0.30948746 0.41457714 0.58044319 0.37425098\n",
      "  0.10840121 0.44165234 0.47630023 0.59627774 0.57861031 0.62525914\n",
      "  0.62222974 0.22879388 0.67683565 0.20374005 0.38191775 0.47066919\n",
      "  0.40826509 0.31061346 0.65660065 0.45763041 0.33159185 0.48431749\n",
      "  0.17732793 0.59454825 0.29078951 0.27747299 0.41253659 0.57704224\n",
      "  0.64580391 0.78726891 0.52080096 0.03793207 0.58087336 0.36505431\n",
      "  0.29512423 0.4688248  0.38806752 0.20235616 0.33141472 0.31553693\n",
      "  0.2635565  0.41811919 0.82978296 0.71828906 0.37419471 0.15368104\n",
      "  0.40080727 0.30700367 0.79385269 0.4424628  0.33983078 0.25478553\n",
      "  0.53343168 0.51566114 0.53195515 0.26663308 0.78048313 0.59700489\n",
      "  0.50187572 0.29789115 0.61489324 0.45791582 0.73396478 0.48678475\n",
      "  0.09777597 0.19083691 0.47592706 0.14928037 0.45313784 0.69180789\n",
      "  0.59188191 0.90103564 0.61816588 0.28734637 0.43498799 0.81403529\n",
      "  0.53936055 0.22728721 0.39488111 0.2917567  0.56100834 0.478469\n",
      "  0.90928654 0.71017122 0.78402283 0.42883601 0.32223291 0.84028711\n",
      "  0.17774674 0.67043398 0.58499302 0.53706515]\n",
      " [0.16744063 0.         0.51034239 0.2784653  0.97423559 0.23638229\n",
      "  0.20170142 0.85964943 0.47659421 0.56446876 0.73174787 0.48809363\n",
      "  0.13099773 0.60849491 0.60903925 0.67741069 0.70874376 0.77414514\n",
      "  0.75482285 0.18269726 0.83711316 0.24263507 0.39301933 0.63746427\n",
      "  0.40675896 0.47521164 0.75205255 0.61882656 0.46912511 0.65089453\n",
      "  0.1574515  0.68189905 0.29378046 0.3815117  0.57100434 0.74107273\n",
      "  0.80275799 0.94997073 0.6807082  0.13763472 0.72964618 0.3705334\n",
      "  0.36680584 0.59465142 0.55518026 0.35632103 0.3289722  0.24711778\n",
      "  0.35353575 0.47393351 0.97582178 0.85998095 0.33448117 0.21736685\n",
      "  0.45020374 0.4255823  0.95684546 0.57317158 0.33621832 0.3090841\n",
      "  0.68816775 0.65812695 0.69184302 0.22691747 0.94588409 0.66548025\n",
      "  0.66595319 0.28652307 0.70844232 0.59750957 0.90057511 0.59994962\n",
      "  0.16243761 0.28594632 0.60618974 0.20025628 0.59664478 0.81129467\n",
      "  0.62717013 1.05336964 0.70193257 0.27230896 0.50814649 0.98000664\n",
      "  0.70159228 0.35220778 0.51035708 0.39927105 0.68118169 0.49656344\n",
      "  1.05701454 0.87412334 0.9224178  0.58369828 0.26704568 0.98553565\n",
      "  0.01417956 0.81499243 0.6963838  0.70122796]\n",
      " [0.35380704 0.51034239 0.         0.29541491 0.74059466 0.48460989\n",
      "  0.50910931 0.34966046 0.17510388 0.36703529 0.22834617 0.4737722\n",
      "  0.45355545 0.22793823 0.47801762 0.70916852 0.26896799 0.27502354\n",
      "  0.30196879 0.56726828 0.32762712 0.49765843 0.6494677  0.17998367\n",
      "  0.68399102 0.08197181 0.72505098 0.31570638 0.1046047  0.26241454\n",
      "  0.423855   0.69390399 0.58674948 0.44701151 0.31307651 0.37120741\n",
      "  0.48628925 0.44337385 0.17176448 0.39133347 0.2315277  0.64193228\n",
      "  0.51209558 0.19602131 0.19152148 0.15402186 0.44226981 0.52745311\n",
      "  0.46630802 0.61863367 0.48033475 0.37582057 0.5215158  0.33338069\n",
      "  0.61564264 0.17649261 0.56862272 0.46357664 0.44767828 0.51166564\n",
      "  0.41403605 0.46556974 0.18276393 0.46851571 0.53114098 0.73601236\n",
      "  0.17190175 0.44292465 0.69567558 0.14190057 0.47013718 0.24795651\n",
      "  0.42874913 0.27057122 0.18616009 0.35075416 0.12522208 0.68657705\n",
      "  0.7902337  0.73683237 0.72115113 0.44432718 0.60140289 0.4862975\n",
      "  0.36123256 0.19086042 0.48140907 0.21094205 0.58053294 0.71950024\n",
      "  0.76737527 0.37183032 0.69691412 0.34635964 0.51435073 0.7168132\n",
      "  0.52291907 0.32488904 0.62511868 0.33886646]\n",
      " [0.19981619 0.2784653  0.29541491 0.         0.94835379 0.18930377\n",
      "  0.21503033 0.62368061 0.35727197 0.5258676  0.48731295 0.53914957\n",
      "  0.29844616 0.47660401 0.61337361 0.77526346 0.43822865 0.52379\n",
      "  0.48541158 0.41444595 0.6125879  0.40354714 0.58172878 0.46439599\n",
      "  0.60773312 0.30206044 0.82469442 0.53046096 0.21802292 0.51912852\n",
      "  0.14273882 0.76983732 0.48961021 0.45689495 0.50017457 0.62663445\n",
      "  0.72253076 0.73173767 0.46189072 0.22705213 0.4804944  0.5646823\n",
      "  0.48801724 0.3234589  0.42410459 0.17187223 0.1688556  0.23216844\n",
      "  0.45138434 0.61188106 0.71713662 0.59756394 0.23927851 0.06113126\n",
      "  0.5965247  0.15667836 0.8396854  0.58448409 0.17640982 0.4529092\n",
      "  0.62322172 0.63464043 0.47230463 0.17310081 0.81114772 0.7824213\n",
      "  0.46720328 0.15530265 0.78546868 0.339751   0.75423782 0.32273688\n",
      "  0.29620378 0.02702539 0.33808745 0.0784911  0.34455937 0.8364038\n",
      "  0.78811158 0.98262847 0.79509107 0.15343528 0.62229025 0.7809001\n",
      "  0.60117424 0.1046579  0.55694267 0.12451563 0.70953545 0.67784822\n",
      "  1.00213476 0.66439215 0.89894228 0.52623287 0.22049696 0.9404074\n",
      "  0.29264475 0.55697548 0.74170018 0.58838656]\n",
      " [0.83549514 0.97423559 0.74059466 0.94835379 0.         1.10699616\n",
      "  1.10634842 0.77751735 0.59864974 0.42526396 0.79869228 0.49621487\n",
      "  0.84515778 0.51334663 0.36559642 0.44377165 0.93974466 0.83210149\n",
      "  0.94418089 0.86896476 0.72254886 0.76093088 0.73511846 0.58681744\n",
      "  0.76079834 0.68014839 0.35525196 0.42854914 0.84068352 0.48423913\n",
      "  1.00632236 0.41831526 0.77763314 0.60162094 0.44932798 0.38740977\n",
      "  0.26351823 0.71489125 0.70323742 0.84852221 0.81992435 0.75213086\n",
      "  0.64498317 0.92010544 0.55124095 0.7836046  1.11714671 1.14436456\n",
      "  0.63679591 0.60799439 0.94489488 0.92615318 1.18278607 0.94533831\n",
      "  0.63314024 0.90125973 0.32162772 0.40184651 1.1247588  0.70411914\n",
      "  0.33014946 0.31998109 0.70412811 1.08910361 0.38474389 0.49610092\n",
      "  0.64459885 1.09841654 0.38218591 0.85057514 0.42827999 0.9780274\n",
      "  0.81211315 0.9224637  0.90232803 0.95310148 0.82763205 0.21428145\n",
      "  0.62720159 0.17161585 0.42418657 1.09265679 0.55064159 0.63788435\n",
      "  0.38231663 0.87155982 0.47407335 0.92650804 0.3133258  0.69760436\n",
      "  0.12534913 0.66487331 0.05181966 0.42213984 1.14535363 0.06705679\n",
      "  0.97771435 0.88350794 0.3249488  0.40932074]\n",
      " [0.28343898 0.23638229 0.48460989 0.18930377 1.10699616 0.\n",
      "  0.04611684 0.80534936 0.53320081 0.68181867 0.66727236 0.65768498\n",
      "  0.33307467 0.65867764 0.75510485 0.87590236 0.59670367 0.69999449\n",
      "  0.64428203 0.41714307 0.79784824 0.45485331 0.62151685 0.65266535\n",
      "  0.63872352 0.48826497 0.93939282 0.70278483 0.40209747 0.70184684\n",
      "  0.10644902 0.87572748 0.52203484 0.55963884 0.66641704 0.80714588\n",
      "  0.89574876 0.91763553 0.64952006 0.28623786 0.65818217 0.60014899\n",
      "  0.56769445 0.4853308  0.6049585  0.35510502 0.10761949 0.04286558\n",
      "  0.5420497  0.68600285 0.88420992 0.76284652 0.09895301 0.16588013\n",
      "  0.66509662 0.33281359 1.02257905 0.72249134 0.11249195 0.51763433\n",
      "  0.79043813 0.78784736 0.65973559 0.01798531 0.9968535  0.87240621\n",
      "  0.65645931 0.0685159  0.89731596 0.51558067 0.94124881 0.46829997\n",
      "  0.35041271 0.21494926 0.50393199 0.15505325 0.52381614 0.97362396\n",
      "  0.85054334 1.15566453 0.89860069 0.05641939 0.71066867 0.96941266\n",
      "  0.77803894 0.29375055 0.6782418  0.29563556 0.84319354 0.72459347\n",
      "  1.17073925 0.85210018 1.05622607 0.68881336 0.03890584 1.10546589\n",
      "  0.24703981 0.72713991 0.8682837  0.76804593]\n",
      " [0.27398801 0.20170142 0.50910931 0.21503033 1.10634842 0.04611684\n",
      "  0.         0.83725605 0.5437005  0.68222502 0.69989934 0.64635699\n",
      "  0.30931439 0.67197059 0.74990504 0.85804416 0.63549709 0.73423475\n",
      "  0.68313891 0.3842557  0.82744439 0.43071311 0.59236827 0.67219934\n",
      "  0.60773194 0.50600742 0.92489184 0.71008747 0.43211564 0.71540558\n",
      "  0.10046597 0.85921984 0.49276084 0.5453945  0.67112492 0.81868646\n",
      "  0.90259009 0.9467239  0.67684593 0.27074174 0.69177719 0.57040949\n",
      "  0.54771869 0.52295538 0.61773205 0.37215024 0.15373428 0.04599554\n",
      "  0.52508782 0.66332048 0.92159821 0.80051976 0.13496602 0.1796893\n",
      "  0.6414005  0.36565202 1.03530031 0.71633725 0.15852    0.49511369\n",
      "  0.79478489 0.78645004 0.68729439 0.05059125 1.01221557 0.85194869\n",
      "  0.68027019 0.11412935 0.88226415 0.5495479  0.95823134 0.50872796\n",
      "  0.33021925 0.2387056  0.54074047 0.16519953 0.55649216 0.96567527\n",
      "  0.82407614 1.1616661  0.88134278 0.10126735 0.69103808 0.99527697\n",
      "  0.78739811 0.31925601 0.66747437 0.32936291 0.83479535 0.69583596\n",
      "  1.17440556 0.8792741  1.05518197 0.69178797 0.06613646 1.10761231\n",
      "  0.21102765 0.76342981 0.85757617 0.77917211]\n",
      " [0.7028817  0.85964943 0.34966046 0.62368061 0.77751735 0.80534936\n",
      "  0.83725605 0.         0.45094051 0.56919779 0.13872027 0.72942915\n",
      "  0.79974346 0.37901057 0.6711254  0.92719488 0.2646202  0.11818562\n",
      "  0.23569465 0.90930628 0.05561845 0.82865813 0.95974097 0.287725\n",
      "  0.99578486 0.4002083  0.90942733 0.46815265 0.40565953 0.3696039\n",
      "  0.76232456 0.90512888 0.91274851 0.74198776 0.50513388 0.41316312\n",
      "  0.52611644 0.13185336 0.1848939  0.74013435 0.15139325 0.95683494\n",
      "  0.81484956 0.33993582 0.39894163 0.50351335 0.73774903 0.84687666\n",
      "  0.7706169  0.90007937 0.17597173 0.15856582 0.81783114 0.67166769\n",
      "  0.90448042 0.47253626 0.48754608 0.6749598  0.74076905 0.82943699\n",
      "  0.53101277 0.62295588 0.17403319 0.7914188  0.4242553  0.96752247\n",
      "  0.22410426 0.75133293 0.89374595 0.29189483 0.36307156 0.38437953\n",
      "  0.77272854 0.60269082 0.31686313 0.69000302 0.28166459 0.81967768\n",
      "  1.05286253 0.69512044 0.93072442 0.75662917 0.86753755 0.2209907\n",
      "  0.44456485 0.52278826 0.72790149 0.50985875 0.75738955 1.01181501\n",
      "  0.74649812 0.12126548 0.75129796 0.53238057 0.82860062 0.7276637\n",
      "  0.87236081 0.13434275 0.80708335 0.41287594]\n",
      " [0.30948746 0.47659421 0.17510388 0.35727197 0.59864974 0.53320081\n",
      "  0.5437005  0.45094051 0.         0.19617631 0.36335455 0.30261239\n",
      "  0.3809428  0.13238995 0.30495124 0.5346038  0.4393242  0.4121647\n",
      "  0.46733145 0.47537762 0.41106968 0.38367531 0.50907054 0.17527451\n",
      "  0.54502556 0.09486504 0.55041063 0.17365463 0.25553688 0.17549573\n",
      "  0.44511576 0.51894966 0.4639042  0.2932533  0.15115115 0.27505304\n",
      "  0.36525919 0.50626551 0.27055491 0.33999992 0.37423396 0.50589455\n",
      "  0.36480501 0.37075959 0.07858952 0.18700338 0.52510447 0.574306\n",
      "  0.32007793 0.45880162 0.60943617 0.52113447 0.5962726  0.3673443\n",
      "  0.45968024 0.30631735 0.49210616 0.28883152 0.53226119 0.37894099\n",
      "  0.26921328 0.30069146 0.28034159 0.51535354 0.47324167 0.56292365\n",
      "  0.22766016 0.51182609 0.5206074  0.31559256 0.42475107 0.42068456\n",
      "  0.34863487 0.33046944 0.36123654 0.37944746 0.29685193 0.51935839\n",
      "  0.62441058 0.62539185 0.54619441 0.5083419  0.43506451 0.51686555\n",
      "  0.24496723 0.27325078 0.30844822 0.32882045 0.4078351  0.5663218\n",
      "  0.64547528 0.42533825 0.55117758 0.18222016 0.56932639 0.58560268\n",
      "  0.48620797 0.46829734 0.45128706 0.23547311]\n",
      " [0.41457714 0.56446876 0.36703529 0.5258676  0.42526396 0.68181867\n",
      "  0.68222502 0.56919779 0.19617631 0.         0.51732798 0.17351673\n",
      "  0.44168614 0.19111667 0.11215137 0.36135245 0.61967189 0.5636611\n",
      "  0.64129373 0.49604503 0.51884206 0.38661649 0.44338936 0.28653449\n",
      "  0.4786025  0.2900849  0.36148472 0.10699065 0.45170187 0.20238613\n",
      "  0.58192723 0.34146414 0.43785353 0.23605862 0.06446947 0.22366652\n",
      "  0.2433276  0.5834461  0.41418254 0.43184864 0.53297955 0.44953043\n",
      "  0.30572653 0.56273134 0.18873996 0.36756032 0.69410584 0.71950287\n",
      "  0.2747131  0.35081566 0.74198948 0.67339714 0.75804725 0.5202372\n",
      "  0.3626396  0.49980576 0.41416761 0.1066209  0.70188828 0.34905644\n",
      "  0.12727595 0.10901334 0.42110066 0.66390963 0.42234421 0.39894873\n",
      "  0.35633894 0.6738808  0.3364567  0.50268766 0.39825422 0.61476792\n",
      "  0.40703088 0.50062039 0.55108526 0.5278401  0.48206594 0.32349513\n",
      "  0.48657012 0.48890667 0.36814296 0.66779024 0.30806719 0.56056796\n",
      "  0.17463883 0.45720518 0.16544963 0.51917158 0.21372658 0.46641774\n",
      "  0.49477613 0.50439518 0.37477168 0.03912436 0.7201238  0.42593083\n",
      "  0.57006724 0.62144535 0.25956794 0.19329715]\n",
      " [0.58044319 0.73174787 0.22834617 0.48731295 0.79869228 0.66727236\n",
      "  0.69989934 0.13872027 0.36335455 0.51732798 0.         0.66076293\n",
      "  0.68170382 0.3299275  0.62700377 0.87825361 0.15387507 0.04888208\n",
      "  0.14658733 0.79555494 0.14516936 0.72322583 0.86734561 0.23427136\n",
      "  0.90270953 0.29338566 0.87448102 0.42911396 0.269772   0.33684104\n",
      "  0.62738976 0.85878224 0.8108547  0.65564544 0.45349834 0.41335892\n",
      "  0.53626288 0.26197854 0.10405897 0.61822323 0.02221666 0.86180397\n",
      "  0.72546009 0.20480778 0.33110963 0.37837706 0.59906651 0.7086201\n",
      "  0.67999642 0.82209165 0.2525303  0.15824362 0.67920381 0.53719407\n",
      "  0.82291651 0.33455331 0.54395644 0.62351342 0.60213427 0.73208064\n",
      "  0.5106842  0.59136728 0.0990916  0.65357076 0.4874131  0.91322342\n",
      "  0.16477767 0.61270796 0.85279739 0.1531849  0.42172078 0.25415761\n",
      "  0.65709387 0.46722054 0.18119172 0.55571064 0.14348618 0.80392669\n",
      "  0.98522654 0.74431531 0.8854673  0.61813161 0.79640726 0.33703701\n",
      "  0.43095118 0.38825298 0.66316388 0.37164876 0.72240062 0.92930249\n",
      "  0.78913869 0.21796921 0.76496165 0.48487077 0.69008423 0.75759256\n",
      "  0.74485556 0.1054234  0.77118265 0.39975507]\n",
      " [0.37425098 0.48809363 0.4737722  0.53914957 0.49621487 0.65768498\n",
      "  0.64635699 0.72942915 0.30261239 0.17351673 0.66076293 0.\n",
      "  0.35711648 0.35197297 0.138058   0.24258152 0.74128536 0.70897395\n",
      "  0.76994384 0.37299204 0.6817431  0.26475709 0.27580561 0.44190675\n",
      "  0.30977168 0.3918173  0.28575039 0.27980023 0.53466205 0.37127619\n",
      "  0.55152493 0.23304835 0.28950877 0.10712243 0.23083701 0.39528343\n",
      "  0.39033844 0.75370891 0.56169065 0.37619165 0.67354593 0.28515031\n",
      "  0.15288666 0.66518147 0.33250236 0.41649392 0.69649006 0.68913739\n",
      "  0.14065307 0.1773622  0.89812525 0.81897461 0.74688899 0.51397965\n",
      "  0.1895336  0.56294421 0.56979274 0.10330274 0.70482376 0.20922017\n",
      "  0.28256579 0.20626112 0.57010588 0.64080849 0.58668683 0.26313005\n",
      "  0.50875155 0.66741642 0.24637721 0.6156496  0.5683715  0.70974095\n",
      "  0.32658616 0.51844686 0.65853563 0.51553573 0.59803074 0.32329392\n",
      "  0.32486701 0.60324979 0.25939427 0.65817184 0.13818985 0.73388215\n",
      "  0.34618368 0.50082365 0.02243752 0.5716112  0.19314559 0.29294083\n",
      "  0.59376388 0.67365281 0.44491162 0.21242848 0.69648358 0.51861022\n",
      "  0.48966241 0.76618489 0.21125875 0.36657712]\n",
      " [0.10840121 0.13099773 0.45355545 0.29844616 0.84515778 0.33307467\n",
      "  0.30931439 0.79974346 0.3809428  0.44168614 0.68170382 0.35711648\n",
      "  0.         0.50869901 0.47961057 0.551414   0.68623243 0.72756285\n",
      "  0.72941146 0.12040873 0.7703034  0.12180939 0.29287077 0.55199363\n",
      "  0.31466032 0.40131474 0.62322459 0.5054664  0.43896144 0.54922999\n",
      "  0.23151187 0.55444041 0.19553165 0.25052343 0.45495489 0.63119591\n",
      "  0.68319792 0.87687628 0.6157207  0.07310494 0.6834347  0.27321001\n",
      "  0.24004761 0.57703256 0.45795093 0.30635515 0.40468107 0.35500137\n",
      "  0.22326145 0.35401543 0.93270151 0.8231036  0.43105535 0.24402777\n",
      "  0.33236494 0.4152423  0.8437794  0.4435179  0.41285064 0.18582927\n",
      "  0.56751257 0.53111114 0.62680723 0.31914531 0.83794419 0.54308333\n",
      "  0.59091064 0.36585357 0.57982623 0.56423074 0.79707311 0.59506954\n",
      "  0.03482173 0.29376669 0.58375047 0.23385048 0.55841176 0.68029757\n",
      "  0.51774759 0.9294759  0.57539473 0.35312066 0.38304606 0.89624721\n",
      "  0.58888872 0.33559348 0.37939729 0.39888263 0.55022812 0.39438889\n",
      "  0.93073994 0.79794347 0.79334551 0.4641371  0.36927681 0.85840533\n",
      "  0.13290249 0.77440527 0.56555215 0.59196934]\n",
      " [0.44165234 0.60849491 0.22793823 0.47660401 0.51334663 0.65867764\n",
      "  0.67197059 0.37901057 0.13238995 0.19111667 0.3299275  0.35197297\n",
      "  0.50869901 0.         0.29793363 0.55191867 0.44596475 0.37491549\n",
      "  0.46164434 0.59578368 0.33003703 0.49695824 0.59906394 0.09621123\n",
      "  0.63532071 0.17832585 0.54456979 0.10019928 0.33030637 0.04352147\n",
      "  0.57458978 0.5312504  0.56929853 0.37924558 0.1266782  0.15048328\n",
      "  0.25889475 0.40551739 0.22592706 0.47146776 0.34703118 0.59999432\n",
      "  0.45373116 0.40933097 0.05452791 0.30495095 0.64083671 0.70050532\n",
      "  0.41284786 0.52595272 0.55098253 0.48397659 0.71541316 0.4936023\n",
      "  0.53297198 0.39614656 0.36390268 0.29762277 0.64745792 0.48052408\n",
      "  0.19189331 0.26252428 0.23195897 0.64103601 0.34151943 0.59006177\n",
      "  0.16638793 0.63187978 0.52359768 0.34179423 0.292381   0.4663268\n",
      "  0.47539303 0.44958205 0.39316558 0.50690656 0.31927762 0.47962668\n",
      "  0.67408508 0.51352002 0.55758924 0.62974655 0.49011745 0.4001358\n",
      "  0.13351877 0.38271422 0.34929881 0.42574782 0.39249114 0.63989868\n",
      "  0.54098541 0.32439694 0.47078816 0.15608845 0.69367324 0.48895077\n",
      "  0.61786341 0.43258159 0.44126247 0.11383637]\n",
      " [0.47630023 0.60903925 0.47801762 0.61337361 0.36559642 0.75510485\n",
      "  0.74990504 0.6711254  0.30495124 0.11215137 0.62700377 0.138058\n",
      "  0.47961057 0.29793363 0.         0.25614863 0.73178396 0.67263913\n",
      "  0.75300421 0.50830626 0.61900083 0.3986575  0.4076734  0.39413756\n",
      "  0.43979925 0.3996803  0.24940747 0.20301708 0.55938481 0.30152439\n",
      "  0.65128075 0.23412326 0.42755398 0.23829954 0.17391764 0.29095373\n",
      "  0.26013486 0.67325858 0.52331838 0.48603712 0.64324359 0.41932459\n",
      "  0.29093601 0.67396418 0.30052945 0.46507863 0.77897612 0.79014658\n",
      "  0.27520598 0.29443299 0.84569255 0.78189199 0.83771565 0.59973351\n",
      "  0.31302101 0.60327217 0.44068663 0.03648872 0.78703792 0.34637369\n",
      "  0.16483688 0.0724498  0.52972377 0.73752147 0.46451908 0.29867092\n",
      "  0.46430312 0.75493917 0.22580027 0.6146266  0.45518803 0.72525958\n",
      "  0.44673481 0.58952249 0.66274345 0.60481982 0.59411528 0.22323026\n",
      "  0.40051563 0.46530439 0.26006958 0.74745124 0.24178715 0.63917653\n",
      "  0.24441532 0.55450138 0.1181469  0.6198675  0.10291198 0.40646482\n",
      "  0.45736698 0.59689153 0.31380166 0.14213955 0.79393845 0.38284757\n",
      "  0.61227103 0.73036611 0.14747971 0.27150579]\n",
      " [0.59627774 0.67741069 0.70916852 0.77526346 0.44377165 0.87590236\n",
      "  0.85804416 0.92719488 0.5346038  0.36135245 0.87825361 0.24258152\n",
      "  0.551414   0.55191867 0.25614863 0.         0.97292486 0.92488255\n",
      "  0.99806189 0.52101428 0.87514939 0.43489193 0.33252441 0.64775158\n",
      "  0.34791561 0.62751317 0.09557243 0.45904235 0.77582438 0.55760001\n",
      "  0.76976931 0.0273717  0.40761907 0.31988541 0.42569317 0.53929536\n",
      "  0.47764747 0.92681523 0.77542591 0.58966566 0.89339338 0.35453488\n",
      "  0.31138239 0.90329778 0.54776252 0.65903269 0.92625389 0.90289205\n",
      "  0.33387422 0.21201196 1.1015028  1.03470693 0.96976916 0.74444653\n",
      "  0.23898064 0.8055246  0.64795394 0.25482917 0.9346641  0.36839219\n",
      "  0.4105623  0.31212927 0.78243752 0.8600572  0.68646171 0.05378831\n",
      "  0.71766069 0.89406961 0.06160083 0.8501934  0.69055706 0.94976736\n",
      "  0.52791544 0.75605625 0.89518927 0.74360917 0.83131697 0.22957422\n",
      "  0.18407454 0.59905676 0.02611753 0.88362379 0.16938423 0.88677753\n",
      "  0.49567033 0.74273332 0.23017804 0.81387157 0.18472169 0.26660408\n",
      "  0.56620475 0.85169758 0.40353184 0.39600037 0.913941   0.49357047\n",
      "  0.67518297 0.98266442 0.14115379 0.52462499]\n",
      " [0.57861031 0.70874376 0.26896799 0.43822865 0.93974466 0.59670367\n",
      "  0.63549709 0.2646202  0.4393242  0.61967189 0.15387507 0.74128536\n",
      "  0.68623243 0.44596475 0.73178396 0.97292486 0.         0.14790615\n",
      "  0.04764699 0.80572458 0.29007915 0.75132193 0.91224522 0.35730945\n",
      "  0.94582781 0.35024551 0.98115638 0.54574029 0.2473292  0.46304909\n",
      "  0.58046012 0.95614339 0.84239936 0.715212   0.55919405 0.55233872\n",
      "  0.67622863 0.39640433 0.23685165 0.61600555 0.1319313  0.90292768\n",
      "  0.77847625 0.11479323 0.43164775 0.3838866  0.51172746 0.63480072\n",
      "  0.73282189 0.88727482 0.28966852 0.16833339 0.58814479 0.49637093\n",
      "  0.8836183  0.28365972 0.69650005 0.7221485  0.51294605 0.77319865\n",
      "  0.63602808 0.70681434 0.23700658 0.58588121 0.64087919 1.00224028\n",
      "  0.2952562  0.53428302 0.95492992 0.12885878 0.57507623 0.1331561\n",
      "  0.66785182 0.42496489 0.10303703 0.51490163 0.14375602 0.92552425\n",
      "  1.05919127 0.89463181 0.98331595 0.54262535 0.87028179 0.48128341\n",
      "  0.56287802 0.35742316 0.7477538  0.31372532 0.83193821 0.98644702\n",
      "  0.93760369 0.36637311 0.90311743 0.59233232 0.61241204 0.90230042\n",
      "  0.72269031 0.14394811 0.87897255 0.53319003]\n",
      " [0.62525914 0.77414514 0.27502354 0.52379    0.83210149 0.69999449\n",
      "  0.73423475 0.11818562 0.4121647  0.5636611  0.04888208 0.70897395\n",
      "  0.72756285 0.37491549 0.67263913 0.92488255 0.14790615 0.\n",
      "  0.12577524 0.84220346 0.14325092 0.77117202 0.91611409 0.27878869\n",
      "  0.95144609 0.34186492 0.91929148 0.4732603  0.30817652 0.37917236\n",
      "  0.6651759  0.90508666 0.85908777 0.70452561 0.4995781  0.4497198\n",
      "  0.57126969 0.24926717 0.14947915 0.66312678 0.04452581 0.91046903\n",
      "  0.77432354 0.22441089 0.37850439 0.4229205  0.62698439 0.74069842\n",
      "  0.72884837 0.87085464 0.20533183 0.11014788 0.70640362 0.5756737\n",
      "  0.871764   0.3687322  0.56613932 0.67005969 0.62953137 0.78067628\n",
      "  0.55204772 0.63504481 0.14295662 0.68693227 0.50696413 0.96045506\n",
      "  0.20867789 0.64316013 0.89841193 0.18468855 0.4421165  0.26655423\n",
      "  0.70353252 0.50490044 0.20204681 0.59430714 0.1796558  0.8454351\n",
      "  1.03357272 0.76972768 0.93167028 0.6493749  0.84486713 0.33346101\n",
      "  0.47046946 0.42726952 0.71108654 0.40491005 0.76695616 0.97817294\n",
      "  0.81666577 0.22019226 0.8001184  0.53053055 0.72109224 0.7885929\n",
      "  0.78741843 0.05778458 0.8159676  0.43889527]\n",
      " [0.62222974 0.75482285 0.30196879 0.48541158 0.94418089 0.64428203\n",
      "  0.68313891 0.23569465 0.46733145 0.64129373 0.14658733 0.76994384\n",
      "  0.72941146 0.46164434 0.75300421 0.99806189 0.04764699 0.12577524\n",
      "  0.         0.84846073 0.2683846  0.79124448 0.94956658 0.36935827\n",
      "  0.98355843 0.38160811 1.00227595 0.56184334 0.29064263 0.47468868\n",
      "  0.62777319 0.98039313 0.8819826  0.74892375 0.57937511 0.55772009\n",
      "  0.6811921  0.36701706 0.24259309 0.65980239 0.12474596 0.94094457\n",
      "  0.81382024 0.1619854  0.45255754 0.42529813 0.55870558 0.68227733\n",
      "  0.76805658 0.92021732 0.24320975 0.1225543  0.63470547 0.5432551\n",
      "  0.91757976 0.33032425 0.68895946 0.74539317 0.55979452 0.81088953\n",
      "  0.64880882 0.72401245 0.2405447  0.63350636 0.63099539 1.02915265\n",
      "  0.30330542 0.58168526 0.97759526 0.16698768 0.56570901 0.1793073\n",
      "  0.71014756 0.47174317 0.148636   0.56182456 0.1780674  0.94060791\n",
      "  1.09033295 0.89052783 1.00745771 0.59011771 0.90106212 0.45591103\n",
      "  0.57224302 0.40299214 0.77531455 0.36095376 0.85172315 1.0214124\n",
      "  0.93568942 0.34545623 0.90947928 0.61207189 0.65976864 0.90391944\n",
      "  0.76872518 0.10598648 0.89950014 0.54167149]\n",
      " [0.22879388 0.18269726 0.56726828 0.41444595 0.86896476 0.41714307\n",
      "  0.3842557  0.90930628 0.47537762 0.49604503 0.79555494 0.37299204\n",
      "  0.12040873 0.59578368 0.50830626 0.52101428 0.80572458 0.84220346\n",
      "  0.84846073 0.         0.87694214 0.11041606 0.21333139 0.65013616\n",
      "  0.22446501 0.50912182 0.6041987  0.57597699 0.55839657 0.6335216\n",
      "  0.32667971 0.52985056 0.1170057  0.27032967 0.52261864 0.70401347\n",
      "  0.73887797 0.97947956 0.72449446 0.19311457 0.79840888 0.19010594\n",
      "  0.22616172 0.69714158 0.54871379 0.42396839 0.50272743 0.42978956\n",
      "  0.23313285 0.31007867 1.04753493 0.93985731 0.51588857 0.35721319\n",
      "  0.28404991 0.53562556 0.90893334 0.4719971  0.51048687 0.16552642\n",
      "  0.62314681 0.56977283 0.73545238 0.40619912 0.91052424 0.50140617\n",
      "  0.69497735 0.46146035 0.56036273 0.68264861 0.87556777 0.7154617\n",
      "  0.13896893 0.41189672 0.70347688 0.34477559 0.6759718  0.68478349\n",
      "  0.44939947 0.97172304 0.5466417  0.44772094 0.35363058 0.99184894\n",
      "  0.65843417 0.45599712 0.39497921 0.51875809 0.56022463 0.3162776\n",
      "  0.96566827 0.89929461 0.81779874 0.52495804 0.44921576 0.89095944\n",
      "  0.17463594 0.89044972 0.56510069 0.66636494]\n",
      " [0.67683565 0.83711316 0.32762712 0.6125879  0.72254886 0.79784824\n",
      "  0.82744439 0.05561845 0.41106968 0.51884206 0.14516936 0.6817431\n",
      "  0.7703034  0.33003703 0.61900083 0.87514939 0.29007915 0.14325092\n",
      "  0.2683846  0.87694214 0.         0.79251951 0.91798724 0.24205726\n",
      "  0.95416366 0.36900596 0.85561003 0.41632517 0.3957822  0.31780327\n",
      "  0.74810756 0.85273996 0.87474996 0.6990789  0.45518922 0.35777843\n",
      "  0.47051575 0.12020182 0.15640643 0.71350489 0.16357114 0.91602386\n",
      "  0.772592   0.34957958 0.35402684 0.48117831 0.73645988 0.83999455\n",
      "  0.72897032 0.85411169 0.23074977 0.20830319 0.81702258 0.65720772\n",
      "  0.85948958 0.4664346  0.43624486 0.62400312 0.7400625  0.78995204\n",
      "  0.47658242 0.56935311 0.14527017 0.78316319 0.37399666 0.91626309\n",
      "  0.18364156 0.74697543 0.84064842 0.29313059 0.31143301 0.39923548\n",
      "  0.74200559 0.59015987 0.32584696 0.67518782 0.2791106  0.76446329\n",
      "  1.0040176  0.64321078 0.87813724 0.75127169 0.81993238 0.1923739\n",
      "  0.38989975 0.50949133 0.67933099 0.50426787 0.70382986 0.96680025\n",
      "  0.69368492 0.07707351 0.69591713 0.48147958 0.82316253 0.67333097\n",
      "  0.84942906 0.17574079 0.75353042 0.35832012]\n",
      " [0.20374005 0.24263507 0.49765843 0.40354714 0.76093088 0.45485331\n",
      "  0.43071311 0.82865813 0.38367531 0.38661649 0.72322583 0.26475709\n",
      "  0.12180939 0.49695824 0.3986575  0.43489193 0.75132193 0.77117202\n",
      "  0.79124448 0.11041606 0.79251951 0.         0.17818225 0.55877214\n",
      "  0.20522224 0.4308414  0.51151785 0.46982924 0.50691464 0.53274514\n",
      "  0.35252682 0.44004743 0.09152751 0.16038243 0.41598408 0.59789854\n",
      "  0.62901605 0.88992699 0.64419679 0.18002397 0.72850495 0.1616929\n",
      "  0.12586127 0.64874932 0.45287151 0.36830952 0.52367502 0.47651399\n",
      "  0.12413532 0.23289647 0.9756463  0.87347273 0.55267761 0.35484201\n",
      "  0.21069401 0.49828533 0.80025378 0.36225823 0.53194502 0.06650118\n",
      "  0.51348473 0.45943189 0.65485878 0.44078986 0.80366761 0.4233877\n",
      "  0.60902356 0.48585923 0.4677079  0.62426514 0.77082903 0.67512837\n",
      "  0.10937609 0.39390052 0.65167775 0.34736229 0.61451702 0.5817091\n",
      "  0.39643118 0.86143205 0.45956292 0.47346149 0.26555655 0.89611585\n",
      "  0.55151723 0.41946525 0.28700046 0.48873763 0.45480367 0.2762315\n",
      "  0.85597085 0.80891292 0.70955297 0.41654625 0.49107673 0.78148772\n",
      "  0.24031985 0.82244119 0.46335248 0.56097903]\n",
      " [0.38191775 0.39301933 0.6494677  0.58172878 0.73511846 0.62151685\n",
      "  0.59236827 0.95974097 0.50907054 0.44338936 0.86734561 0.27580561\n",
      "  0.29287077 0.59906394 0.4076734  0.33252441 0.91224522 0.91611409\n",
      "  0.94956658 0.21333139 0.91798724 0.17818225 0.         0.67676186\n",
      "  0.03628057 0.57500333 0.42436531 0.54507791 0.67294301 0.6270998\n",
      "  0.52339415 0.34749384 0.09961533 0.21996502 0.49212955 0.66705086\n",
      "  0.66543962 1.00403502 0.7792084  0.35726586 0.87536558 0.02383534\n",
      "  0.14566486 0.81478461 0.5652013  0.53477384 0.69752028 0.6383068\n",
      "  0.18913178 0.12802522 1.11716305 1.02237022 0.72037086 0.53249429\n",
      "  0.10205121 0.67125148 0.84535559 0.37628556 0.70567101 0.1393011\n",
      "  0.55827725 0.47914721 0.78919274 0.60885202 0.86216639 0.30243743\n",
      "  0.73582275 0.65837039 0.38232417 0.78365678 0.84153691 0.84526097\n",
      "  0.28667011 0.57181188 0.81551541 0.52433437 0.77151992 0.53101249\n",
      "  0.23623064 0.86376019 0.35862078 0.64541841 0.18472076 0.99555081\n",
      "  0.6180247  0.59358303 0.29176441 0.66410034 0.4231671  0.10355799\n",
      "  0.84586131 0.92264308 0.68691081 0.48067445 0.65579316 0.76986725\n",
      "  0.38637562 0.97015224 0.41205431 0.63548706]\n",
      " [0.47066919 0.63746427 0.17998367 0.46439599 0.58681744 0.65266535\n",
      "  0.67219934 0.287725   0.17527451 0.28653449 0.23427136 0.44190675\n",
      "  0.55199363 0.09621123 0.39413756 0.64775158 0.35730945 0.27878869\n",
      "  0.36935827 0.65013616 0.24205726 0.55877214 0.67676186 0.\n",
      "  0.71299618 0.16719355 0.64053296 0.19484271 0.28369103 0.10576372\n",
      "  0.57978313 0.62730011 0.6375758  0.45738466 0.22209636 0.20231849\n",
      "  0.32452494 0.33123982 0.1302206  0.50443671 0.25198233 0.67551398\n",
      "  0.53118264 0.33503916 0.11198117 0.30047107 0.61934049 0.69539926\n",
      "  0.48804868 0.61255039 0.45701688 0.38776535 0.69749875 0.49270007\n",
      "  0.61752142 0.35647473 0.38907549 0.39315433 0.62512177 0.55109073\n",
      "  0.2795072  0.357151   0.13585847 0.63573615 0.35138472 0.6851811\n",
      "  0.07017892 0.61676792 0.6198076  0.26454949 0.29135609 0.39366769\n",
      "  0.52083152 0.43805345 0.31622318 0.50827664 0.24154476 0.57148158\n",
      "  0.76594758 0.56401649 0.65369725 0.61682453 0.57992882 0.34440916\n",
      "  0.20617162 0.36250761 0.44102982 0.3906445  0.48827925 0.72485051\n",
      "  0.59898754 0.25014095 0.54787955 0.25220444 0.68488519 0.55489017\n",
      "  0.64828059 0.33641526 0.53721025 0.1775997 ]\n",
      " [0.40826509 0.40675896 0.68399102 0.60773312 0.76079834 0.63872352\n",
      "  0.60773194 0.99578486 0.54502556 0.4786025  0.90270953 0.30977168\n",
      "  0.31466032 0.63532071 0.43979925 0.34791561 0.94582781 0.95144609\n",
      "  0.98355843 0.22446501 0.95416366 0.20522224 0.03628057 0.71299618\n",
      "  0.         0.61009234 0.44165941 0.58077672 0.70539699 0.66323649\n",
      "  0.54296934 0.36494789 0.11914163 0.25624453 0.52796495 0.70226022\n",
      "  0.6984899  1.04031378 0.81503164 0.38171637 0.91053062 0.04376953\n",
      "  0.18193875 0.84735493 0.60145959 0.56695115 0.71817382 0.65348529\n",
      "  0.22523384 0.15300712 1.15279514 1.05743971 0.73767625 0.55688945\n",
      "  0.12919359 0.70174609 0.87866403 0.40917053 0.72622891 0.17267712\n",
      "  0.59233396 0.5116534  0.82505069 0.62672497 0.89643469 0.31334141\n",
      "  0.77191085 0.67830716 0.40070947 0.81738631 0.87657568 0.87681433\n",
      "  0.31163497 0.5988789  0.84852993 0.5478916  0.80556958 0.55412572\n",
      "  0.23256184 0.89272009 0.37380065 0.66508102 0.21052985 1.03163066\n",
      "  0.65319664 0.623548   0.32499604 0.6934813  0.45041323 0.09675886\n",
      "  0.87329757 0.95892295 0.71328398 0.51608767 0.67204143 0.79737635\n",
      "  0.39907224 1.00529828 0.43645678 0.67099642]\n",
      " [0.31061346 0.47521164 0.08197181 0.30206044 0.68014839 0.48826497\n",
      "  0.50600742 0.4002083  0.09486504 0.2900849  0.29338566 0.3918173\n",
      "  0.40131474 0.17832585 0.3996803  0.62751317 0.35024551 0.34186492\n",
      "  0.38160811 0.50912182 0.36900596 0.4308414  0.57500333 0.16719355\n",
      "  0.61009234 0.         0.64518771 0.25162833 0.16328965 0.21923688\n",
      "  0.41270858 0.61254648 0.51766532 0.3680094  0.2403548  0.32858186\n",
      "  0.43442227 0.47694617 0.21537275 0.34631704 0.30046788 0.56880739\n",
      "  0.43505288 0.2763353  0.13048681 0.13385736 0.46356857 0.53077269\n",
      "  0.38930367 0.53869053 0.54526443 0.44736797 0.53934013 0.32632712\n",
      "  0.5366426  0.22129178 0.53840934 0.38361068 0.47001023 0.43887169\n",
      "  0.35032849 0.39230683 0.22633923 0.47103649 0.50913568 0.65405573\n",
      "  0.19126577 0.45665235 0.61501475 0.22383271 0.45298768 0.32582047\n",
      "  0.37314424 0.27522029 0.26767931 0.34152944 0.20657572 0.61232873\n",
      "  0.70913767 0.69139238 0.6397912  0.45546317 0.52008806 0.50515673\n",
      "  0.30942238 0.20489848 0.39946989 0.24864308 0.50252154 0.64144508\n",
      "  0.71699213 0.39955843 0.63440556 0.27290699 0.52168427 0.66165147\n",
      "  0.48668353 0.39521341 0.54614655 0.29208216]\n",
      " [0.65660065 0.75205255 0.72505098 0.82469442 0.35525196 0.93939282\n",
      "  0.92489184 0.90942733 0.55041063 0.36148472 0.87448102 0.28575039\n",
      "  0.62322459 0.54456979 0.24940747 0.09557243 0.98115638 0.91929148\n",
      "  1.00227595 0.6041987  0.85561003 0.51151785 0.42436531 0.64053296\n",
      "  0.44165941 0.64518771 0.         0.44624235 0.80117955 0.54273597\n",
      "  0.83294636 0.07688002 0.49378399 0.37982599 0.42292308 0.50608322\n",
      "  0.42651459 0.89574968 0.77049685 0.65435576 0.89128629 0.44566612\n",
      "  0.38580567 0.92102201 0.54991001 0.69454845 0.9819544  0.9688442\n",
      "  0.4007664  0.30002792 1.08523084 1.02776662 1.03060163 0.79941086\n",
      "  0.3273007  0.8384705  0.58626463 0.26158089 0.99030527 0.44552238\n",
      "  0.38009253 0.28658081 0.77639074 0.92291984 0.63081126 0.14340841\n",
      "  0.71061363 0.95218308 0.0438931  0.86315724 0.64284729 0.97087783\n",
      "  0.59698683 0.80361116 0.91063707 0.80045345 0.84292948 0.14425094\n",
      "  0.27349955 0.51645966 0.07171575 0.94258657 0.2508018  0.84706789\n",
      "  0.46722659 0.78157393 0.26781658 0.85074147 0.15258127 0.36209322\n",
      "  0.47950634 0.82432088 0.31870128 0.39045194 0.97794664 0.40911664\n",
      "  0.75098933 0.9768383  0.10332392 0.49815201]\n",
      " [0.45763041 0.61882656 0.31570638 0.53046096 0.42854914 0.70278483\n",
      "  0.71008747 0.46815265 0.17365463 0.10699065 0.42911396 0.27980023\n",
      "  0.5054664  0.10019928 0.20301708 0.45904235 0.54574029 0.4732603\n",
      "  0.56184334 0.57597699 0.41632517 0.46982924 0.54507791 0.19484271\n",
      "  0.58077672 0.25162833 0.44624235 0.         0.41308167 0.09856996\n",
      "  0.61015015 0.43711925 0.5306965  0.33081863 0.05423711 0.12809844\n",
      "  0.1929808  0.47681949 0.32506187 0.48175607 0.44666611 0.5495434\n",
      "  0.40361907 0.50442604 0.12423334 0.36065793 0.69861846 0.74305827\n",
      "  0.36812259 0.45714532 0.64269471 0.58152654 0.76904979 0.53714511\n",
      "  0.46804668 0.47271824 0.33854656 0.20844182 0.70582109 0.44088466\n",
      "  0.09884707 0.16245851 0.33052508 0.68483362 0.33466701 0.50002711\n",
      "  0.26465913 0.68446996 0.42714975 0.43860214 0.30170869 0.56025519\n",
      "  0.47078989 0.50376709 0.4894575  0.54796185 0.41645147 0.37980924\n",
      "  0.59252639 0.45310781 0.46292404 0.68049727 0.41505399 0.45412322\n",
      "  0.08343311 0.44625428 0.27242373 0.49845451 0.29376395 0.57268211\n",
      "  0.47185219 0.39823856 0.38290754 0.06789549 0.7396677  0.4123903\n",
      "  0.62636005 0.53070839 0.34295391 0.09181211]\n",
      " [0.33159185 0.46912511 0.1046047  0.21802292 0.84068352 0.40209747\n",
      "  0.43211564 0.40565953 0.25553688 0.45170187 0.269772   0.53466205\n",
      "  0.43896144 0.33030637 0.55938481 0.77582438 0.2473292  0.30817652\n",
      "  0.29064263 0.55839657 0.3957822  0.50691464 0.67294301 0.28369103\n",
      "  0.70539699 0.16328965 0.80117955 0.41308167 0.         0.36627262\n",
      "  0.35763987 0.7631055  0.59836833 0.48901546 0.40361764 0.47547001\n",
      "  0.58918185 0.51554097 0.24932301 0.36916383 0.26419635 0.66198551\n",
      "  0.54577591 0.14201308 0.28947578 0.1387054  0.34721865 0.44434038\n",
      "  0.50102335 0.66136256 0.50706702 0.39092532 0.42759615 0.26765175\n",
      "  0.65431765 0.07505236 0.67272039 0.54058567 0.35189498 0.53369307\n",
      "  0.51192355 0.55534021 0.25909512 0.38738801 0.63390157 0.79740086\n",
      "  0.26625396 0.35315654 0.768747   0.12842796 0.57195301 0.17661691\n",
      "  0.42065883 0.19744993 0.14541621 0.28624231 0.12865191 0.77481666\n",
      "  0.8378121  0.84112926 0.79020444 0.35653639 0.65240486 0.57010081\n",
      "  0.46382374 0.11910726 0.5456648  0.11216787 0.66225663 0.75322056\n",
      "  0.87091559 0.45126375 0.79587211 0.4360477  0.42816523 0.81903751\n",
      "  0.482731   0.34612408 0.70431546 0.44247468]\n",
      " [0.48431749 0.65089453 0.26241454 0.51912852 0.48423913 0.70184684\n",
      "  0.71540558 0.3696039  0.17549573 0.20238613 0.33684104 0.37127619\n",
      "  0.54922999 0.04352147 0.30152439 0.55760001 0.46304909 0.37917236\n",
      "  0.47468868 0.6335216  0.31780327 0.53274514 0.6270998  0.10576372\n",
      "  0.66323649 0.21923688 0.54273597 0.09856996 0.36627262 0.\n",
      "  0.6180983  0.53557192 0.60228209 0.40830985 0.14058883 0.1098958\n",
      "  0.2248404  0.38243287 0.23355163 0.51365249 0.35558187 0.62929898\n",
      "  0.48264524 0.43586792 0.09803559 0.34770326 0.68259565 0.7437435\n",
      "  0.44333095 0.54759739 0.544329   0.48610711 0.75766205 0.53691249\n",
      "  0.5564137  0.43416187 0.32082892 0.30642749 0.68911848 0.51289541\n",
      "  0.17423395 0.25671746 0.23775    0.684234   0.29803999 0.59847117\n",
      "  0.17234845 0.67433533 0.52497415 0.36654712 0.24968685 0.49383294\n",
      "  0.51561833 0.4921197  0.41828094 0.55031073 0.34366009 0.46713753\n",
      "  0.68893982 0.47513488 0.56127483 0.67240117 0.508505   0.36865476\n",
      "  0.10196671 0.42409279 0.36616958 0.46484183 0.39016778 0.66255088\n",
      "  0.50498408 0.30257462 0.44384407 0.16422195 0.73669345 0.4559745\n",
      "  0.66009098 0.43611203 0.43967218 0.07661264]\n",
      " [0.17732793 0.1574515  0.423855   0.14273882 1.00632236 0.10644902\n",
      "  0.10046597 0.76232456 0.44511576 0.58192723 0.62738976 0.55152493\n",
      "  0.23151187 0.57458978 0.65128075 0.76976931 0.58046012 0.6651759\n",
      "  0.62777319 0.32667971 0.74810756 0.35252682 0.52339415 0.57978313\n",
      "  0.54296934 0.41270858 0.83294636 0.61015015 0.35763987 0.6180983\n",
      "  0.         0.76938021 0.42465964 0.4531907  0.57075558 0.72015607\n",
      "  0.80246909 0.86600957 0.59448563 0.1802022  0.62152873 0.50288406\n",
      "  0.46243845 0.46578841 0.52016684 0.27948723 0.17609006 0.13887021\n",
      "  0.4358954  0.58191099 0.85976771 0.74029803 0.20107186 0.09090018\n",
      "  0.56169009 0.29937202 0.9371586  0.61815176 0.18392294 0.41384012\n",
      "  0.69436165 0.68652607 0.6052443  0.09028801 0.91563776 0.76703765\n",
      "  0.59275091 0.13538685 0.79086996 0.48178201 0.86288086 0.46178124\n",
      "  0.24599466 0.16029546 0.48076803 0.07311039 0.4855828  0.86857346\n",
      "  0.74894795 1.06136134 0.79235243 0.12212041 0.60511156 0.90938805\n",
      "  0.68801137 0.23953651 0.57220604 0.26685958 0.73793057 0.62560684\n",
      "  1.07394013 0.79567533 0.95523634 0.59132219 0.14506003 1.00719183\n",
      "  0.17076031 0.69945334 0.76232077 0.6804942 ]\n",
      " [0.59454825 0.68189905 0.69390399 0.76983732 0.41831526 0.87572748\n",
      "  0.85921984 0.90512888 0.51894966 0.34146414 0.85878224 0.23304835\n",
      "  0.55444041 0.5312504  0.23412326 0.0273717  0.95614339 0.90508666\n",
      "  0.98039313 0.52985056 0.85273996 0.44004743 0.34749384 0.62730011\n",
      "  0.36494789 0.61254648 0.07688002 0.43711925 0.7631055  0.53557192\n",
      "  0.76938021 0.         0.4182104  0.31716637 0.40552929 0.51445716\n",
      "  0.45091756 0.90265143 0.75560955 0.58966732 0.8742786  0.36885349\n",
      "  0.31510086 0.88873838 0.52900632 0.64901079 0.92316835 0.90372901\n",
      "  0.33414896 0.22365368 1.07981038 1.01472649 0.96862287 0.74092177\n",
      "  0.25090308 0.79496632 0.62073328 0.2354626  0.93156352 0.37366645\n",
      "  0.38579204 0.28760608 0.76240726 0.85962187 0.65956543 0.08103433\n",
      "  0.6973506  0.8918435  0.03700684 0.83440668 0.66428286 0.93611744\n",
      "  0.5296763  0.749975   0.88005506 0.74076932 0.81518581 0.20403607\n",
      "  0.21061121 0.57239474 0.02724718 0.88170677 0.17628627 0.86146229\n",
      "  0.47138472 0.73384826 0.21867668 0.8044802  0.15843417 0.2871134\n",
      "  0.54021266 0.82802118 0.37736456 0.37516649 0.9139982  0.46723839\n",
      "  0.68022911 0.96286813 0.11399733 0.5006782 ]\n",
      " [0.29078951 0.29378046 0.58674948 0.48961021 0.77763314 0.52203484\n",
      "  0.49276084 0.91274851 0.4639042  0.43785353 0.8108547  0.28950877\n",
      "  0.19553165 0.56929853 0.42755398 0.40761907 0.84239936 0.85908777\n",
      "  0.8819826  0.1170057  0.87474996 0.09152751 0.09961533 0.6375758\n",
      "  0.11914163 0.51766532 0.49378399 0.5306965  0.59836833 0.60228209\n",
      "  0.42465964 0.4182104  0.         0.2017954  0.47647655 0.657458\n",
      "  0.6743403  0.96854932 0.72905561 0.26302822 0.81683847 0.07825045\n",
      "  0.13678779 0.74023771 0.52882188 0.45972273 0.59944719 0.53870513\n",
      "  0.16328101 0.19565742 1.06292972 0.96245878 0.6209242  0.43801176\n",
      "  0.16895616 0.58938814 0.85069221 0.39258851 0.60753898 0.08984918\n",
      "  0.56136077 0.49477718 0.73954017 0.5095133  0.85998448 0.38552679\n",
      "  0.69112916 0.55986569 0.45023742 0.71505054 0.83217291 0.76656145\n",
      "  0.19343942 0.48162638 0.74302197 0.42881545 0.70489423 0.58413756\n",
      "  0.33377896 0.89249393 0.43350919 0.54676786 0.24334742 0.96941876\n",
      "  0.60951002 0.51033922 0.30980448 0.57902942 0.46491638 0.20309155\n",
      "  0.88100599 0.88718957 0.72744553 0.47170536 0.55619812 0.8053362\n",
      "  0.28753126 0.91110099 0.4636546  0.62250737]\n",
      " [0.27747299 0.3815117  0.44701151 0.45689495 0.60162094 0.55963884\n",
      "  0.5453945  0.74198776 0.2932533  0.23605862 0.65564544 0.10712243\n",
      "  0.25052343 0.37924558 0.23829954 0.31988541 0.715212   0.70452561\n",
      "  0.74892375 0.27032967 0.6990789  0.16038243 0.21996502 0.45738466\n",
      "  0.25624453 0.3680094  0.37982599 0.33081863 0.48901546 0.40830985\n",
      "  0.4531907  0.31716637 0.2017954  0.         0.27684448 0.45653546\n",
      "  0.47419216 0.78407052 0.56368776 0.27468262 0.66534543 0.22101838\n",
      "  0.07449023 0.62718136 0.3455912  0.35825448 0.60641995 0.58911518\n",
      "  0.03892974 0.17269583 0.90267602 0.81263419 0.65165292 0.42456872\n",
      "  0.16867542 0.50443557 0.64931059 0.20188242 0.614827   0.11341072\n",
      "  0.36020257 0.29981077 0.57332979 0.54326133 0.65824313 0.32566996\n",
      "  0.51788373 0.57469929 0.33768577 0.58664642 0.63147705 0.66554099\n",
      "  0.2208522  0.43890757 0.62419034 0.42383507 0.57186917 0.42984006\n",
      "  0.34893049 0.70152117 0.3411184  0.56454141 0.16774509 0.77696376\n",
      "  0.40826796 0.43455434 0.12954608 0.50696901 0.3001441  0.2738519\n",
      "  0.69558864 0.70267858 0.55007765 0.27021409 0.59814916 0.62114578\n",
      "  0.3827865  0.75994925 0.31540735 0.4224452 ]\n",
      " [0.41253659 0.57100434 0.31307651 0.50017457 0.44932798 0.66641704\n",
      "  0.67112492 0.50513388 0.15115115 0.06446947 0.45349834 0.23083701\n",
      "  0.45495489 0.1266782  0.17391764 0.42569317 0.55919405 0.4995781\n",
      "  0.57937511 0.52261864 0.45518922 0.41598408 0.49212955 0.22209636\n",
      "  0.52796495 0.2403548  0.42292308 0.05423711 0.40361764 0.14058883\n",
      "  0.57075558 0.40552929 0.47647655 0.27684448 0.         0.18197702\n",
      "  0.23331763 0.52295828 0.35011153 0.43473616 0.46946922 0.49611888\n",
      "  0.34993709 0.50724316 0.1275825  0.33428928 0.66901182 0.70579588\n",
      "  0.31399311 0.40759713 0.67762462 0.60920138 0.7368669  0.50177199\n",
      "  0.41730647 0.45730623 0.38906215 0.17106892 0.67648729 0.38665812\n",
      "  0.12403445 0.15252981 0.35688241 0.64843177 0.38792323 0.46338845\n",
      "  0.29196826 0.65223412 0.39949413 0.44496346 0.35593109 0.56086612\n",
      "  0.42017473 0.47396827 0.49436949 0.51137533 0.42376008 0.37350436\n",
      "  0.54920199 0.49069045 0.43209227 0.64737146 0.36791629 0.50490859\n",
      "  0.13582647 0.42255306 0.22564051 0.47989073 0.2727529  0.52284031\n",
      "  0.50437088 0.44315612 0.40103636 0.03347736 0.7039524  0.44053774\n",
      "  0.57802716 0.55735537 0.32014967 0.14604356]\n",
      " [0.57704224 0.74107273 0.37120741 0.62663445 0.38740977 0.80714588\n",
      "  0.81868646 0.41316312 0.27505304 0.22366652 0.41335892 0.39528343\n",
      "  0.63119591 0.15048328 0.29095373 0.53929536 0.55233872 0.4497198\n",
      "  0.55772009 0.70401347 0.35777843 0.59789854 0.66705086 0.20231849\n",
      "  0.70226022 0.32858186 0.50608322 0.12809844 0.47547001 0.1098958\n",
      "  0.72015607 0.51445716 0.657458   0.45653546 0.18197702 0.\n",
      "  0.12389154 0.3897701  0.31598522 0.60348413 0.43412633 0.67292984\n",
      "  0.52817014 0.53735195 0.20261552 0.45480517 0.79130029 0.84862995\n",
      "  0.49440915 0.57128531 0.58832973 0.54981108 0.86564703 0.6415436\n",
      "  0.58480084 0.54395528 0.217446   0.30846974 0.79793521 0.56778098\n",
      "  0.12873743 0.22728004 0.31724299 0.78939394 0.20704805 0.58606787\n",
      "  0.25721261 0.7819371  0.49679146 0.4667546  0.17499749 0.59598309\n",
      "  0.59669265 0.59960955 0.51835918 0.65415341 0.44375036 0.40691796\n",
      "  0.69143736 0.36565932 0.53784109 0.77954404 0.52453875 0.34850907\n",
      "  0.0491256  0.53317735 0.38422988 0.57473756 0.35822884 0.68661885\n",
      "  0.39748502 0.31891931 0.35177183 0.18682788 0.84264647 0.35275884\n",
      "  0.7492511  0.50368079 0.40716167 0.04000402]\n",
      " [0.64580391 0.80275799 0.48628925 0.72253076 0.26351823 0.89574876\n",
      "  0.90259009 0.52611644 0.36525919 0.2433276  0.53626288 0.39033844\n",
      "  0.68319792 0.25889475 0.26013486 0.47764747 0.67622863 0.57126969\n",
      "  0.6811921  0.73887797 0.47051575 0.62901605 0.66543962 0.32452494\n",
      "  0.6984899  0.43442227 0.42651459 0.1929808  0.58918185 0.2248404\n",
      "  0.80246909 0.45091756 0.6743403  0.47419216 0.23331763 0.12389154\n",
      "  0.         0.48387589 0.43979668 0.66731551 0.55726082 0.6754698\n",
      "  0.53863127 0.65916036 0.30405132 0.5517307  0.89014603 0.93594392\n",
      "  0.51311382 0.55456784 0.69880139 0.66879402 0.9614725  0.7301259\n",
      "  0.57284708 0.65449763 0.18055759 0.28932281 0.89721225 0.58750705\n",
      "  0.11610086 0.18768658 0.44086743 0.87779387 0.20942025 0.5288451\n",
      "  0.38109124 0.87696555 0.42652937 0.58898506 0.21644059 0.71753045\n",
      "  0.64840535 0.69571576 0.64069765 0.74088452 0.56598867 0.30766763\n",
      "  0.64678455 0.26023857 0.47079289 0.87320716 0.50145023 0.42438429\n",
      "  0.12544092 0.63531925 0.37367541 0.68304277 0.29330556 0.66606264\n",
      "  0.28257684 0.42179317 0.22886866 0.21926408 0.93264812 0.2311623\n",
      "  0.80924789 0.62413784 0.33745393 0.14838889]\n",
      " [0.78726891 0.94997073 0.44337385 0.73173767 0.71489125 0.91763553\n",
      "  0.9467239  0.13185336 0.50626551 0.5834461  0.26197854 0.75370891\n",
      "  0.87687628 0.40551739 0.67325858 0.92681523 0.39640433 0.24926717\n",
      "  0.36701706 0.97947956 0.12020182 0.88992699 1.00403502 0.33123982\n",
      "  1.04031378 0.47694617 0.89574968 0.47681949 0.51554097 0.38243287\n",
      "  0.86600957 0.90265143 0.96854932 0.78407052 0.52295828 0.3897701\n",
      "  0.48387589 0.         0.27173681 0.82323577 0.27818387 1.00412818\n",
      "  0.85845538 0.46664957 0.44021931 0.59554814 0.85662603 0.95986374\n",
      "  0.81653599 0.9298142  0.2422091  0.27713756 0.93717339 0.77516011\n",
      "  0.93791713 0.58656332 0.40381414 0.68405946 0.86019514 0.88148307\n",
      "  0.51744486 0.61509347 0.26086706 0.90282066 0.33803101 0.97169055\n",
      "  0.28604629 0.86713175 0.88623244 0.41262327 0.28675572 0.51380845\n",
      "  0.84722013 0.7089231  0.44311345 0.7929616  0.39913363 0.78986261\n",
      "  1.06918658 0.61003418 0.92664151 0.87135426 0.8907949  0.09727242\n",
      "  0.43127245 0.62817148 0.74828767 0.6244128  0.74768656 1.04448466\n",
      "  0.66577326 0.08147547 0.69616748 0.54455422 0.94321901 0.65856064\n",
      "  0.96194594 0.26346953 0.79680935 0.40226099]\n",
      " [0.52080096 0.6807082  0.17176448 0.46189072 0.70323742 0.64952006\n",
      "  0.67684593 0.1848939  0.27055491 0.41418254 0.10405897 0.56169065\n",
      "  0.6157207  0.22592706 0.52331838 0.77542591 0.23685165 0.14947915\n",
      "  0.24259309 0.72449446 0.15640643 0.64419679 0.7792084  0.1302206\n",
      "  0.81503164 0.21537275 0.77049685 0.32506187 0.24932301 0.23355163\n",
      "  0.59448563 0.75560955 0.72905561 0.56368776 0.35011153 0.31598522\n",
      "  0.43979668 0.27173681 0.         0.557653   0.12206819 0.77527875\n",
      "  0.63532242 0.24337261 0.22984746 0.32487637 0.5959383  0.69209952\n",
      "  0.59044407 0.72673688 0.33909611 0.25932883 0.67648922 0.5037019\n",
      "  0.72908661 0.32322526 0.4677768  0.52059837 0.60031558 0.64688474\n",
      "  0.40771555 0.48735171 0.0111565  0.63416128 0.41711276 0.8112808\n",
      "  0.06121085 0.60241436 0.74911538 0.17402031 0.3515052  0.30119252\n",
      "  0.58823229 0.43837519 0.22082815 0.52140037 0.15342316 0.70065144\n",
      "  0.88655002 0.66066945 0.78220244 0.60550727 0.69847955 0.32078043\n",
      "  0.32973257 0.35765283 0.56299188 0.36097217 0.61836608 0.83609917\n",
      "  0.70194874 0.20258885 0.66746346 0.38118354 0.67688405 0.66547922\n",
      "  0.69302451 0.207263   0.66718835 0.29908094]\n",
      " [0.03793207 0.13763472 0.39133347 0.22705213 0.84852221 0.28623786\n",
      "  0.27074174 0.74013435 0.33999992 0.43184864 0.61822323 0.37619165\n",
      "  0.07310494 0.47146776 0.48603712 0.58966566 0.61600555 0.66312678\n",
      "  0.65980239 0.19311457 0.71350489 0.18002397 0.35726586 0.50443671\n",
      "  0.38171637 0.34631704 0.65435576 0.48175607 0.36916383 0.51365249\n",
      "  0.1802022  0.58966732 0.26302822 0.27468262 0.43473616 0.60348413\n",
      "  0.66731551 0.82323577 0.557653   0.         0.61875318 0.33913442\n",
      "  0.28268227 0.50576464 0.41850279 0.24024955 0.34532851 0.31448902\n",
      "  0.25581487 0.40352071 0.8676931  0.75620702 0.38091403 0.17528164\n",
      "  0.38445726 0.34266479 0.81945676 0.45122367 0.35367583 0.23672228\n",
      "  0.55355272 0.52966287 0.56880191 0.27046198 0.80826276 0.58703314\n",
      "  0.53752226 0.3090489  0.61190668 0.49571802 0.76328122 0.5225082\n",
      "  0.07068814 0.22113497 0.51322581 0.16733878 0.49104632 0.69736089\n",
      "  0.57405925 0.92022627 0.6123942  0.29738808 0.42501935 0.84838703\n",
      "  0.56430699 0.26317985 0.3975876  0.32580585 0.56636074 0.45625387\n",
      "  0.92626948 0.74571306 0.79683729 0.44885608 0.3243629  0.85608618\n",
      "  0.1464411  0.70836571 0.58743805 0.56362227]\n",
      " [0.58087336 0.72964618 0.2315277  0.4804944  0.81992435 0.65818217\n",
      "  0.69177719 0.15139325 0.37423396 0.53297955 0.02221666 0.67354593\n",
      "  0.6834347  0.34703118 0.64324359 0.89339338 0.1319313  0.04452581\n",
      "  0.12474596 0.79840888 0.16357114 0.72850495 0.87536558 0.25198233\n",
      "  0.91053062 0.30046788 0.89128629 0.44666611 0.26419635 0.35558187\n",
      "  0.62152873 0.8742786  0.81683847 0.66534543 0.46946922 0.43412633\n",
      "  0.55726082 0.27818387 0.12206819 0.61875318 0.         0.8692697\n",
      "  0.73437604 0.18888471 0.34571359 0.37852103 0.58740346 0.69917763\n",
      "  0.68877276 0.83295872 0.24927411 0.14730544 0.66723405 0.53181562\n",
      "  0.83313939 0.32612598 0.56617294 0.63885826 0.59022143 0.7392788\n",
      "  0.52968095 0.60907825 0.11822908 0.64484864 0.50958953 0.92760592\n",
      "  0.18323892 0.6023407  0.86895384 0.14264136 0.44391194 0.2360455\n",
      "  0.65965067 0.46123328 0.16561861 0.55042433 0.13597757 0.82270616\n",
      "  0.99756249 0.76644194 0.90105866 0.60819294 0.80848293 0.35590569\n",
      "  0.45076074 0.38322921 0.67654518 0.36269958 0.73945153 0.9391765\n",
      "  0.81112762 0.23776354 0.78584426 0.50119927 0.68004614 0.77921693\n",
      "  0.74291024 0.09479915 0.78804385 0.41972913]\n",
      " [0.36505431 0.3705334  0.64193228 0.5646823  0.75213086 0.60014899\n",
      "  0.57040949 0.95683494 0.50589455 0.44953043 0.86180397 0.28515031\n",
      "  0.27321001 0.59999432 0.41932459 0.35453488 0.90292768 0.91046903\n",
      "  0.94094457 0.19010594 0.91602386 0.1616929  0.02383534 0.67551398\n",
      "  0.04376953 0.56880739 0.44566612 0.5495434  0.66198551 0.62929898\n",
      "  0.50288406 0.36885349 0.07825045 0.22101838 0.49611888 0.67292984\n",
      "  0.6754698  1.00412818 0.77527875 0.33913442 0.8692697  0.\n",
      "  0.14666807 0.80396933 0.56440985 0.52347114 0.67752594 0.6163077\n",
      "  0.1876213  0.14733191 1.11242633 1.01600103 0.69906152 0.51440413\n",
      "  0.12056111 0.65798361 0.8548733  0.38699514 0.68563577 0.13026677\n",
      "  0.56677886 0.49016499 0.78540823 0.5877141  0.87003292 0.32549088\n",
      "  0.73326353 0.63805439 0.40330395 0.77460139 0.84774366 0.83315721\n",
      "  0.26880947 0.55552326 0.8053289  0.50575391 0.76302966 0.54971032\n",
      "  0.25978954 0.87821902 0.38064961 0.62498403 0.20291902 0.99795178\n",
      "  0.62404683 0.5797795  0.30224785 0.64974148 0.43943796 0.12623786\n",
      "  0.86157087 0.92266986 0.70348948 0.48617977 0.63412036 0.78556385\n",
      "  0.36364146 0.96398798 0.4302045  0.64051382]\n",
      " [0.29512423 0.36680584 0.51209558 0.48801724 0.64498317 0.56769445\n",
      "  0.54771869 0.81484956 0.36480501 0.30572653 0.72546009 0.15288666\n",
      "  0.24004761 0.45373116 0.29093601 0.31138239 0.77847625 0.77432354\n",
      "  0.81382024 0.22616172 0.772592   0.12586127 0.14566486 0.53118264\n",
      "  0.18193875 0.43505288 0.38580567 0.40361907 0.54577591 0.48264524\n",
      "  0.46243845 0.31510086 0.13678779 0.07449023 0.34993709 0.52817014\n",
      "  0.53863127 0.85845538 0.63532242 0.28268227 0.73437604 0.14666807\n",
      "  0.         0.68613624 0.41955765 0.4106041  0.62612607 0.59293128\n",
      "  0.04579489 0.12386451 0.97393627 0.88164784 0.6634383  0.44817183\n",
      "  0.11043389 0.55379882 0.7160724  0.25582638 0.63452922 0.0610782\n",
      "  0.42675547 0.35801884 0.6451461  0.55244961 0.72782859 0.30471358\n",
      "  0.59079949 0.59118093 0.3420432  0.64962291 0.70315836 0.72124966\n",
      "  0.2176499  0.47312024 0.68475551 0.4444013  0.63599758 0.45870721\n",
      "  0.30110391 0.756112   0.33549767 0.57982206 0.14331997 0.85129359\n",
      "  0.4795392  0.47989835 0.17357695 0.5522095  0.33441375 0.20808133\n",
      "  0.74576576 0.77704504 0.59424198 0.34137491 0.60519021 0.67032152\n",
      "  0.36532335 0.82914092 0.33931891 0.49493652]\n",
      " [0.4688248  0.59465142 0.19602131 0.3234589  0.92010544 0.4853308\n",
      "  0.52295538 0.33993582 0.37075959 0.56273134 0.20480778 0.66518147\n",
      "  0.57703256 0.40933097 0.67396418 0.90329778 0.11479323 0.22441089\n",
      "  0.1619854  0.69714158 0.34957958 0.64874932 0.81478461 0.33503916\n",
      "  0.84735493 0.2763353  0.92102201 0.50442604 0.14201308 0.43586792\n",
      "  0.46578841 0.88873838 0.74023771 0.62718136 0.50724316 0.53735195\n",
      "  0.65916036 0.46664957 0.24337261 0.50576464 0.18888471 0.80396933\n",
      "  0.68613624 0.         0.38215517 0.28069776 0.40530747 0.52441972\n",
      "  0.6410431  0.79986268 0.39888412 0.27760494 0.48377512 0.38161758\n",
      "  0.7938732  0.16916115 0.70910169 0.65949635 0.40732283 0.67550169\n",
      "  0.60069429 0.65925256 0.24864711 0.47381131 0.66016211 0.92824144\n",
      "  0.2885269  0.42476341 0.89130656 0.07125434 0.59471351 0.05892665\n",
      "  0.56049864 0.31028041 0.02382163 0.40013228 0.09404679 0.88034973\n",
      "  0.97508865 0.89607135 0.91597678 0.43228055 0.78802222 0.54021886\n",
      "  0.53781384 0.24454346 0.67424481 0.19897628 0.7763716  0.89396143\n",
      "  0.93329307 0.41976106 0.87922885 0.5406875  0.50305598 0.88986514\n",
      "  0.60864553 0.24301952 0.82112644 0.51121622]\n",
      " [0.38806752 0.55518026 0.19152148 0.42410459 0.55124095 0.6049585\n",
      "  0.61773205 0.39894163 0.07858952 0.18873996 0.33110963 0.33250236\n",
      "  0.45795093 0.05452791 0.30052945 0.54776252 0.43164775 0.37850439\n",
      "  0.45255754 0.54871379 0.35402684 0.45287151 0.5652013  0.11198117\n",
      "  0.60145959 0.13048681 0.54991001 0.12423334 0.28947578 0.09803559\n",
      "  0.52016684 0.52900632 0.52882188 0.3455912  0.1275825  0.20261552\n",
      "  0.30405132 0.44021931 0.22984746 0.41850279 0.34571359 0.56440985\n",
      "  0.41955765 0.38215517 0.         0.25224075 0.58949151 0.64665338\n",
      "  0.37680881 0.5011613  0.56572279 0.48864228 0.66323506 0.4396448\n",
      "  0.50570718 0.35141916 0.41775857 0.2935628  0.59626596 0.44131608\n",
      "  0.2228293  0.27766191 0.23790082 0.58726701 0.39604608 0.58211558\n",
      "  0.17639171 0.57939992 0.52513401 0.3182501  0.34641604 0.43715308\n",
      "  0.42512532 0.39708352 0.36826964 0.45274958 0.29673394 0.49852394\n",
      "  0.65728716 0.56188202 0.55591157 0.57693307 0.47000387 0.44354772\n",
      "  0.17939579 0.3323719  0.33321026 0.37911548 0.40029445 0.61304715\n",
      "  0.58658544 0.35875678 0.50648324 0.16085046 0.64021327 0.5313217\n",
      "  0.5647633  0.43614516 0.44743062 0.16432909]\n",
      " [0.20235616 0.35632103 0.15402186 0.17187223 0.7836046  0.35510502\n",
      "  0.37215024 0.50351335 0.18700338 0.36756032 0.37837706 0.41649392\n",
      "  0.30635515 0.30495095 0.46507863 0.65903269 0.3838866  0.4229205\n",
      "  0.42529813 0.42396839 0.48117831 0.36830952 0.53477384 0.30047107\n",
      "  0.56695115 0.13385736 0.69454845 0.36065793 0.1387054  0.34770326\n",
      "  0.27948723 0.64901079 0.45972273 0.35825448 0.33428928 0.45480517\n",
      "  0.5517307  0.59554814 0.32487637 0.24024955 0.37852103 0.52347114\n",
      "  0.4106041  0.28069776 0.25224075 0.         0.33843265 0.39743416\n",
      "  0.36667731 0.52896831 0.62745471 0.51677149 0.41108455 0.19247082\n",
      "  0.52021646 0.14704423 0.66848717 0.44047965 0.34548159 0.39565872\n",
      "  0.45547913 0.47630888 0.3359762  0.33772237 0.64174879 0.67570184\n",
      "  0.31550353 0.3271602  0.65883341 0.25885429 0.58650347 0.31118796\n",
      "  0.28521102 0.14485678 0.28342667 0.20781253 0.25212738 0.68733938\n",
      "  0.70669658 0.81155164 0.67563686 0.32480444 0.52464874 0.63243253\n",
      "  0.42959576 0.08971889 0.43041577 0.15620971 0.56576436 0.61696986\n",
      "  0.83245604 0.52171566 0.73522768 0.36259559 0.38926324 0.77236346\n",
      "  0.36890931 0.46836903 0.60325465 0.41651434]\n",
      " [0.33141472 0.3289722  0.44226981 0.1688556  1.11714671 0.10761949\n",
      "  0.15373428 0.73774903 0.52510447 0.69410584 0.59906651 0.69649006\n",
      "  0.40468107 0.64083671 0.77897612 0.92625389 0.51172746 0.62698439\n",
      "  0.55870558 0.50272743 0.73645988 0.52367502 0.69752028 0.61934049\n",
      "  0.71817382 0.46356857 0.9819544  0.69861846 0.34721865 0.68259565\n",
      "  0.17609006 0.92316835 0.59944719 0.60641995 0.66901182 0.79130029\n",
      "  0.89014603 0.85662603 0.5959383  0.34532851 0.58740346 0.67752594\n",
      "  0.62612607 0.40530747 0.58949151 0.33843265 0.         0.13282001\n",
      "  0.59481393 0.74832353 0.80131612 0.6798078  0.08065347 0.18254364\n",
      "  0.72972596 0.27273023 1.00176126 0.74895318 0.00841929 0.58205079\n",
      "  0.79194266 0.80267729 0.60537717 0.10813921 0.96981518 0.92834723\n",
      "  0.61204642 0.04278267 0.94141718 0.44589003 0.91069423 0.37980114\n",
      "  0.41490597 0.19511322 0.42605943 0.18269967 0.45769036 1.00138753\n",
      "  0.9192706  1.14997424 0.94747616 0.05716917 0.76638264 0.91635322\n",
      "  0.76782882 0.25878248 0.71551109 0.23510102 0.87315854 0.7989028\n",
      "  1.17044829 0.79657455 1.06764431 0.69505191 0.10626054 1.10914301\n",
      "  0.34119207 0.64820464 0.90311706 0.75371831]\n",
      " [0.31553693 0.24711778 0.52745311 0.23216844 1.14436456 0.04286558\n",
      "  0.04599554 0.84687666 0.574306   0.71950287 0.7086201  0.68913739\n",
      "  0.35500137 0.70050532 0.79014658 0.90289205 0.63480072 0.74069842\n",
      "  0.68227733 0.42978956 0.83999455 0.47651399 0.6383068  0.69539926\n",
      "  0.65348529 0.53077269 0.9688442  0.74305827 0.44434038 0.7437435\n",
      "  0.13887021 0.90372901 0.53870513 0.58911518 0.70579588 0.84862995\n",
      "  0.93594392 0.95986374 0.69209952 0.31448902 0.69917763 0.6163077\n",
      "  0.59293128 0.52441972 0.64665338 0.39743416 0.13282001 0.\n",
      "  0.56958746 0.7090142  0.92310749 0.80162138 0.09454206 0.20708646\n",
      "  0.68720799 0.37441651 1.06437302 0.75700861 0.13550398 0.54073894\n",
      "  0.82974305 0.82477847 0.702281   0.05973623 1.03913567 0.89733535\n",
      "  0.6993111  0.10106961 0.92637135 0.55653681 0.98375715 0.50515068\n",
      "  0.37531527 0.25779291 0.54350404 0.19514329 0.56524126 1.00723352\n",
      "  0.87006731 1.19564227 0.92604994 0.0922004  0.73623252 1.01211468\n",
      "  0.81895175 0.33659269 0.71005627 0.3370195  0.87650333 0.74178791\n",
      "  1.20989347 0.89466296 1.09340416 0.72755504 0.02799734 1.14401901\n",
      "  0.25604603 0.76680484 0.90021289 0.80941842]\n",
      " [0.2635565  0.35353575 0.46630802 0.45138434 0.63679591 0.5420497\n",
      "  0.52508782 0.7706169  0.32007793 0.2747131  0.67999642 0.14065307\n",
      "  0.22326145 0.41284786 0.27520598 0.33387422 0.73282189 0.72884837\n",
      "  0.76805658 0.23313285 0.72897032 0.12413532 0.18913178 0.48804868\n",
      "  0.22523384 0.38930367 0.4007664  0.36812259 0.50102335 0.44333095\n",
      "  0.4358954  0.33414896 0.16328101 0.03892974 0.31399311 0.49440915\n",
      "  0.51311382 0.81653599 0.59044407 0.25581487 0.68877276 0.1876213\n",
      "  0.04579489 0.6410431  0.37680881 0.36667731 0.59481393 0.56958746\n",
      "  0.         0.16349503 0.92883478 0.8360261  0.63605456 0.41465075\n",
      "  0.1535505  0.51086227 0.68817839 0.23895343 0.60323298 0.07449886\n",
      "  0.39911417 0.33801446 0.60034634 0.52618319 0.69671566 0.33354491\n",
      "  0.54669195 0.56134493 0.35769345 0.6039766  0.66925348 0.67681631\n",
      "  0.1962205  0.43521314 0.63940484 0.41225133 0.59026155 0.46008599\n",
      "  0.34178811 0.73938183 0.35660701 0.55054866 0.17176677 0.81180013\n",
      "  0.44632506 0.43805958 0.16294516 0.51051701 0.33180819 0.25363789\n",
      "  0.73254858 0.73507213 0.58542139 0.30843759 0.58015265 0.65783196\n",
      "  0.35378886 0.78355046 0.34336863 0.45987603]\n",
      " [0.41811919 0.47393351 0.61863367 0.61188106 0.60799439 0.68600285\n",
      "  0.66332048 0.90007937 0.45880162 0.35081566 0.82209165 0.1773622\n",
      "  0.35401543 0.52595272 0.29443299 0.21201196 0.88727482 0.87085464\n",
      "  0.92021732 0.31007867 0.85411169 0.23289647 0.12802522 0.61255039\n",
      "  0.15300712 0.53869053 0.30002792 0.45714532 0.66136256 0.54759739\n",
      "  0.58191099 0.22365368 0.19565742 0.17269583 0.40759713 0.57128531\n",
      "  0.55456784 0.9298142  0.72673688 0.40352071 0.83295872 0.14733191\n",
      "  0.12386451 0.79986268 0.5011613  0.52896831 0.74832353 0.7090142\n",
      "  0.16349503 0.         1.06545704 0.97993527 0.78291117 0.5715228\n",
      "  0.0272744  0.67396803 0.73511813 0.26716049 0.75670766 0.1684037\n",
      "  0.45381258 0.36688185 0.73583883 0.67133635 0.75739239 0.19214637\n",
      "  0.677084   0.71256671 0.25706565 0.75889374 0.74293858 0.8377545\n",
      "  0.33592128 0.59689314 0.79684998 0.56726279 0.7437268  0.40298827\n",
      "  0.1782963  0.7404146  0.23795907 0.70086715 0.05752861 0.91124307\n",
      "  0.52231688 0.60154834 0.18706466 0.67401046 0.29749124 0.11560557\n",
      "  0.7203344  0.84935997 0.5603084  0.38977709 0.72282452 0.64443374\n",
      "  0.47030518 0.92709888 0.28421214 0.54359499]\n",
      " [0.82978296 0.97582178 0.48033475 0.71713662 0.94489488 0.88420992\n",
      "  0.92159821 0.17597173 0.60943617 0.74198948 0.2525303  0.89812525\n",
      "  0.93270151 0.55098253 0.84569255 1.1015028  0.28966852 0.20533183\n",
      "  0.24320975 1.04753493 0.23074977 0.9756463  1.11716305 0.45701688\n",
      "  1.15279514 0.54526443 1.08523084 0.64269471 0.50706702 0.544329\n",
      "  0.85976771 1.07981038 1.06292972 0.90267602 0.67762462 0.58832973\n",
      "  0.69880139 0.2422091  0.33909611 0.8676931  0.24927411 1.11242633\n",
      "  0.97393627 0.39888412 0.56572279 0.62745471 0.80131612 0.92310749\n",
      "  0.92883478 1.06545704 0.         0.12156483 0.87778312 0.77201921\n",
      "  1.06813782 0.56046432 0.64249477 0.84825672 0.80259862 0.98314794\n",
      "  0.70698365 0.79869454 0.32972148 0.8726428  0.57711874 1.14087712\n",
      "  0.38937658 0.82303267 1.06907874 0.3792524  0.5212304  0.42247411\n",
      "  0.90884901 0.70046475 0.38092084 0.79073018 0.37918669 0.9951491\n",
      "  1.22268095 0.84996613 1.1055916  0.83091877 1.03572464 0.33738101\n",
      "  0.62049373 0.62558093 0.89792062 0.59434513 0.93307548 1.17518562\n",
      "  0.90440421 0.28002251 0.92135567 0.70587525 0.90128295 0.89200267\n",
      "  0.98929908 0.16095329 0.98275608 0.58882908]\n",
      " [0.71828906 0.85998095 0.37582057 0.59756394 0.92615318 0.76284652\n",
      "  0.80051976 0.15856582 0.52113447 0.67339714 0.15824362 0.81897461\n",
      "  0.8231036  0.48397659 0.78189199 1.03470693 0.16833339 0.11014788\n",
      "  0.1225543  0.93985731 0.20830319 0.87347273 1.02237022 0.38776535\n",
      "  1.05743971 0.44736797 1.02776662 0.58152654 0.39092532 0.48610711\n",
      "  0.74029803 1.01472649 0.96245878 0.81263419 0.60920138 0.54981108\n",
      "  0.66879402 0.27713756 0.25932883 0.75620702 0.14730544 1.01600103\n",
      "  0.88164784 0.27760494 0.48864228 0.51677149 0.6798078  0.80162138\n",
      "  0.8360261  0.97993527 0.12156483 0.         0.75646102 0.65336698\n",
      "  0.9803459  0.44095577 0.64451874 0.77987893 0.68113974 0.88589366\n",
      "  0.65745121 0.74266519 0.25231939 0.75141547 0.58194035 1.07053054\n",
      "  0.31759125 0.7014892  1.00757005 0.26249878 0.51972669 0.30138173\n",
      "  0.80088893 0.58169008 0.26019956 0.67206696 0.26519798 0.95045907\n",
      "  1.14346979 0.85148938 1.0412413  0.7094262  0.95463789 0.37286945\n",
      "  0.57413566 0.50835895 0.82120669 0.47414176 0.87527817 1.08645412\n",
      "  0.90160842 0.27977521 0.89683604 0.63987692 0.77973251 0.87917147\n",
      "  0.87362459 0.0528645  0.92446701 0.54230605]\n",
      " [0.37419471 0.33448117 0.5215158  0.23927851 1.18278607 0.09895301\n",
      "  0.13496602 0.81783114 0.5962726  0.75804725 0.67920381 0.74688899\n",
      "  0.43105535 0.71541316 0.83771565 0.96976916 0.58814479 0.70640362\n",
      "  0.63470547 0.51588857 0.81702258 0.55267761 0.72037086 0.69749875\n",
      "  0.73767625 0.53934013 1.03060163 0.76904979 0.42759615 0.75766205\n",
      "  0.20107186 0.96862287 0.6209242  0.65165292 0.7368669  0.86564703\n",
      "  0.9614725  0.93717339 0.67648922 0.38091403 0.66723405 0.69906152\n",
      "  0.6634383  0.48377512 0.66323506 0.41108455 0.08065347 0.09454206\n",
      "  0.63605456 0.78291117 0.87778312 0.75646102 0.         0.23831881\n",
      "  0.76246825 0.35326406 1.07772468 0.80630303 0.07707354 0.61472523\n",
      "  0.86053391 0.86577055 0.68596226 0.11191166 1.04719052 0.96794042\n",
      "  0.69188254 0.08465075 0.98904687 0.5260727  0.98872789 0.45541045\n",
      "  0.44699563 0.2662583  0.50496731 0.23305327 0.53815747 1.05853175\n",
      "  0.94877305 1.22165621 0.99201123 0.09038587 0.80593159 0.99696628\n",
      "  0.8404382  0.33549729 0.76685838 0.31556189 0.92892938 0.8233736\n",
      "  1.24026083 0.87722183 1.13268319 0.76154313 0.06901991 1.17739831\n",
      "  0.34464761 0.72624753 0.9562473  0.82755412]\n",
      " [0.15368104 0.21736685 0.33338069 0.06113126 0.94533831 0.16588013\n",
      "  0.1796893  0.67166769 0.3673443  0.5202372  0.53719407 0.51397965\n",
      "  0.24402777 0.4936023  0.59973351 0.74444653 0.49637093 0.5756737\n",
      "  0.5432551  0.35721319 0.65720772 0.35484201 0.53249429 0.49270007\n",
      "  0.55688945 0.32632712 0.79941086 0.53714511 0.26765175 0.53691249\n",
      "  0.09090018 0.74092177 0.43801176 0.42456872 0.50177199 0.6415436\n",
      "  0.7301259  0.77516011 0.5037019  0.17528164 0.53181562 0.51440413\n",
      "  0.44817183 0.38161758 0.4396448  0.19247082 0.18254364 0.20708646\n",
      "  0.41465075 0.5715228  0.77201921 0.65336698 0.23831881 0.\n",
      "  0.55446871 0.21305417 0.85739833 0.56875555 0.19089792 0.40831916\n",
      "  0.62578858 0.62763603 0.51443697 0.14801201 0.8330334  0.74797601\n",
      "  0.50305028 0.15523403 0.75890464 0.39314886 0.77863973 0.383224\n",
      "  0.24582477 0.07169843 0.39515351 0.01871102 0.39601915 0.82118975\n",
      "  0.74555678 0.9901688  0.76539923 0.1479341  0.58641621 0.81933641\n",
      "  0.6121591  0.14899252 0.53310289 0.18351458 0.6921784  0.63083159\n",
      "  1.00610852 0.70511282 0.8950017  0.52514633 0.20252944 0.94171797\n",
      "  0.23154629 0.6113328  0.7211638  0.60234238]\n",
      " [0.40080727 0.45020374 0.61564264 0.5965247  0.63314024 0.66509662\n",
      "  0.6414005  0.90448042 0.45968024 0.3626396  0.82291651 0.1895336\n",
      "  0.33236494 0.53297198 0.31302101 0.23898064 0.8836183  0.871764\n",
      "  0.91757976 0.28404991 0.85948958 0.21069401 0.10205121 0.61752142\n",
      "  0.12919359 0.5366426  0.3273007  0.46804668 0.65431765 0.5564137\n",
      "  0.56169009 0.25090308 0.16895616 0.16867542 0.41730647 0.58480084\n",
      "  0.57284708 0.93791713 0.72908661 0.38445726 0.83313939 0.12056111\n",
      "  0.11043389 0.7938732  0.50570718 0.52021646 0.72972596 0.68720799\n",
      "  0.1535505  0.0272744  1.06813782 0.9803459  0.76246825 0.55446871\n",
      "  0.         0.66402395 0.75335982 0.28408509 0.73808645 0.1479358\n",
      "  0.46978117 0.38532074 0.73842149 0.6507107  0.77390167 0.21745643\n",
      "  0.68085037 0.69334198 0.28433462 0.75494142 0.75755398 0.83028221\n",
      "  0.31585718 0.58240778 0.79165501 0.54952913 0.74040815 0.4292651\n",
      "  0.19159027 0.76353063 0.26497329 0.68141578 0.08267957 0.92199372\n",
      "  0.53570905 0.59032861 0.20169965 0.66264333 0.32163193 0.10734124\n",
      "  0.74450594 0.85712137 0.58508873 0.40128309 0.70159311 0.66854428\n",
      "  0.44618679 0.92758042 0.31005782 0.55590555]\n",
      " [0.30700367 0.4255823  0.17649261 0.15667836 0.90125973 0.33281359\n",
      "  0.36565202 0.47253626 0.30631735 0.49980576 0.33455331 0.56294421\n",
      "  0.4152423  0.39614656 0.60327217 0.8055246  0.28365972 0.3687322\n",
      "  0.33032425 0.53562556 0.4664346  0.49828533 0.67125148 0.35647473\n",
      "  0.70174609 0.22129178 0.8384705  0.47271824 0.07505236 0.43416187\n",
      "  0.29937202 0.79496632 0.58938814 0.50443557 0.45730623 0.54395528\n",
      "  0.65449763 0.58656332 0.32322526 0.34266479 0.32612598 0.65798361\n",
      "  0.55379882 0.16916115 0.35141916 0.14704423 0.27273023 0.37441651\n",
      "  0.51086227 0.67396803 0.56046432 0.44095577 0.35326406 0.21305417\n",
      "  0.66402395 0.         0.74493532 0.58118989 0.27721669 0.53356705\n",
      "  0.57122134 0.60646788 0.33272886 0.3190177  0.70748866 0.82272376\n",
      "  0.34128176 0.28059648 0.80372512 0.18409327 0.64602837 0.17984562\n",
      "  0.40228331 0.14144516 0.18209944 0.23168155 0.19106734 0.82297296\n",
      "  0.85207819 0.9092053  0.82172183 0.28488542 0.67132824 0.64378606\n",
      "  0.52911454 0.07978866 0.57629067 0.03790712 0.70538076 0.75796297\n",
      "  0.93695747 0.52434178 0.8551247  0.48851792 0.3568265  0.88273905\n",
      "  0.43960209 0.40041584 0.74493315 0.50954964]\n",
      " [0.79385269 0.95684546 0.56862272 0.8396854  0.32162772 1.02257905\n",
      "  1.03530031 0.48754608 0.49210616 0.41416761 0.54395644 0.56979274\n",
      "  0.8437794  0.36390268 0.44068663 0.64795394 0.69650005 0.56613932\n",
      "  0.68895946 0.90893334 0.43624486 0.80025378 0.84535559 0.38907549\n",
      "  0.87866403 0.53840934 0.58626463 0.33854656 0.67272039 0.32082892\n",
      "  0.9371586  0.62073328 0.85069221 0.64931059 0.38906215 0.217446\n",
      "  0.18055759 0.40381414 0.4677768  0.81945676 0.56617294 0.8548733\n",
      "  0.7160724  0.70910169 0.41775857 0.66848717 1.00176126 1.06437302\n",
      "  0.68817839 0.73511813 0.64249477 0.64451874 1.07772468 0.85739833\n",
      "  0.75335982 0.74493532 0.         0.46961277 1.00806285 0.76266707\n",
      "  0.28938029 0.36824098 0.46446986 1.00492996 0.06581542 0.70053765\n",
      "  0.42120234 0.99475178 0.59300749 0.63816689 0.12484708 0.76769385\n",
      "  0.80904386 0.81270087 0.68739943 0.87045032 0.61594178 0.45223251\n",
      "  0.82236876 0.20794606 0.63823932 0.99305259 0.68182662 0.3197096\n",
      "  0.25534976 0.74298017 0.55369093 0.77819034 0.46644332 0.84635916\n",
      "  0.26207681 0.36749529 0.31481757 0.38398171 1.0575189  0.25982658\n",
      "  0.96463023 0.60954051 0.50680889 0.25740018]\n",
      " [0.4424628  0.57317158 0.46357664 0.58448409 0.40184651 0.72249134\n",
      "  0.71633725 0.6749598  0.28883152 0.1066209  0.62351342 0.10330274\n",
      "  0.4435179  0.29762277 0.03648872 0.25482917 0.7221485  0.67005969\n",
      "  0.74539317 0.4719971  0.62400312 0.36225823 0.37628556 0.39315433\n",
      "  0.40917053 0.38361068 0.26158089 0.20844182 0.54058567 0.30642749\n",
      "  0.61815176 0.2354626  0.39258851 0.20188242 0.17106892 0.30846974\n",
      "  0.28932281 0.68405946 0.52059837 0.45122367 0.63885826 0.38699514\n",
      "  0.25582638 0.65949635 0.2935628  0.44047965 0.74895318 0.75700861\n",
      "  0.23895343 0.26716049 0.84825672 0.77987893 0.80630303 0.56875555\n",
      "  0.28408509 0.58118989 0.46961277 0.         0.75707772 0.31052443\n",
      "  0.18691898 0.10323632 0.5276211  0.70499768 0.49023907 0.29263896\n",
      "  0.46294737 0.72398142 0.23285648 0.6023449  0.47710668 0.70934181\n",
      "  0.41079566 0.56114026 0.64936151 0.57326201 0.58246767 0.25247964\n",
      "  0.38550281 0.50097466 0.26234881 0.71617768 0.21712235 0.65469866\n",
      "  0.26040314 0.52937965 0.08475184 0.59615367 0.12560816 0.38103313\n",
      "  0.49372134 0.60624949 0.35007347 0.14258564 0.76136714 0.41928875\n",
      "  0.57625671 0.72784269 0.16393777 0.28516196]\n",
      " [0.33983078 0.33621832 0.44767828 0.17640982 1.1247588  0.11249195\n",
      "  0.15852    0.74076905 0.53226119 0.70188828 0.60213427 0.70482376\n",
      "  0.41285064 0.64745792 0.78703792 0.9346641  0.51294605 0.62953137\n",
      "  0.55979452 0.51048687 0.7400625  0.53194502 0.70567101 0.62512177\n",
      "  0.72622891 0.47001023 0.99030527 0.70582109 0.35189498 0.68911848\n",
      "  0.18392294 0.93156352 0.60753898 0.614827   0.67648729 0.79793521\n",
      "  0.89721225 0.86019514 0.60031558 0.35367583 0.59022143 0.68563577\n",
      "  0.63452922 0.40732283 0.59626596 0.34548159 0.00841929 0.13550398\n",
      "  0.60323298 0.75670766 0.80259862 0.68113974 0.07707354 0.19089792\n",
      "  0.73808645 0.27721669 1.00806285 0.75707772 0.         0.59039745\n",
      "  0.79932699 0.81050009 0.60968259 0.11405895 0.97578185 0.93676599\n",
      "  0.61710157 0.04971467 0.94978548 0.44899952 0.91647541 0.3807017\n",
      "  0.42321261 0.20252872 0.42829954 0.19111651 0.4611359  1.00949897\n",
      "  0.9275924  1.15697114 0.95587894 0.06402056 0.7748003  0.92056564\n",
      "  0.77473972 0.26514307 0.72382351 0.23972886 0.88133138 0.80710931\n",
      "  1.17766749 0.80064503 1.07530621 0.70264232 0.10840957 1.1165273\n",
      "  0.34834446 0.65006609 0.91137164 0.7604446 ]\n",
      " [0.25478553 0.3090841  0.51166564 0.4529092  0.70411914 0.51763433\n",
      "  0.49511369 0.82943699 0.37894099 0.34905644 0.73208064 0.20922017\n",
      "  0.18582927 0.48052408 0.34637369 0.36839219 0.77319865 0.78067628\n",
      "  0.81088953 0.16552642 0.78995204 0.06650118 0.1393011  0.55109073\n",
      "  0.17267712 0.43887169 0.44552238 0.44088466 0.53369307 0.51289541\n",
      "  0.41384012 0.37366645 0.08984918 0.11341072 0.38665812 0.56778098\n",
      "  0.58750705 0.88148307 0.64688474 0.23672228 0.7392788  0.13026677\n",
      "  0.0610782  0.67550169 0.44131608 0.39565872 0.58205079 0.54073894\n",
      "  0.07449886 0.1684037  0.98314794 0.88589366 0.61472523 0.40831916\n",
      "  0.1479358  0.53356705 0.76266707 0.31052443 0.59039745 0.\n",
      "  0.47361081 0.41104695 0.65715614 0.50305572 0.77079509 0.35753718\n",
      "  0.60659877 0.54544913 0.40167164 0.64471911 0.74242162 0.70643478\n",
      "  0.16793042 0.44057299 0.67623197 0.40261575 0.63291653 0.51965558\n",
      "  0.3375571  0.81149535 0.39306843 0.53348879 0.19906977 0.88050222\n",
      "  0.51995246 0.45674079 0.23079436 0.52801499 0.39470123 0.2261361\n",
      "  0.80297403 0.80004031 0.65313757 0.38234041 0.55442082 0.72782423\n",
      "  0.30681646 0.83395514 0.40037657 0.53269677]\n",
      " [0.53343168 0.68816775 0.41403605 0.62322172 0.33014946 0.79043813\n",
      "  0.79478489 0.53101277 0.26921328 0.12727595 0.5106842  0.28256579\n",
      "  0.56751257 0.19189331 0.16483688 0.4105623  0.63602808 0.55204772\n",
      "  0.64880882 0.62314681 0.47658242 0.51348473 0.55827725 0.2795072\n",
      "  0.59233396 0.35032849 0.38009253 0.09884707 0.51192355 0.17423395\n",
      "  0.69436165 0.38579204 0.56136077 0.36020257 0.12403445 0.12873743\n",
      "  0.11610086 0.51744486 0.40771555 0.55355272 0.52968095 0.56677886\n",
      "  0.42675547 0.60069429 0.2228293  0.45547913 0.79194266 0.82974305\n",
      "  0.39911417 0.45381258 0.70698365 0.65745121 0.86053391 0.62578858\n",
      "  0.46978117 0.57122134 0.28938029 0.18691898 0.79932699 0.47361081\n",
      "  0.         0.09858501 0.41165142 0.77245282 0.30425568 0.4574628\n",
      "  0.34650491 0.77588573 0.36880993 0.53363462 0.29065057 0.65716988\n",
      "  0.53274823 0.59682944 0.58491968 0.63540166 0.51115733 0.29339457\n",
      "  0.5647852  0.36779012 0.40936521 0.77118681 0.4039244  0.47685462\n",
      "  0.08713637 0.54246142 0.268189   0.59638576 0.23031053 0.5679489\n",
      "  0.38033692 0.44450575 0.28409546 0.10471425 0.8279868  0.31720106\n",
      "  0.69435701 0.60843871 0.27962638 0.11831304]\n",
      " [0.51566114 0.65812695 0.46556974 0.63464043 0.31998109 0.78784736\n",
      "  0.78645004 0.62295588 0.30069146 0.10901334 0.59136728 0.20626112\n",
      "  0.53111114 0.26252428 0.0724498  0.31212927 0.70681434 0.63504481\n",
      "  0.72401245 0.56977283 0.56935311 0.45943189 0.47914721 0.357151\n",
      "  0.5116534  0.39230683 0.28658081 0.16245851 0.55534021 0.25671746\n",
      "  0.68652607 0.28760608 0.49477718 0.29981077 0.15252981 0.22728004\n",
      "  0.18768658 0.61509347 0.48735171 0.52966287 0.60907825 0.49016499\n",
      "  0.35801884 0.65925256 0.27766191 0.47630888 0.80267729 0.82477847\n",
      "  0.33801446 0.36688185 0.79869454 0.74266519 0.86577055 0.62763603\n",
      "  0.38532074 0.60646788 0.36824098 0.10323632 0.81050009 0.41104695\n",
      "  0.09858501 0.         0.49258569 0.77000674 0.39274831 0.35888739\n",
      "  0.42671356 0.78181141 0.27204348 0.59590877 0.38580134 0.71325539\n",
      "  0.49720889 0.60950222 0.64584951 0.63463083 0.57431724 0.22111838\n",
      "  0.46773564 0.40204439 0.31159371 0.77542853 0.31405284 0.57540824\n",
      "  0.18382904 0.56587578 0.18796547 0.62695227 0.1344773  0.47873334\n",
      "  0.39971378 0.5410315  0.26873199 0.11947189 0.82635698 0.32743842\n",
      "  0.6624936  0.69230111 0.1841775  0.21355254]\n",
      " [0.53195515 0.69184302 0.18276393 0.47230463 0.70412811 0.65973559\n",
      "  0.68729439 0.17403319 0.28034159 0.42110066 0.0990916  0.57010588\n",
      "  0.62680723 0.23195897 0.52972377 0.78243752 0.23700658 0.14295662\n",
      "  0.2405447  0.73545238 0.14527017 0.65485878 0.78919274 0.13585847\n",
      "  0.82505069 0.22633923 0.77639074 0.33052508 0.25909512 0.23775\n",
      "  0.6052443  0.76240726 0.73954017 0.57332979 0.35688241 0.31724299\n",
      "  0.44086743 0.26086706 0.0111565  0.56880191 0.11822908 0.78540823\n",
      "  0.6451461  0.24864711 0.23790082 0.3359762  0.60537717 0.702281\n",
      "  0.60034634 0.73583883 0.32972148 0.25231939 0.68596226 0.51443697\n",
      "  0.73842149 0.33272886 0.46446986 0.5276211  0.60968259 0.65715614\n",
      "  0.41165142 0.49258569 0.         0.64444096 0.41281851 0.81871808\n",
      "  0.06587725 0.61224602 0.75547927 0.18011982 0.34705871 0.306015\n",
      "  0.59926814 0.44890254 0.22579747 0.53217004 0.16011565 0.7048499\n",
      "  0.89497096 0.65884616 0.7889302  0.61545789 0.7071099  0.31108035\n",
      "  0.33257933 0.36815958 0.57111083 0.37052878 0.62411344 0.84549564\n",
      "  0.70084927 0.19239189 0.66896524 0.38764153 0.68690453 0.6654722\n",
      "  0.70416581 0.20064648 0.67306769 0.30164152]\n",
      " [0.26663308 0.22691747 0.46851571 0.17310081 1.08910361 0.01798531\n",
      "  0.05059125 0.7914188  0.51535354 0.66390963 0.65357076 0.64080849\n",
      "  0.31914531 0.64103601 0.73752147 0.8600572  0.58588121 0.68693227\n",
      "  0.63350636 0.40619912 0.78316319 0.44078986 0.60885202 0.63573615\n",
      "  0.62672497 0.47103649 0.92291984 0.68483362 0.38738801 0.684234\n",
      "  0.09028801 0.85962187 0.5095133  0.54326133 0.64843177 0.78939394\n",
      "  0.87779387 0.90282066 0.63416128 0.27046198 0.64484864 0.5877141\n",
      "  0.55244961 0.47381131 0.58726701 0.33772237 0.10813921 0.05973623\n",
      "  0.52618319 0.67133635 0.8726428  0.75141547 0.11191166 0.14801201\n",
      "  0.6507107  0.3190177  1.00492996 0.70499768 0.11405895 0.50305572\n",
      "  0.77245282 0.77000674 0.64444096 0.         0.97944639 0.85711858\n",
      "  0.6402869  0.06626633 0.88094506 0.50234977 0.92402123 0.45852108\n",
      "  0.33550534 0.1984     0.49199013 0.13706957 0.5100846  0.95626615\n",
      "  0.83686244 1.13769759 0.88263119 0.05243261 0.69525857 0.95375594\n",
      "  0.76016394 0.27771637 0.66128123 0.28214943 0.82590341 0.71171989\n",
      "  1.15275426 0.83674894 1.03835209 0.67083919 0.05643786 1.08749533\n",
      "  0.23816244 0.71499834 0.85126594 0.75026391]\n",
      " [0.78048313 0.94588409 0.53114098 0.81114772 0.38474389 0.9968535\n",
      "  1.01221557 0.4242553  0.47324167 0.42234421 0.4874131  0.58668683\n",
      "  0.83794419 0.34151943 0.46451908 0.68646171 0.64087919 0.50696413\n",
      "  0.63099539 0.91052424 0.37399666 0.80366761 0.86216639 0.35138472\n",
      "  0.89643469 0.50913568 0.63081126 0.33466701 0.63390157 0.29803999\n",
      "  0.91563776 0.65956543 0.85998448 0.65824313 0.38792323 0.20704805\n",
      "  0.20942025 0.33803101 0.41711276 0.80826276 0.50958953 0.87003292\n",
      "  0.72782859 0.66016211 0.39604608 0.64174879 0.96981518 1.03913567\n",
      "  0.69671566 0.75739239 0.57711874 0.58194035 1.04719052 0.8330334\n",
      "  0.77390167 0.70748866 0.06581542 0.49023907 0.97578185 0.77079509\n",
      "  0.30425568 0.39274831 0.41281851 0.97944639 0.         0.73800923\n",
      "  0.37501397 0.965317   0.63398251 0.58985466 0.06593185 0.71825953\n",
      "  0.80351362 0.78434386 0.63786852 0.84701607 0.56813462 0.50181397\n",
      "  0.85608124 0.27288577 0.67870284 0.96448247 0.70614782 0.2543718\n",
      "  0.25217196 0.71169337 0.57241698 0.74198938 0.50250867 0.87072237\n",
      "  0.32777368 0.30357607 0.37451486 0.38851595 1.03072747 0.32431516\n",
      "  0.9544562  0.54848515 0.5457455  0.24598103]\n",
      " [0.59700489 0.66548025 0.73601236 0.7824213  0.49610092 0.87240621\n",
      "  0.85194869 0.96752247 0.56292365 0.39894873 0.91322342 0.26313005\n",
      "  0.54308333 0.59006177 0.29867092 0.05378831 1.00224028 0.96045506\n",
      "  1.02915265 0.50140617 0.91626309 0.4233877  0.30243743 0.6851811\n",
      "  0.31334141 0.65405573 0.14340841 0.50002711 0.79740086 0.59847117\n",
      "  0.76703765 0.08103433 0.38552679 0.32566996 0.46338845 0.58606787\n",
      "  0.5288451  0.97169055 0.8112808  0.58703314 0.92760592 0.32549088\n",
      "  0.30471358 0.92824144 0.58211558 0.67570184 0.92834723 0.89733535\n",
      "  0.33354491 0.19214637 1.14087712 1.07053054 0.96794042 0.74797601\n",
      "  0.21745643 0.82272376 0.70053765 0.29263896 0.93676599 0.35753718\n",
      "  0.4574628  0.35888739 0.81871808 0.85711858 0.73800923 0.\n",
      "  0.7546417  0.89455537 0.11465315 0.87771821 0.74046842 0.97279106\n",
      "  0.52225459 0.76457397 0.92130633 0.74579486 0.85957662 0.28222974\n",
      "  0.13110903 0.6525719  0.07217297 0.88353023 0.16212203 0.93428987\n",
      "  0.54134933 0.7568278  0.25464309 0.82873359 0.23554    0.22573663\n",
      "  0.61907614 0.89556139 0.45663625 0.4351633  0.90988549 0.54680597\n",
      "  0.66216663 1.01816374 0.19390982 0.56953038]\n",
      " [0.50187572 0.66595319 0.17190175 0.46720328 0.64459885 0.65645931\n",
      "  0.68027019 0.22410426 0.22766016 0.35633894 0.16477767 0.50875155\n",
      "  0.59091064 0.16638793 0.46430312 0.71766069 0.2952562  0.20867789\n",
      "  0.30330542 0.69497735 0.18364156 0.60902356 0.73582275 0.07017892\n",
      "  0.77191085 0.19126577 0.71061363 0.26465913 0.26625396 0.17234845\n",
      "  0.59275091 0.6973506  0.69112916 0.51788373 0.29196826 0.25721261\n",
      "  0.38109124 0.28604629 0.06121085 0.53752226 0.18323892 0.73326353\n",
      "  0.59079949 0.2885269  0.17639171 0.31550353 0.61204642 0.6993111\n",
      "  0.54669195 0.677084   0.38937658 0.31759125 0.69188254 0.50305028\n",
      "  0.68085037 0.34128176 0.42120234 0.46294737 0.61710157 0.60659877\n",
      "  0.34650491 0.42671356 0.06587725 0.6402869  0.37501397 0.7546417\n",
      "  0.         0.61433922 0.68998551 0.21734466 0.31072794 0.34736515\n",
      "  0.56153079 0.44210825 0.26749263 0.51989772 0.19489542 0.63946739\n",
      "  0.83338182 0.60839947 0.72378632 0.61603159 0.64638137 0.31697604\n",
      "  0.26896333 0.36273139 0.50881121 0.37791834 0.55829198 0.78814892\n",
      "  0.6475774  0.20831285 0.60792572 0.3223266  0.68622264 0.60855558\n",
      "  0.67760948 0.26626224 0.60728977 0.23858729]\n",
      " [0.29789115 0.28652307 0.44292465 0.15530265 1.09841654 0.0685159\n",
      "  0.11412935 0.75133293 0.51182609 0.6738808  0.61270796 0.66741642\n",
      "  0.36585357 0.63187978 0.75493917 0.89406961 0.53428302 0.64316013\n",
      "  0.58168526 0.46146035 0.74697543 0.48585923 0.65837039 0.61676792\n",
      "  0.67830716 0.45665235 0.95218308 0.68446996 0.35315654 0.67433533\n",
      "  0.13538685 0.8918435  0.55986569 0.57469929 0.65223412 0.7819371\n",
      "  0.87696555 0.86713175 0.60241436 0.3090489  0.6023407  0.63805439\n",
      "  0.59118093 0.42476341 0.57939992 0.3271602  0.04278267 0.10106961\n",
      "  0.56134493 0.71256671 0.82303267 0.7014892  0.08465075 0.15523403\n",
      "  0.69334198 0.28059648 0.99475178 0.72398142 0.04971467 0.54544913\n",
      "  0.77588573 0.78181141 0.61224602 0.06626633 0.965317   0.89455537\n",
      "  0.61433922 0.         0.91112497 0.45986524 0.90758271 0.40419396\n",
      "  0.37773603 0.18232763 0.44437498 0.15189875 0.46986517 0.97640125\n",
      "  0.8820554  1.13717241 0.91575205 0.01438821 0.73244587 0.92318122\n",
      "  0.75618835 0.25426241 0.68696182 0.24272392 0.84726178 0.76023929\n",
      "  1.15561828 0.80438672 1.04840262 0.67700943 0.07829286 1.09276947\n",
      "  0.29863034 0.66757611 0.87568191 0.74366649]\n",
      " [0.61489324 0.70844232 0.69567558 0.78546868 0.38218591 0.89731596\n",
      "  0.88226415 0.89374595 0.5206074  0.3364567  0.85279739 0.24637721\n",
      "  0.57982623 0.52359768 0.22580027 0.06160083 0.95492992 0.89841193\n",
      "  0.97759526 0.56036273 0.84064842 0.4677079  0.38232417 0.6198076\n",
      "  0.40070947 0.61501475 0.0438931  0.42714975 0.768747   0.52497415\n",
      "  0.79086996 0.03700684 0.45023742 0.33768577 0.39949413 0.49679146\n",
      "  0.42652937 0.88623244 0.74911538 0.61190668 0.86895384 0.40330395\n",
      "  0.3420432  0.89130656 0.52513401 0.65883341 0.94141718 0.92637135\n",
      "  0.35769345 0.25706565 1.06907874 1.00757005 0.98904687 0.75890464\n",
      "  0.28433462 0.80372512 0.59300749 0.23285648 0.94978548 0.40167164\n",
      "  0.36880993 0.27204348 0.75547927 0.88094506 0.63398251 0.11465315\n",
      "  0.68998551 0.91112497 0.         0.83504784 0.6415288  0.94006027\n",
      "  0.55387955 0.76482039 0.88170538 0.7595534  0.81527935 0.16797352\n",
      "  0.24553132 0.53796007 0.04544993 0.90135296 0.20708811 0.84181048\n",
      "  0.45542707 0.74504946 0.22957644 0.81485972 0.13856823 0.32397214\n",
      "  0.50464175 0.81293679 0.34204753 0.3679398  0.93579749 0.43216982\n",
      "  0.70729087 0.95612574 0.09007263 0.48553646]\n",
      " [0.45791582 0.59750957 0.14190057 0.339751   0.85057514 0.51558067\n",
      "  0.5495479  0.29189483 0.31559256 0.50268766 0.1531849  0.6156496\n",
      "  0.56423074 0.34179423 0.6146266  0.8501934  0.12885878 0.18468855\n",
      "  0.16698768 0.68264861 0.29313059 0.62426514 0.78365678 0.26454949\n",
      "  0.81738631 0.22383271 0.86315724 0.43860214 0.12842796 0.36654712\n",
      "  0.48178201 0.83440668 0.71505054 0.58664642 0.44496346 0.4667546\n",
      "  0.58898506 0.41262327 0.17402031 0.49571802 0.14264136 0.77460139\n",
      "  0.64962291 0.07125434 0.3182501  0.25885429 0.44589003 0.55653681\n",
      "  0.6039766  0.75889374 0.3792524  0.26249878 0.5260727  0.39314886\n",
      "  0.75494142 0.18409327 0.63816689 0.6023449  0.44899952 0.64471911\n",
      "  0.53363462 0.59590877 0.18011982 0.50234977 0.58985466 0.87771821\n",
      "  0.21734466 0.45986524 0.83504784 0.         0.52458298 0.13017383\n",
      "  0.54402458 0.32181514 0.05175321 0.41184998 0.02300564 0.81665358\n",
      "  0.93153951 0.82484001 0.86164368 0.46559044 0.74294808 0.48017708\n",
      "  0.4684997  0.24635565 0.6230797  0.22024983 0.71630157 0.85760752\n",
      "  0.86226832 0.35918895 0.81032825 0.47842945 0.53747146 0.81943037\n",
      "  0.61113662 0.21835075 0.76209893 0.44136323]\n",
      " [0.73396478 0.90057511 0.47013718 0.75423782 0.42827999 0.94124881\n",
      "  0.95823134 0.36307156 0.42475107 0.39825422 0.42172078 0.5683715\n",
      "  0.79707311 0.292381   0.45518803 0.69055706 0.57507623 0.4421165\n",
      "  0.56570901 0.87556777 0.31143301 0.77082903 0.84153691 0.29135609\n",
      "  0.87657568 0.45298768 0.64284729 0.30170869 0.57195301 0.24968685\n",
      "  0.86288086 0.66428286 0.83217291 0.63147705 0.35593109 0.17499749\n",
      "  0.21644059 0.28675572 0.3515052  0.76328122 0.44391194 0.84774366\n",
      "  0.70315836 0.59471351 0.34641604 0.58650347 0.91069423 0.98375715\n",
      "  0.66925348 0.74293858 0.5212304  0.51972669 0.98872789 0.77863973\n",
      "  0.75755398 0.64602837 0.12484708 0.47710668 0.91647541 0.74242162\n",
      "  0.29065057 0.38580134 0.34705871 0.92402123 0.06593185 0.74046842\n",
      "  0.31072794 0.90758271 0.6415288  0.52458298 0.         0.65269498\n",
      "  0.76305246 0.72760952 0.57231888 0.79318359 0.5030023  0.52187903\n",
      "  0.85341084 0.33204981 0.68522289 0.90724416 0.69422572 0.21291639\n",
      "  0.2237081  0.65344752 0.55611717 0.68106322 0.5058743  0.85773171\n",
      "  0.38410973 0.24372945 0.41151674 0.36179267 0.97442442 0.37201054\n",
      "  0.90972211 0.4847985  0.55183151 0.21002156]\n",
      " [0.48678475 0.59994962 0.24795651 0.32273688 0.9780274  0.46829997\n",
      "  0.50872796 0.38437953 0.42068456 0.61476792 0.25415761 0.70974095\n",
      "  0.59506954 0.4663268  0.72525958 0.94976736 0.1331561  0.26655423\n",
      "  0.1793073  0.7154617  0.39923548 0.67512837 0.84526097 0.39366769\n",
      "  0.87681433 0.32582047 0.97087783 0.56025519 0.17661691 0.49383294\n",
      "  0.46178124 0.93611744 0.76656145 0.66554099 0.56086612 0.59598309\n",
      "  0.71753045 0.51380845 0.30119252 0.5225082  0.2360455  0.83315721\n",
      "  0.72124966 0.05892665 0.43715308 0.31118796 0.37980114 0.50515068\n",
      "  0.67681631 0.8377545  0.42247411 0.30138173 0.45541045 0.383224\n",
      "  0.83028221 0.17984562 0.76769385 0.70934181 0.3807017  0.70643478\n",
      "  0.65716988 0.71325539 0.306015   0.45852108 0.71825953 0.97279106\n",
      "  0.34736515 0.40419396 0.94006027 0.13017383 0.65269498 0.\n",
      "  0.58155383 0.31414219 0.08039635 0.40112328 0.15296815 0.93434523\n",
      "  1.01439231 0.9549977  0.96331008 0.41326853 0.8289604  0.59116966\n",
      "  0.59571301 0.25949757 0.71991468 0.20094144 0.82798203 0.92809161\n",
      "  0.99213251 0.47156472 0.93674842 0.59421082 0.48192933 0.94836346\n",
      "  0.61409945 0.27496908 0.87194438 0.5694393 ]\n",
      " [0.09777597 0.16243761 0.42874913 0.29620378 0.81211315 0.35041271\n",
      "  0.33021925 0.77272854 0.34863487 0.40703088 0.65709387 0.32658616\n",
      "  0.03482173 0.47539303 0.44673481 0.52791544 0.66785182 0.70353252\n",
      "  0.71014756 0.13896893 0.74200559 0.10937609 0.28667011 0.52083152\n",
      "  0.31163497 0.37314424 0.59698683 0.47078989 0.42065883 0.51561833\n",
      "  0.24599466 0.5296763  0.19343942 0.2208522  0.42017473 0.59669265\n",
      "  0.64840535 0.84722013 0.58823229 0.07068814 0.65965067 0.26880947\n",
      "  0.2176499  0.56049864 0.42512532 0.28521102 0.41490597 0.37531527\n",
      "  0.1962205  0.33592128 0.90884901 0.80088893 0.44699563 0.24582477\n",
      "  0.31585718 0.40228331 0.80904386 0.41079566 0.42321261 0.16793042\n",
      "  0.53274823 0.49720889 0.59926814 0.33550534 0.80351362 0.52225459\n",
      "  0.56153079 0.37773603 0.55387955 0.54402458 0.76305246 0.58155383\n",
      "  0.         0.28843033 0.56599606 0.23801368 0.53708414 0.64986724\n",
      "  0.50442269 0.89503607 0.55139279 0.36565107 0.36092547 0.86477142\n",
      "  0.55421883 0.32252797 0.34871752 0.38877636 0.51941444 0.38560232\n",
      "  0.89672002 0.76786598 0.76029376 0.42932542 0.38767333 0.82459836\n",
      "  0.16561886 0.75152485 0.53625858 0.55753262]\n",
      " [0.19083691 0.28594632 0.27057122 0.02702539 0.9224637  0.21494926\n",
      "  0.2387056  0.60269082 0.33046944 0.50062039 0.46722054 0.51844686\n",
      "  0.29376669 0.44958205 0.58952249 0.75605625 0.42496489 0.50490044\n",
      "  0.47174317 0.41189672 0.59015987 0.39390052 0.57181188 0.43805345\n",
      "  0.5988789  0.27522029 0.80361116 0.50376709 0.19744993 0.4921197\n",
      "  0.16029546 0.749975   0.48162638 0.43890757 0.47396827 0.59960955\n",
      "  0.69571576 0.7089231  0.43837519 0.22113497 0.46123328 0.55552326\n",
      "  0.47312024 0.31028041 0.39708352 0.14485678 0.19511322 0.25779291\n",
      "  0.43521314 0.59689314 0.70046475 0.58169008 0.2662583  0.07169843\n",
      "  0.58240778 0.14144516 0.81270087 0.56114026 0.20252872 0.44057299\n",
      "  0.59682944 0.60950222 0.44890254 0.1984     0.78434386 0.76457397\n",
      "  0.44210825 0.18232763 0.76482039 0.32181514 0.72760952 0.31414219\n",
      "  0.28843033 0.         0.32352528 0.09038452 0.32529084 0.81268785\n",
      "  0.77392302 0.95577827 0.77546593 0.18037472 0.60527391 0.75659221\n",
      "  0.57422698 0.08076406 0.53579603 0.11332595 0.68641983 0.66631985\n",
      "  0.97551229 0.64067285 0.87319088 0.50032445 0.24689377 0.91402983\n",
      "  0.3000735  0.53985575 0.71935283 0.56137014]\n",
      " [0.47592706 0.60618974 0.18616009 0.33808745 0.90232803 0.50393199\n",
      "  0.54074047 0.31686313 0.36123654 0.55108526 0.18119172 0.65853563\n",
      "  0.58375047 0.39316558 0.66274345 0.89518927 0.10303703 0.20204681\n",
      "  0.148636   0.70347688 0.32584696 0.65167775 0.81551541 0.31622318\n",
      "  0.84852993 0.26767931 0.91063707 0.4894575  0.14541621 0.41828094\n",
      "  0.48076803 0.88005506 0.74302197 0.62419034 0.49436949 0.51835918\n",
      "  0.64069765 0.44311345 0.22082815 0.51322581 0.16561861 0.8053289\n",
      "  0.68475551 0.02382163 0.36826964 0.28342667 0.42605943 0.54350404\n",
      "  0.63940484 0.79684998 0.38092084 0.26019956 0.50496731 0.39515351\n",
      "  0.79165501 0.18209944 0.68739943 0.64936151 0.42829954 0.67623197\n",
      "  0.58491968 0.64584951 0.22579747 0.49199013 0.63786852 0.92130633\n",
      "  0.26749263 0.44437498 0.88170538 0.05175321 0.57231888 0.08039635\n",
      "  0.56599606 0.32352528 0.         0.4137788  0.07472081 0.86679222\n",
      "  0.97113256 0.87562885 0.90730223 0.45150205 0.78334386 0.5164045\n",
      "  0.52023818 0.25450143 0.66689223 0.21412404 0.76481066 0.89279839\n",
      "  0.91352842 0.39593943 0.86203659 0.52784632 0.52262923 0.87107267\n",
      "  0.62009707 0.22330168 0.81012177 0.49311323]\n",
      " [0.14928037 0.20025628 0.35075416 0.0784911  0.95310148 0.15505325\n",
      "  0.16519953 0.69000302 0.37944746 0.5278401  0.55571064 0.51553573\n",
      "  0.23385048 0.50690656 0.60481982 0.74360917 0.51490163 0.59430714\n",
      "  0.56182456 0.34477559 0.67518782 0.34736229 0.52433437 0.50827664\n",
      "  0.5478916  0.34152944 0.80045345 0.54796185 0.28624231 0.55031073\n",
      "  0.07311039 0.74076932 0.42881545 0.42383507 0.51137533 0.65415341\n",
      "  0.74088452 0.7929616  0.52140037 0.16733878 0.55042433 0.50575391\n",
      "  0.4444013  0.40013228 0.45274958 0.20781253 0.18269967 0.19514329\n",
      "  0.41225133 0.56726279 0.79073018 0.67206696 0.23305327 0.01871102\n",
      "  0.54952913 0.23168155 0.87045032 0.57326201 0.19111651 0.40261575\n",
      "  0.63540166 0.63463083 0.53217004 0.13706957 0.84701607 0.74579486\n",
      "  0.51989772 0.15189875 0.7595534  0.41184998 0.79318359 0.40112328\n",
      "  0.23801368 0.09038452 0.4137788  0.         0.41465598 0.82548036\n",
      "  0.74015261 1.00070394 0.76494183 0.14314127 0.58391998 0.83641415\n",
      "  0.62389247 0.16746623 0.53506379 0.20182014 0.69595694 0.62359006\n",
      "  1.01571697 0.72256897 0.90254595 0.53398489 0.19270509 0.95066439\n",
      "  0.214429   0.63004152 0.72388206 0.61478528]\n",
      " [0.45313784 0.59664478 0.12522208 0.34455937 0.82763205 0.52381614\n",
      "  0.55649216 0.28166459 0.29685193 0.48206594 0.14348618 0.59803074\n",
      "  0.55841176 0.31927762 0.59411528 0.83131697 0.14375602 0.1796558\n",
      "  0.1780674  0.6759718  0.2791106  0.61451702 0.77151992 0.24154476\n",
      "  0.80556958 0.20657572 0.84292948 0.41645147 0.12865191 0.34366009\n",
      "  0.4855828  0.81518581 0.70489423 0.57186917 0.42376008 0.44375036\n",
      "  0.56598867 0.39913363 0.15342316 0.49104632 0.13597757 0.76302966\n",
      "  0.63599758 0.09404679 0.29673394 0.25212738 0.45769036 0.56524126\n",
      "  0.59026155 0.7437268  0.37918669 0.26519798 0.53815747 0.39601915\n",
      "  0.74040815 0.19106734 0.61594178 0.58246767 0.4611359  0.63291653\n",
      "  0.51115733 0.57431724 0.16011565 0.5100846  0.56813462 0.85957662\n",
      "  0.19489542 0.46986517 0.81527935 0.02300564 0.5030023  0.15296815\n",
      "  0.53708414 0.32529084 0.07472081 0.41465598 0.         0.79490364\n",
      "  0.91543527 0.80203455 0.84240851 0.47499592 0.72654101 0.46383952\n",
      "  0.44560145 0.247751   0.60495637 0.2282268  0.6955306  0.84375912\n",
      "  0.83932581 0.34290553 0.78747113 0.45720233 0.54697524 0.79642476\n",
      "  0.61011277 0.21847354 0.74159279 0.41839749]\n",
      " [0.69180789 0.81129467 0.68657705 0.8364038  0.21428145 0.97362396\n",
      "  0.96567527 0.81967768 0.51935839 0.32349513 0.80392669 0.32329392\n",
      "  0.68029757 0.47962668 0.22323026 0.22957422 0.92552425 0.8454351\n",
      "  0.94060791 0.68478349 0.76446329 0.5817091  0.53101249 0.57148158\n",
      "  0.55412572 0.61232873 0.14425094 0.37980924 0.77481666 0.46713753\n",
      "  0.86857346 0.20403607 0.58413756 0.42984006 0.37350436 0.40691796\n",
      "  0.30766763 0.78986261 0.70065144 0.69736089 0.82270616 0.54971032\n",
      "  0.45870721 0.88034973 0.49852394 0.68733938 1.00138753 1.00723352\n",
      "  0.46008599 0.40298827 0.9951491  0.95045907 1.05853175 0.82118975\n",
      "  0.4292651  0.82297296 0.45223251 0.25247964 1.00949897 0.51965558\n",
      "  0.29339457 0.22111838 0.7048499  0.95626615 0.50181397 0.28222974\n",
      "  0.63946739 0.97640125 0.16797352 0.81665358 0.52187903 0.93434523\n",
      "  0.64986724 0.81268785 0.86679222 0.82548036 0.79490364 0.\n",
      "  0.41331566 0.37228533 0.21068207 0.96849216 0.34680119 0.73193435\n",
      "  0.37668996 0.776951   0.301158   0.84118945 0.13100146 0.48578864\n",
      "  0.33686467 0.72388323 0.1748624  0.34023599 1.01252818 0.26527131\n",
      "  0.81260895 0.90174166 0.12049199 0.40859613]\n",
      " [0.59188191 0.62717013 0.7902337  0.78811158 0.62720159 0.85054334\n",
      "  0.82407614 1.05286253 0.62441058 0.48657012 0.98522654 0.32486701\n",
      "  0.51774759 0.67408508 0.40051563 0.18407454 1.05919127 1.03357272\n",
      "  1.09033295 0.44939947 1.0040176  0.39643118 0.23623064 0.76594758\n",
      "  0.23256184 0.70913767 0.27349955 0.59252639 0.8378121  0.68893982\n",
      "  0.74894795 0.21061121 0.33377896 0.34893049 0.54920199 0.69143736\n",
      "  0.64678455 1.06918658 0.88655002 0.57405925 0.99756249 0.25978954\n",
      "  0.30110391 0.97508865 0.65728716 0.70669658 0.9192706  0.87006731\n",
      "  0.34178811 0.1782963  1.22268095 1.14346979 0.94877305 0.74555678\n",
      "  0.19159027 0.85207819 0.82236876 0.38550281 0.9275924  0.3375571\n",
      "  0.5647852  0.46773564 0.89497096 0.83686244 0.85608124 0.13110903\n",
      "  0.83338182 0.8820554  0.24553132 0.93153951 0.85341084 1.01439231\n",
      "  0.50442269 0.77392302 0.97113256 0.74015261 0.91543527 0.41331566\n",
      "  0.         0.78300551 0.20308936 0.8697878  0.18937303 1.03935623\n",
      "  0.64446345 0.77984454 0.32498055 0.85230509 0.35610483 0.13582809\n",
      "  0.75013279 0.99073932 0.58757471 0.5250799  0.88609049 0.67764415\n",
      "  0.62125476 1.09064001 0.31953976 0.67034573]\n",
      " [0.90103564 1.05336964 0.73683237 0.98262847 0.17161585 1.15566453\n",
      "  1.1616661  0.69512044 0.62539185 0.48890667 0.74431531 0.60324979\n",
      "  0.9294759  0.51352002 0.46530439 0.59905676 0.89463181 0.76972768\n",
      "  0.89052783 0.97172304 0.64321078 0.86143205 0.86376019 0.56401649\n",
      "  0.89272009 0.69139238 0.51645966 0.45310781 0.84112926 0.47513488\n",
      "  1.06136134 0.57239474 0.89249393 0.70152117 0.49069045 0.36565932\n",
      "  0.26023857 0.61003418 0.66066945 0.92022627 0.76644194 0.87821902\n",
      "  0.756112   0.89607135 0.56188202 0.81155164 1.14997424 1.19564227\n",
      "  0.73938183 0.7404146  0.84996613 0.85148938 1.22165621 0.9901688\n",
      "  0.76353063 0.9092053  0.20794606 0.50097466 1.15697114 0.81149535\n",
      "  0.36779012 0.40204439 0.65884616 1.13769759 0.27288577 0.6525719\n",
      "  0.60839947 1.13717241 0.53796007 0.82484001 0.33204981 0.9549977\n",
      "  0.89503607 0.95577827 0.87562885 1.00070394 0.80203455 0.37228533\n",
      "  0.78300551 0.         0.58205068 1.13344536 0.6831299  0.52219351\n",
      "  0.38257162 0.89414391 0.58269189 0.93926282 0.44394588 0.83956319\n",
      "  0.06095884 0.57537768 0.19809118 0.47221671 1.19269779 0.10839031\n",
      "  1.0588585  0.81512392 0.4680971  0.3997721 ]\n",
      " [0.61816588 0.70193257 0.72115113 0.79509107 0.42418657 0.89860069\n",
      "  0.88134278 0.93072442 0.54619441 0.36814296 0.8854673  0.25939427\n",
      "  0.57539473 0.55758924 0.26006958 0.02611753 0.98331595 0.93167028\n",
      "  1.00745771 0.5466417  0.87813724 0.45956292 0.35862078 0.65369725\n",
      "  0.37380065 0.6397912  0.07171575 0.46292404 0.79020444 0.56127483\n",
      "  0.79235243 0.02724718 0.43350919 0.3411184  0.43209227 0.53784109\n",
      "  0.47079289 0.92664151 0.78220244 0.6123942  0.90105866 0.38064961\n",
      "  0.33549767 0.91597678 0.55591157 0.67563686 0.94747616 0.92604994\n",
      "  0.35660701 0.23795907 1.1055916  1.0412413  0.99201123 0.76539923\n",
      "  0.26497329 0.82172183 0.63823932 0.26234881 0.95587894 0.39306843\n",
      "  0.40936521 0.31159371 0.7889302  0.88263119 0.67870284 0.07217297\n",
      "  0.72378632 0.91575205 0.04544993 0.86164368 0.68522289 0.96331008\n",
      "  0.55139279 0.77546593 0.90730223 0.76494183 0.84240851 0.21068207\n",
      "  0.20308936 0.58205068 0.         0.90546638 0.19431114 0.88406856\n",
      "  0.49541268 0.76020761 0.24545913 0.83097565 0.18026021 0.29157931\n",
      "  0.54751109 0.85248351 0.38541013 0.40150525 0.93675111 0.47572801\n",
      "  0.69988276 0.9894468  0.13342772 0.52501578]\n",
      " [0.28734637 0.27230896 0.44432718 0.15343528 1.09265679 0.05641939\n",
      "  0.10126735 0.75662917 0.5083419  0.66779024 0.61813161 0.65817184\n",
      "  0.35312066 0.62974655 0.74745124 0.88362379 0.54262535 0.6493749\n",
      "  0.59011771 0.44772094 0.75127169 0.47346149 0.64541841 0.61682453\n",
      "  0.66508102 0.45546317 0.94258657 0.68049727 0.35653639 0.67240117\n",
      "  0.12212041 0.88170677 0.54676786 0.56454141 0.64737146 0.77954404\n",
      "  0.87320716 0.87135426 0.60550727 0.29738808 0.60819294 0.62498403\n",
      "  0.57982206 0.43228055 0.57693307 0.32480444 0.05716917 0.0922004\n",
      "  0.55054866 0.70086715 0.83091877 0.7094262  0.09038587 0.1479341\n",
      "  0.68141578 0.28488542 0.99305259 0.71617768 0.06402056 0.53348879\n",
      "  0.77118681 0.77542853 0.61545789 0.05243261 0.96448247 0.88353023\n",
      "  0.61603159 0.01438821 0.90135296 0.46559044 0.90724416 0.41326853\n",
      "  0.36565107 0.18037472 0.45150205 0.14314127 0.47499592 0.96849216\n",
      "  0.8697878  1.13344536 0.90546638 0.         0.72140827 0.92616181\n",
      "  0.75303017 0.25460288 0.67789642 0.24714857 0.83907402 0.74745398\n",
      "  1.15118934 0.80775619 1.04248003 0.671684   0.0719846  1.08782663\n",
      "  0.28436298 0.67479783 0.86693819 0.74106327]\n",
      " [0.43498799 0.50814649 0.60140289 0.62229025 0.55064159 0.71066867\n",
      "  0.69103808 0.86753755 0.43506451 0.30806719 0.79640726 0.13818985\n",
      "  0.38304606 0.49011745 0.24178715 0.16938423 0.87028179 0.84486713\n",
      "  0.90106212 0.35363058 0.81993238 0.26555655 0.18472076 0.57992882\n",
      "  0.21052985 0.52008806 0.2508018  0.41505399 0.65240486 0.508505\n",
      "  0.60511156 0.17628627 0.24334742 0.16774509 0.36791629 0.52453875\n",
      "  0.50145023 0.8907949  0.69847955 0.42501935 0.80848293 0.20291902\n",
      "  0.14331997 0.78802222 0.47000387 0.52464874 0.76638264 0.73623252\n",
      "  0.17176677 0.05752861 1.03572464 0.95463789 0.80593159 0.58641621\n",
      "  0.08267957 0.67132824 0.68182662 0.21712235 0.7748003  0.19906977\n",
      "  0.4039244  0.31405284 0.7071099  0.69525857 0.70614782 0.16212203\n",
      "  0.64638137 0.73244587 0.20708811 0.74294808 0.69422572 0.8289604\n",
      "  0.36092547 0.60527391 0.78334386 0.58391998 0.72654101 0.34680119\n",
      "  0.18937303 0.6831299  0.19431114 0.72140827 0.         0.86798178\n",
      "  0.47592639 0.60222893 0.14264649 0.67460508 0.23998368 0.16468367\n",
      "  0.6628087  0.81106753 0.50283021 0.34718395 0.74830137 0.58691277\n",
      "  0.50581474 0.90178657 0.22739419 0.49878931]\n",
      " [0.81403529 0.98000664 0.4862975  0.7809001  0.63788435 0.96941266\n",
      "  0.99527697 0.2209907  0.51686555 0.56056796 0.33703701 0.73388215\n",
      "  0.89624721 0.4001358  0.63917653 0.88677753 0.48128341 0.33346101\n",
      "  0.45591103 0.99184894 0.1923739  0.89611585 0.99555081 0.34440916\n",
      "  1.03163066 0.50515673 0.84706789 0.45412322 0.57010081 0.36865476\n",
      "  0.90938805 0.86146229 0.96941876 0.77696376 0.50490859 0.34850907\n",
      "  0.42438429 0.09727242 0.32078043 0.84838703 0.35590569 0.99795178\n",
      "  0.85129359 0.54021886 0.44354772 0.63243253 0.91635322 1.01211468\n",
      "  0.81180013 0.91124307 0.33738101 0.37286945 0.99696628 0.81933641\n",
      "  0.92199372 0.64378606 0.3197096  0.65469866 0.92056564 0.88050222\n",
      "  0.47685462 0.57540824 0.31108035 0.95375594 0.2543718  0.93428987\n",
      "  0.31697604 0.92318122 0.84181048 0.48017708 0.21291639 0.59116966\n",
      "  0.86477142 0.75659221 0.5164045  0.83641415 0.46383952 0.73193435\n",
      "  1.03935623 0.52219351 0.88406856 0.92616181 0.86798178 0.\n",
      "  0.39489756 0.67627354 0.7257192  0.68160249 0.70382315 1.02679884\n",
      "  0.57959253 0.12099271 0.62374436 0.52151966 0.99740073 0.57854565\n",
      "  0.99120342 0.35519348 0.75174729 0.36964896]\n",
      " [0.53936055 0.70159228 0.36123256 0.60117424 0.38231663 0.77803894\n",
      "  0.78739811 0.44456485 0.24496723 0.17463883 0.43095118 0.34618368\n",
      "  0.58888872 0.13351877 0.24441532 0.49567033 0.56287802 0.47046946\n",
      "  0.57224302 0.65843417 0.38989975 0.55151723 0.6180247  0.20617162\n",
      "  0.65319664 0.30942238 0.46722659 0.08343311 0.46382374 0.10196671\n",
      "  0.68801137 0.47138472 0.60951002 0.40826796 0.13582647 0.0491256\n",
      "  0.12544092 0.43127245 0.32973257 0.56430699 0.45076074 0.62404683\n",
      "  0.4795392  0.53781384 0.17939579 0.42959576 0.76782882 0.81895175\n",
      "  0.44632506 0.52231688 0.62049373 0.57413566 0.8404382  0.6121591\n",
      "  0.53570905 0.52911454 0.25534976 0.26040314 0.77473972 0.51995246\n",
      "  0.08713637 0.18382904 0.33257933 0.76016394 0.25217196 0.54134933\n",
      "  0.26896333 0.75618835 0.45542707 0.4684997  0.2237081  0.59571301\n",
      "  0.55421883 0.57422698 0.52023818 0.62389247 0.44560145 0.37668996\n",
      "  0.64446345 0.38257162 0.49541268 0.75303017 0.47592639 0.39489756\n",
      "  0.         0.5115723  0.33528649 0.55792236 0.31708895 0.63770336\n",
      "  0.40785222 0.35756504 0.34200463 0.13818282 0.81427914 0.35559234\n",
      "  0.70930231 0.52608133 0.36653887 0.03190808]\n",
      " [0.22728721 0.35220778 0.19086042 0.1046579  0.87155982 0.29375055\n",
      "  0.31925601 0.52278826 0.27325078 0.45720518 0.38825298 0.50082365\n",
      "  0.33559348 0.38271422 0.55450138 0.74273332 0.35742316 0.42726952\n",
      "  0.40299214 0.45599712 0.50949133 0.41946525 0.59358303 0.36250761\n",
      "  0.623548   0.20489848 0.78157393 0.44625428 0.11910726 0.42409279\n",
      "  0.23953651 0.73384826 0.51033922 0.43455434 0.42255306 0.53317735\n",
      "  0.63531925 0.62817148 0.35765283 0.26317985 0.38322921 0.5797795\n",
      "  0.47989835 0.24454346 0.3323719  0.08971889 0.25878248 0.33659269\n",
      "  0.43805958 0.60154834 0.62558093 0.50835895 0.33549729 0.14899252\n",
      "  0.59032861 0.07978866 0.74298017 0.52937965 0.26514307 0.45674079\n",
      "  0.54246142 0.56587578 0.36815958 0.27771637 0.71169337 0.7568278\n",
      "  0.36273139 0.25426241 0.74504946 0.24635565 0.65344752 0.25949757\n",
      "  0.32252797 0.08076406 0.25450143 0.16746623 0.247751   0.776951\n",
      "  0.77984454 0.89414391 0.76020761 0.25460288 0.60222893 0.67627354\n",
      "  0.5115723  0.         0.51582001 0.07249931 0.65482682 0.68205214\n",
      "  0.91717724 0.56002204 0.82357905 0.45148812 0.32383409 0.85861232\n",
      "  0.36601658 0.4646425  0.69162329 0.49608245]\n",
      " [0.39488111 0.51035708 0.48140907 0.55694267 0.47407335 0.6782418\n",
      "  0.66747437 0.72790149 0.30844822 0.16544963 0.66316388 0.02243752\n",
      "  0.37939729 0.34929881 0.1181469  0.23017804 0.7477538  0.71108654\n",
      "  0.77531455 0.39497921 0.67933099 0.28700046 0.29176441 0.44102982\n",
      "  0.32499604 0.39946989 0.26781658 0.27242373 0.5456648  0.36616958\n",
      "  0.57220604 0.21867668 0.30980448 0.12954608 0.22564051 0.38422988\n",
      "  0.37367541 0.74828767 0.56299188 0.3975876  0.67654518 0.30224785\n",
      "  0.17357695 0.67424481 0.33321026 0.43041577 0.71551109 0.71005627\n",
      "  0.16294516 0.18706466 0.89792062 0.82120669 0.76685838 0.53310289\n",
      "  0.20169965 0.57629067 0.55369093 0.08475184 0.72382351 0.23079436\n",
      "  0.268189   0.18796547 0.57111083 0.66128123 0.57241698 0.25464309\n",
      "  0.50881121 0.68696182 0.22957644 0.6230797  0.55611717 0.71991468\n",
      "  0.34871752 0.53579603 0.66689223 0.53506379 0.60495637 0.301158\n",
      "  0.32498055 0.58269189 0.24545913 0.67789642 0.14264649 0.7257192\n",
      "  0.33528649 0.51582001 0.         0.58608462 0.17083141 0.3024219\n",
      "  0.57239502 0.66873502 0.42283256 0.20457293 0.71707472 0.49710855\n",
      "  0.51199562 0.76851696 0.19015694 0.35704255]\n",
      " [0.2917567  0.39927105 0.21094205 0.12451563 0.92650804 0.29563556\n",
      "  0.32936291 0.50985875 0.32882045 0.51917158 0.37164876 0.5716112\n",
      "  0.39888263 0.42574782 0.6198675  0.81387157 0.31372532 0.40491005\n",
      "  0.36095376 0.51875809 0.50426787 0.48873763 0.66410034 0.3906445\n",
      "  0.6934813  0.24864308 0.85074147 0.49845451 0.11216787 0.46484183\n",
      "  0.26685958 0.8044802  0.57902942 0.50696901 0.47989073 0.57473756\n",
      "  0.68304277 0.6244128  0.36097217 0.32580585 0.36269958 0.64974148\n",
      "  0.5522095  0.19897628 0.37911548 0.15620971 0.23510102 0.3370195\n",
      "  0.51051701 0.67401046 0.59434513 0.47414176 0.31556189 0.18351458\n",
      "  0.66264333 0.03790712 0.77819034 0.59615367 0.23972886 0.52801499\n",
      "  0.59638576 0.62695227 0.37052878 0.28214943 0.74198938 0.82873359\n",
      "  0.37791834 0.24272392 0.81485972 0.22024983 0.68106322 0.20094144\n",
      "  0.38877636 0.11332595 0.21412404 0.20182014 0.2282268  0.84118945\n",
      "  0.85230509 0.93926282 0.83097565 0.24714857 0.67460508 0.68160249\n",
      "  0.55792236 0.07249931 0.58608462 0.         0.72117277 0.75367668\n",
      "  0.96561878 0.5622234  0.87963889 0.51027004 0.31911519 0.90994363\n",
      "  0.41339938 0.43495167 0.7592514  0.53950742]\n",
      " [0.56100834 0.68118169 0.58053294 0.70953545 0.3133258  0.84319354\n",
      "  0.83479535 0.75738955 0.4078351  0.21372658 0.72240062 0.19314559\n",
      "  0.55022812 0.39249114 0.10291198 0.18472169 0.83193821 0.76695616\n",
      "  0.85172315 0.56022463 0.70382986 0.45480367 0.4231671  0.48827925\n",
      "  0.45041323 0.50252154 0.15258127 0.29376395 0.66225663 0.39016778\n",
      "  0.73793057 0.15843417 0.46491638 0.3001441  0.2727529  0.35822884\n",
      "  0.29330556 0.74768656 0.61836608 0.56636074 0.73945153 0.43943796\n",
      "  0.33441375 0.7763716  0.40029445 0.56576436 0.87315854 0.87650333\n",
      "  0.33180819 0.29749124 0.93307548 0.87527817 0.92892938 0.6921784\n",
      "  0.32163193 0.70538076 0.46644332 0.12560816 0.88133138 0.39470123\n",
      "  0.23031053 0.1344773  0.62411344 0.82590341 0.50250867 0.23554\n",
      "  0.55829198 0.84726178 0.13856823 0.71630157 0.5058743  0.82798203\n",
      "  0.51941444 0.68641983 0.76481066 0.69595694 0.6955306  0.13100146\n",
      "  0.35610483 0.44394588 0.18026021 0.83907402 0.23998368 0.70382315\n",
      "  0.31708895 0.65482682 0.17083141 0.72117277 0.         0.39611244\n",
      "  0.4228976  0.67465347 0.26411074 0.2397409  0.88209905 0.34696364\n",
      "  0.68280799 0.8244511  0.0497008  0.34745019]\n",
      " [0.478469   0.49656344 0.71950024 0.67784822 0.69760436 0.72459347\n",
      "  0.69583596 1.01181501 0.5663218  0.46641774 0.92930249 0.29294083\n",
      "  0.39438889 0.63989868 0.40646482 0.26660408 0.98644702 0.97817294\n",
      "  1.0214124  0.3162776  0.96680025 0.2762315  0.10355799 0.72485051\n",
      "  0.09675886 0.64144508 0.36209322 0.57268211 0.75322056 0.66255088\n",
      "  0.62560684 0.2871134  0.20309155 0.2738519  0.52284031 0.68661885\n",
      "  0.66606264 1.04448466 0.83609917 0.45625387 0.9391765  0.12623786\n",
      "  0.20808133 0.89396143 0.61304715 0.61696986 0.7989028  0.74178791\n",
      "  0.25363789 0.11560557 1.17518562 1.08645412 0.8233736  0.63083159\n",
      "  0.10734124 0.75796297 0.84635916 0.38103313 0.80710931 0.2261361\n",
      "  0.5679489  0.47873334 0.84549564 0.71171989 0.87072237 0.22573663\n",
      "  0.78814892 0.76023929 0.32397214 0.85760752 0.85773171 0.92809161\n",
      "  0.38560232 0.66631985 0.89279839 0.62359006 0.84375912 0.48578864\n",
      "  0.13582809 0.83956319 0.29157931 0.74745398 0.16468367 1.02679884\n",
      "  0.63770336 0.68205214 0.3024219  0.75367668 0.39611244 0.\n",
      "  0.81488544 0.96383123 0.65253035 0.50536723 0.75909741 0.73966285\n",
      "  0.48982928 1.03374693 0.37355192 0.65917441]\n",
      " [0.90928654 1.05701454 0.76737527 1.00213476 0.12534913 1.17073925\n",
      "  1.17440556 0.74649812 0.64547528 0.49477613 0.78913869 0.59376388\n",
      "  0.93073994 0.54098541 0.45736698 0.56620475 0.93760369 0.81666577\n",
      "  0.93568942 0.96566827 0.69368492 0.85597085 0.84586131 0.59898754\n",
      "  0.87329757 0.71699213 0.47950634 0.47185219 0.87091559 0.50498408\n",
      "  1.07394013 0.54021266 0.88100599 0.69558864 0.50437088 0.39748502\n",
      "  0.28257684 0.66577326 0.70194874 0.92626948 0.81112762 0.86157087\n",
      "  0.74576576 0.93329307 0.58658544 0.83245604 1.17044829 1.20989347\n",
      "  0.73254858 0.7203344  0.90440421 0.90160842 1.24026083 1.00610852\n",
      "  0.74450594 0.93695747 0.26207681 0.49372134 1.17766749 0.80297403\n",
      "  0.38033692 0.39971378 0.70084927 1.15275426 0.32777368 0.61907614\n",
      "  0.6475774  1.15561828 0.50464175 0.86226832 0.38410973 0.99213251\n",
      "  0.89672002 0.97551229 0.91352842 1.01571697 0.83932581 0.33686467\n",
      "  0.75013279 0.06095884 0.54751109 1.15118934 0.6628087  0.57959253\n",
      "  0.40785222 0.91717724 0.57239502 0.96561878 0.4228976  0.81488544\n",
      "  0.         0.62782612 0.1630617  0.48261907 1.20832152 0.07600742\n",
      "  1.06174223 0.86367338 0.44137863 0.42851906]\n",
      " [0.71017122 0.87412334 0.37183032 0.66439215 0.66487331 0.85210018\n",
      "  0.8792741  0.12126548 0.42533825 0.50439518 0.21796921 0.67365281\n",
      "  0.79794347 0.32439694 0.59689153 0.85169758 0.36637311 0.22019226\n",
      "  0.34545623 0.89929461 0.07707351 0.80891292 0.92264308 0.25014095\n",
      "  0.95892295 0.39955843 0.82432088 0.39823856 0.45126375 0.30257462\n",
      "  0.79567533 0.82802118 0.88718957 0.70267858 0.44315612 0.31891931\n",
      "  0.42179317 0.08147547 0.20258885 0.74571306 0.23776354 0.92266986\n",
      "  0.77704504 0.41976106 0.35875678 0.52171566 0.79657455 0.89466296\n",
      "  0.73507213 0.84935997 0.28002251 0.27977521 0.87722183 0.70511282\n",
      "  0.85712137 0.52434178 0.36749529 0.60624949 0.80064503 0.80004031\n",
      "  0.44450575 0.5410315  0.19239189 0.83674894 0.30357607 0.89556139\n",
      "  0.20831285 0.80438672 0.81293679 0.35918895 0.24372945 0.47156472\n",
      "  0.76786598 0.64067285 0.39593943 0.72256897 0.34290553 0.72388323\n",
      "  0.99073932 0.57537768 0.85248351 0.80775619 0.81106753 0.12099271\n",
      "  0.35756504 0.56002204 0.66873502 0.5622234  0.67465347 0.96383123\n",
      "  0.62782612 0.         0.64178298 0.46569587 0.8792593  0.61243228\n",
      "  0.88584874 0.25140328 0.72409059 0.32748894]\n",
      " [0.78402283 0.9224178  0.69691412 0.89894228 0.05181966 1.05622607\n",
      "  1.05518197 0.75129796 0.55117758 0.37477168 0.76496165 0.44491162\n",
      "  0.79334551 0.47078816 0.31380166 0.40353184 0.90311743 0.8001184\n",
      "  0.90947928 0.81779874 0.69591713 0.70955297 0.68691081 0.54787955\n",
      "  0.71328398 0.63440556 0.31870128 0.38290754 0.79587211 0.44384407\n",
      "  0.95523634 0.37736456 0.72744553 0.55007765 0.40103636 0.35177183\n",
      "  0.22886866 0.69616748 0.66746346 0.79683729 0.78584426 0.70348948\n",
      "  0.59424198 0.87922885 0.50648324 0.73522768 1.06764431 1.09340416\n",
      "  0.58542139 0.5603084  0.92135567 0.89683604 1.13268319 0.8950017\n",
      "  0.58508873 0.8551247  0.31481757 0.35007347 1.07530621 0.65313757\n",
      "  0.28409546 0.26873199 0.66896524 1.03835209 0.37451486 0.45663625\n",
      "  0.60792572 1.04840262 0.34204753 0.81032825 0.41151674 0.93674842\n",
      "  0.76029376 0.87319088 0.86203659 0.90254595 0.78747113 0.1748624\n",
      "  0.58757471 0.19809118 0.38541013 1.04248003 0.50283021 0.62374436\n",
      "  0.34200463 0.82357905 0.42283256 0.87963889 0.26411074 0.65253035\n",
      "  0.1630617  0.64178298 0.         0.37303248 1.09464403 0.09042938\n",
      "  0.92589562 0.85275609 0.27901668 0.37041326]\n",
      " [0.42883601 0.58369828 0.34635964 0.52623287 0.42213984 0.68881336\n",
      "  0.69178797 0.53238057 0.18222016 0.03912436 0.48487077 0.21242848\n",
      "  0.4641371  0.15608845 0.14213955 0.39600037 0.59233232 0.53053055\n",
      "  0.61207189 0.52495804 0.48147958 0.41654625 0.48067445 0.25220444\n",
      "  0.51608767 0.27290699 0.39045194 0.06789549 0.4360477  0.16422195\n",
      "  0.59132219 0.37516649 0.47170536 0.27021409 0.03347736 0.18682788\n",
      "  0.21926408 0.54455422 0.38118354 0.44885608 0.50119927 0.48617977\n",
      "  0.34137491 0.5406875  0.16085046 0.36259559 0.69505191 0.72755504\n",
      "  0.30843759 0.38977709 0.70587525 0.63987692 0.76154313 0.52514633\n",
      "  0.40128309 0.48851792 0.38398171 0.14258564 0.70264232 0.38234041\n",
      "  0.10471425 0.11947189 0.38764153 0.67083919 0.38851595 0.4351633\n",
      "  0.3223266  0.67700943 0.3679398  0.47842945 0.36179267 0.59421082\n",
      "  0.42932542 0.50032445 0.52784632 0.53398489 0.45720233 0.34023599\n",
      "  0.5250799  0.47221671 0.40150525 0.671684   0.34718395 0.52151966\n",
      "  0.13818282 0.45148812 0.20457293 0.51027004 0.2397409  0.50536723\n",
      "  0.48261907 0.46569587 0.37303248 0.         0.72668857 0.41667955\n",
      "  0.59005122 0.58827012 0.28746955 0.15502934]\n",
      " [0.32223291 0.26704568 0.51435073 0.22049696 1.14535363 0.03890584\n",
      "  0.06613646 0.82860062 0.56932639 0.7201238  0.69008423 0.69648358\n",
      "  0.36927681 0.69367324 0.79393845 0.913941   0.61241204 0.72109224\n",
      "  0.65976864 0.44921576 0.82316253 0.49107673 0.65579316 0.68488519\n",
      "  0.67204143 0.52168427 0.97794664 0.7396677  0.42816523 0.73669345\n",
      "  0.14506003 0.9139982  0.55619812 0.59814916 0.7039524  0.84264647\n",
      "  0.93264812 0.94321901 0.67688405 0.3243629  0.68004614 0.63412036\n",
      "  0.60519021 0.50305598 0.64021327 0.38926324 0.10626054 0.02799734\n",
      "  0.58015265 0.72282452 0.90128295 0.77973251 0.06901991 0.20252944\n",
      "  0.70159311 0.3568265  1.0575189  0.76136714 0.10840957 0.55442082\n",
      "  0.8279868  0.82635698 0.68690453 0.05643786 1.03072747 0.90988549\n",
      "  0.68622264 0.07829286 0.93579749 0.53747146 0.97442442 0.48192933\n",
      "  0.38767333 0.24689377 0.52262923 0.19270509 0.54697524 1.01252818\n",
      "  0.88609049 1.19269779 0.93675111 0.0719846  0.74830137 0.99740073\n",
      "  0.81427914 0.32383409 0.71707472 0.31911519 0.88209905 0.75909741\n",
      "  1.20832152 0.8792593  1.09464403 0.72668857 0.         1.14336766\n",
      "  0.27676027 0.74585238 0.90713455 0.80371915]\n",
      " [0.84028711 0.98553565 0.7168132  0.9404074  0.06705679 1.10546589\n",
      "  1.10761231 0.7276637  0.58560268 0.42593083 0.75759256 0.51861022\n",
      "  0.85840533 0.48895077 0.38284757 0.49357047 0.90230042 0.7885929\n",
      "  0.90391944 0.89095944 0.67333097 0.78148772 0.76986725 0.55489017\n",
      "  0.79737635 0.66165147 0.40911664 0.4123903  0.81903751 0.4559745\n",
      "  1.00719183 0.46723839 0.8053362  0.62114578 0.44053774 0.35275884\n",
      "  0.2311623  0.65856064 0.66547922 0.85608618 0.77921693 0.78556385\n",
      "  0.67032152 0.88986514 0.5313217  0.77236346 1.10914301 1.14401901\n",
      "  0.65783196 0.64443374 0.89200267 0.87917147 1.17739831 0.94171797\n",
      "  0.66854428 0.88273905 0.25982658 0.41928875 1.1165273  0.72782423\n",
      "  0.31720106 0.32743842 0.6654722  1.08749533 0.32431516 0.54680597\n",
      "  0.60855558 1.09276947 0.43216982 0.81943037 0.37201054 0.94836346\n",
      "  0.82459836 0.91402983 0.87107267 0.95066439 0.79642476 0.26527131\n",
      "  0.67764415 0.10839031 0.47572801 1.08782663 0.58691277 0.57854565\n",
      "  0.35559234 0.85861232 0.49710855 0.90994363 0.34696364 0.73966285\n",
      "  0.07600742 0.61243228 0.09042938 0.41667955 1.14336766 0.\n",
      "  0.98993031 0.8383173  0.36635564 0.37955008]\n",
      " [0.17774674 0.01417956 0.52291907 0.29264475 0.97771435 0.24703981\n",
      "  0.21102765 0.87236081 0.48620797 0.57006724 0.74485556 0.48966241\n",
      "  0.13290249 0.61786341 0.61227103 0.67518297 0.72269031 0.78741843\n",
      "  0.76872518 0.17463594 0.84942906 0.24031985 0.38637562 0.64828059\n",
      "  0.39907224 0.48668353 0.75098933 0.62636005 0.482731   0.66009098\n",
      "  0.17076031 0.68022911 0.28753126 0.3827865  0.57802716 0.7492511\n",
      "  0.80924789 0.96194594 0.69302451 0.1464411  0.74291024 0.36364146\n",
      "  0.36532335 0.60864553 0.5647633  0.36890931 0.34119207 0.25604603\n",
      "  0.35378886 0.47030518 0.98929908 0.87362459 0.34464761 0.23154629\n",
      "  0.44618679 0.43960209 0.96463023 0.57625671 0.34834446 0.30681646\n",
      "  0.69435701 0.6624936  0.70416581 0.23816244 0.9544562  0.66216663\n",
      "  0.67760948 0.29863034 0.70729087 0.61113662 0.90972211 0.61409945\n",
      "  0.16561886 0.3000735  0.62009707 0.214429   0.61011277 0.81260895\n",
      "  0.62125476 1.0588585  0.69988276 0.28436298 0.50581474 0.99120342\n",
      "  0.70930231 0.36601658 0.51199562 0.41339938 0.68280799 0.48982928\n",
      "  1.06174223 0.88584874 0.92589562 0.59005122 0.27676027 0.98993031\n",
      "  0.         0.82850225 0.69703674 0.70946826]\n",
      " [0.67043398 0.81499243 0.32488904 0.55697548 0.88350794 0.72713991\n",
      "  0.76342981 0.13434275 0.46829734 0.62144535 0.1054234  0.76618489\n",
      "  0.77440527 0.43258159 0.73036611 0.98266442 0.14394811 0.05778458\n",
      "  0.10598648 0.89044972 0.17574079 0.82244119 0.97015224 0.33641526\n",
      "  1.00529828 0.39521341 0.9768383  0.53070839 0.34612408 0.43611203\n",
      "  0.69945334 0.96286813 0.91110099 0.75994925 0.55735537 0.50368079\n",
      "  0.62413784 0.26346953 0.207263   0.70836571 0.09479915 0.96398798\n",
      "  0.82914092 0.24301952 0.43614516 0.46836903 0.64820464 0.76680484\n",
      "  0.78355046 0.92709888 0.16095329 0.0528645  0.72624753 0.6113328\n",
      "  0.92758042 0.40041584 0.60954051 0.72784269 0.65006609 0.83395514\n",
      "  0.60843871 0.69230111 0.20064648 0.71499834 0.54848515 1.01816374\n",
      "  0.26626224 0.66757611 0.95612574 0.21835075 0.4847985  0.27496908\n",
      "  0.75152485 0.53985575 0.22330168 0.63004152 0.21847354 0.90174166\n",
      "  1.09064001 0.81512392 0.9894468  0.67479783 0.90178657 0.35519348\n",
      "  0.52608133 0.4646425  0.76851696 0.43495167 0.8244511  1.03374693\n",
      "  0.86367338 0.25140328 0.85275609 0.58827012 0.74585238 0.8383173\n",
      "  0.82850225 0.         0.87351676 0.49437208]\n",
      " [0.58499302 0.6963838  0.62511868 0.74170018 0.3249488  0.8682837\n",
      "  0.85757617 0.80708335 0.45128706 0.25956794 0.77118265 0.21125875\n",
      "  0.56555215 0.44126247 0.14747971 0.14115379 0.87897255 0.8159676\n",
      "  0.89950014 0.56510069 0.75353042 0.46335248 0.41205431 0.53721025\n",
      "  0.43645678 0.54614655 0.10332392 0.34295391 0.70431546 0.43967218\n",
      "  0.76232077 0.11399733 0.4636546  0.31540735 0.32014967 0.40716167\n",
      "  0.33745393 0.79680935 0.66718835 0.58743805 0.78804385 0.4302045\n",
      "  0.33931891 0.82112644 0.44743062 0.60325465 0.90311706 0.90021289\n",
      "  0.34336863 0.28421214 0.98275608 0.92446701 0.9562473  0.7211638\n",
      "  0.31005782 0.74493315 0.50680889 0.16393777 0.91137164 0.40037657\n",
      "  0.27962638 0.1841775  0.67306769 0.85126594 0.5457455  0.19390982\n",
      "  0.60728977 0.87568191 0.09007263 0.76209893 0.55183151 0.87194438\n",
      "  0.53625858 0.71935283 0.81012177 0.72388206 0.74159279 0.12049199\n",
      "  0.31953976 0.4680971  0.13342772 0.86693819 0.22739419 0.75174729\n",
      "  0.36653887 0.69162329 0.19015694 0.7592514  0.0497008  0.37355192\n",
      "  0.44137863 0.72409059 0.27901668 0.28746955 0.90713455 0.36635564\n",
      "  0.69703674 0.87351676 0.         0.39701696]\n",
      " [0.53706515 0.70122796 0.33886646 0.58838656 0.40932074 0.76804593\n",
      "  0.77917211 0.41287594 0.23547311 0.19329715 0.39975507 0.36657712\n",
      "  0.59196934 0.11383637 0.27150579 0.52462499 0.53319003 0.43889527\n",
      "  0.54167149 0.66636494 0.35832012 0.56097903 0.63548706 0.1775997\n",
      "  0.67099642 0.29208216 0.49815201 0.09181211 0.44247468 0.07661264\n",
      "  0.6804942  0.5006782  0.62250737 0.4224452  0.14604356 0.04000402\n",
      "  0.14838889 0.40226099 0.29908094 0.56362227 0.41972913 0.64051382\n",
      "  0.49493652 0.51121622 0.16432909 0.41651434 0.75371831 0.80941842\n",
      "  0.45987603 0.54359499 0.58882908 0.54230605 0.82755412 0.60234238\n",
      "  0.55590555 0.50954964 0.25740018 0.28516196 0.7604446  0.53269677\n",
      "  0.11831304 0.21355254 0.30164152 0.75026391 0.24598103 0.56953038\n",
      "  0.23858729 0.74366649 0.48553646 0.44136323 0.21002156 0.5694393\n",
      "  0.55753262 0.56137014 0.49311323 0.61478528 0.41839749 0.40859613\n",
      "  0.67034573 0.3997721  0.52501578 0.74106327 0.49878931 0.36964896\n",
      "  0.03190808 0.49608245 0.35704255 0.53950742 0.34745019 0.65917441\n",
      "  0.42851906 0.32748894 0.37041326 0.15502934 0.80371915 0.37955008\n",
      "  0.70946826 0.49437208 0.39701696 0.        ]]\n"
     ]
    }
   ],
   "source": [
    "# 52. Consider a random vector with shape (100, 2) representing coordinates, find point by point distances\n",
    "coordinates = np.random.random((100, 2))\n",
    "distances = np.sqrt(np.sum((coordinates - coordinates[:, np.newaxis])**2, axis=-1))\n",
    "print(distances)"
   ]
  },
  {
   "cell_type": "code",
   "execution_count": 194,
   "metadata": {},
   "outputs": [
    {
     "name": "stdout",
     "output_type": "stream",
     "text": [
      "[1056461776 1054724289 1062126925 1061805994 1062302365 1061403977\n",
      " 1044882947 1062849333 1034404972 1063954643]\n"
     ]
    }
   ],
   "source": [
    "# 53. Convert a float (32 bits) array into an integer (32 bits) in place\n",
    "float_array = np.random.random(10).astype(np.float32)\n",
    "int_array = float_array.view(np.int32)\n",
    "print(int_array)"
   ]
  },
  {
   "cell_type": "code",
   "execution_count": 195,
   "metadata": {},
   "outputs": [
    {
     "name": "stdout",
     "output_type": "stream",
     "text": [
      "[[ 1.  2.  3.  4.  5.]\n",
      " [ 6. nan nan  7.  8.]\n",
      " [nan nan  9. 10. 11.]]\n"
     ]
    }
   ],
   "source": [
    "# 54. Read the following file\n",
    "file_content = np.genfromtxt(\"file.txt\", delimiter=\",\")\n",
    "print(file_content)"
   ]
  },
  {
   "cell_type": "code",
   "execution_count": 196,
   "metadata": {},
   "outputs": [
    {
     "name": "stdout",
     "output_type": "stream",
     "text": [
      "(0,) 10\n",
      "(1,) 20\n",
      "(2,) 30\n",
      "(3,) 40\n"
     ]
    }
   ],
   "source": [
    "# 55. Equivalent of enumerate for numpy arrays\n",
    "array = np.array([10, 20, 30, 40])\n",
    "for index, value in np.ndenumerate(array):\n",
    "    print(index, value)"
   ]
  },
  {
   "cell_type": "code",
   "execution_count": 197,
   "metadata": {},
   "outputs": [
    {
     "name": "stdout",
     "output_type": "stream",
     "text": [
      "[[3.72007598e-44 7.18778174e-28 1.92874985e-22 7.18778174e-28\n",
      "  3.72007598e-44]\n",
      " [7.18778174e-28 1.38879439e-11 3.72665317e-06 1.38879439e-11\n",
      "  7.18778174e-28]\n",
      " [1.92874985e-22 3.72665317e-06 1.00000000e+00 3.72665317e-06\n",
      "  1.92874985e-22]\n",
      " [7.18778174e-28 1.38879439e-11 3.72665317e-06 1.38879439e-11\n",
      "  7.18778174e-28]\n",
      " [3.72007598e-44 7.18778174e-28 1.92874985e-22 7.18778174e-28\n",
      "  3.72007598e-44]]\n"
     ]
    }
   ],
   "source": [
    "# 56. Generate a generic 2D Gaussian-like array\n",
    "x, y = np.meshgrid(np.linspace(-1, 1, 5), np.linspace(-1, 1, 5))\n",
    "d = np.sqrt(x*x + y*y)\n",
    "gaussian_array = np.exp(-d**2 / (2.0*0.1**2))\n",
    "print(gaussian_array)"
   ]
  },
  {
   "cell_type": "code",
   "execution_count": 198,
   "metadata": {},
   "outputs": [
    {
     "name": "stdout",
     "output_type": "stream",
     "text": [
      "[[1. 0. 0. 0. 0.]\n",
      " [0. 0. 0. 0. 0.]\n",
      " [0. 0. 0. 0. 0.]\n",
      " [0. 0. 1. 0. 0.]\n",
      " [0. 0. 0. 1. 0.]]\n"
     ]
    }
   ],
   "source": [
    "# 57. Randomly place p elements in a 2D array\n",
    "p = 3\n",
    "array_2d = np.zeros((5, 5))\n",
    "np.put(array_2d, np.random.choice(range(25), p, replace=False), 1)\n",
    "print(array_2d)"
   ]
  },
  {
   "cell_type": "code",
   "execution_count": 199,
   "metadata": {},
   "outputs": [
    {
     "name": "stdout",
     "output_type": "stream",
     "text": [
      "[[ 0.11227718  0.00306129 -0.00321634 -0.11212213]\n",
      " [-0.03252896  0.0604794   0.31523802 -0.34318846]\n",
      " [-0.1940629   0.33354776 -0.19667468  0.05718982]]\n"
     ]
    }
   ],
   "source": [
    "# 58. Subtract the mean of each row of a matrix\n",
    "matrix = np.random.random((3, 4))\n",
    "matrix_mean_subtracted = matrix - matrix.mean(axis=1, keepdims=True)\n",
    "print(matrix_mean_subtracted)"
   ]
  },
  {
   "cell_type": "code",
   "execution_count": 200,
   "metadata": {},
   "outputs": [
    {
     "name": "stdout",
     "output_type": "stream",
     "text": [
      "[[1 5 9]\n",
      " [4 7 5]\n",
      " [4 8 6]]\n"
     ]
    }
   ],
   "source": [
    "# 59. Sort an array by the nth column\n",
    "array_to_sort = np.random.randint(0, 10, (3, 3))\n",
    "n = 1  # Sort by the second column\n",
    "sorted_array = array_to_sort[array_to_sort[:, n].argsort()]\n",
    "print(sorted_array)"
   ]
  },
  {
   "cell_type": "code",
   "execution_count": 201,
   "metadata": {},
   "outputs": [
    {
     "name": "stdout",
     "output_type": "stream",
     "text": [
      "[False False False]\n"
     ]
    }
   ],
   "source": [
    "# 60. Tell if a given 2D array has null columns\n",
    "array_with_null_columns = np.array([[1, 2, 0], [0, 0, 0], [3, 4, 5]])\n",
    "null_columns = np.all(array_with_null_columns == 0, axis=0)\n",
    "print(null_columns)"
   ]
  },
  {
   "cell_type": "code",
   "execution_count": 202,
   "metadata": {},
   "outputs": [
    {
     "name": "stdout",
     "output_type": "stream",
     "text": [
      "0.3376931481528076\n"
     ]
    }
   ],
   "source": [
    "# 61. Find the nearest value from a given value in an array\n",
    "array_for_nearest_value = np.random.random(10)\n",
    "given_value = 0.5\n",
    "nearest_value = array_for_nearest_value[(np.abs(array_for_nearest_value - given_value)).argmin()]\n",
    "print(nearest_value)"
   ]
  },
  {
   "cell_type": "code",
   "execution_count": 203,
   "metadata": {},
   "outputs": [
    {
     "name": "stdout",
     "output_type": "stream",
     "text": [
      "[[5 6 7]\n",
      " [6 7 8]\n",
      " [7 8 9]]\n"
     ]
    }
   ],
   "source": [
    "# 62. Compute the sum of two arrays using an iterator\n",
    "array1 = np.array([[1, 2, 3]])\n",
    "array2 = np.array([[4], [5], [6]])\n",
    "iterator = np.nditer([array1, array2, None])\n",
    "for a, b, c in iterator:\n",
    "    c[...] = a + b\n",
    "print(iterator.operands[2])"
   ]
  },
  {
   "cell_type": "code",
   "execution_count": 204,
   "metadata": {},
   "outputs": [
    {
     "name": "stdout",
     "output_type": "stream",
     "text": [
      "[1 2 3]\n",
      "Example\n"
     ]
    }
   ],
   "source": [
    "# 63. Create an array class with a name attribute\n",
    "class NamedArray(np.ndarray):\n",
    "    def __new__(cls, array, name=\"\"):\n",
    "        obj = np.asarray(array).view(cls)\n",
    "        obj.name = name\n",
    "        return obj\n",
    "named_array = NamedArray([1, 2, 3], name=\"Example\")\n",
    "print(named_array)\n",
    "print(named_array.name)"
   ]
  },
  {
   "cell_type": "code",
   "execution_count": 205,
   "metadata": {},
   "outputs": [
    {
     "name": "stdout",
     "output_type": "stream",
     "text": [
      "[2 4 4 5 5]\n"
     ]
    }
   ],
   "source": [
    "# 64. Add 1 to each element indexed by a second vector (watch out for repeated indices)\n",
    "vector_D = np.array([1, 2, 3, 4, 5])\n",
    "vector_S = np.array([0, 1, 1, 3, 2])\n",
    "np.add.at(vector_D, vector_S, 1)\n",
    "print(vector_D)"
   ]
  },
  {
   "cell_type": "code",
   "execution_count": 206,
   "metadata": {},
   "outputs": [
    {
     "name": "stdout",
     "output_type": "stream",
     "text": [
      "[0. 4. 5. 2. 4.]\n"
     ]
    }
   ],
   "source": [
    "# 65. Accumulate elements of a vector to an array based on an index list\n",
    "vector_X = np.array([1, 2, 3, 4, 5])\n",
    "index_list_I = np.array([1, 3, 1, 4, 2])\n",
    "vector_F = np.zeros(5)\n",
    "np.add.at(vector_F, index_list_I, vector_X)\n",
    "print(vector_F)"
   ]
  },
  {
   "cell_type": "code",
   "execution_count": 207,
   "metadata": {},
   "outputs": [
    {
     "name": "stdout",
     "output_type": "stream",
     "text": [
      "25\n"
     ]
    }
   ],
   "source": [
    "# 66. Compute the number of unique colors in a (w,h,3) image of dtype=ubyte\n",
    "image = np.random.randint(0, 256, (5, 5, 3), dtype=np.ubyte)\n",
    "unique_colors = len(np.unique(image.reshape(-1, 3), axis=0))\n",
    "print(unique_colors)"
   ]
  },
  {
   "cell_type": "code",
   "execution_count": 208,
   "metadata": {},
   "outputs": [
    {
     "name": "stdout",
     "output_type": "stream",
     "text": [
      "[[ 9.57141492  8.84138019  7.97619784]\n",
      " [ 7.41014228 11.25484878  9.57530342]]\n"
     ]
    }
   ],
   "source": [
    "# 67. Get sum over the last two axes of a four-dimensional array\n",
    "four_dim_array = np.random.random((2, 3, 4, 5))\n",
    "sum_last_two_axes = np.sum(four_dim_array, axis=(-2, -1))\n",
    "print(sum_last_two_axes)"
   ]
  },
  {
   "cell_type": "code",
   "execution_count": 209,
   "metadata": {},
   "outputs": [
    {
     "name": "stdout",
     "output_type": "stream",
     "text": [
      "[2.  3.5 4. ]\n"
     ]
    }
   ],
   "source": [
    "# 68. Compute means of subsets of a one-dimensional vector using a vector of same size describing subset indices\n",
    "vector_D = np.array([1, 2, 3, 4, 5])\n",
    "vector_S = np.array([0, 1, 0, 2, 1])\n",
    "means = np.bincount(vector_S, weights=vector_D) / np.bincount(vector_S)\n",
    "print(means)"
   ]
  },
  {
   "cell_type": "code",
   "execution_count": 210,
   "metadata": {},
   "outputs": [
    {
     "name": "stdout",
     "output_type": "stream",
     "text": [
      "[0.34616307 0.33425657 1.20634687]\n"
     ]
    }
   ],
   "source": [
    "# 69. Get the diagonal of a dot product\n",
    "A = np.random.random((3, 3))\n",
    "B = np.random.random((3, 3))\n",
    "dot_product_diagonal = np.diag(np.dot(A, B))\n",
    "print(dot_product_diagonal)"
   ]
  },
  {
   "cell_type": "code",
   "execution_count": 211,
   "metadata": {},
   "outputs": [
    {
     "name": "stdout",
     "output_type": "stream",
     "text": [
      "[1. 0. 0. 0. 2. 0. 0. 0. 3. 0. 0. 0. 4. 0. 0. 0. 5.]\n"
     ]
    }
   ],
   "source": [
    "# 70. Build a new vector with 3 consecutive zeros interleaved between each value in [1, 2, 3, 4, 5]\n",
    "original_vector = np.array([1, 2, 3, 4, 5])\n",
    "new_vector = np.zeros(len(original_vector) + (len(original_vector) - 1) * 3)\n",
    "new_vector[::4] = original_vector\n",
    "print(new_vector)"
   ]
  },
  {
   "cell_type": "code",
   "execution_count": 212,
   "metadata": {},
   "outputs": [
    {
     "name": "stdout",
     "output_type": "stream",
     "text": [
      "[[[1.03642439e-02 1.94506795e-02 7.67910415e-03]\n",
      "  [1.57249747e-01 1.78510620e-03 1.44956357e-01]\n",
      "  [5.92409832e-02 5.18164184e-02 8.07435359e-02]\n",
      "  [5.52316197e-04 6.42450870e-01 6.15477203e-01]\n",
      "  [3.50305599e-01 2.66083209e-01 5.26872386e-01]]\n",
      "\n",
      " [[8.50193833e-02 6.90989229e-01 6.38278120e-01]\n",
      "  [1.51464000e-01 3.81827348e-01 5.85467812e-01]\n",
      "  [1.80024387e-02 1.25342524e-02 2.44777361e-03]\n",
      "  [2.36024948e-01 2.04053111e-01 2.85092026e-02]\n",
      "  [2.12293738e-02 3.40879242e-01 5.38114796e-01]]\n",
      "\n",
      " [[1.25941983e-01 8.44451614e-02 2.89741996e-01]\n",
      "  [6.45170560e-01 2.26452498e-02 5.16843798e-01]\n",
      "  [1.15691711e-01 4.38010615e-01 3.66504200e-01]\n",
      "  [2.01061392e-01 3.10651816e-01 1.36934739e-01]\n",
      "  [4.41138367e-01 2.76943300e-01 4.17869654e-01]]\n",
      "\n",
      " [[1.01672882e-02 1.17221707e-02 4.35209831e-03]\n",
      "  [2.66396561e-01 1.89143596e-01 4.41669363e-01]\n",
      "  [2.69243317e-02 7.24619411e-02 9.60067526e-02]\n",
      "  [1.53427332e-01 8.52970551e-02 4.50077649e-02]\n",
      "  [2.47516115e-01 2.57271288e-01 8.58225757e-04]]\n",
      "\n",
      " [[5.89424501e-01 9.70516082e-02 2.89689138e-01]\n",
      "  [9.75728967e-01 2.65334036e-01 7.88051499e-01]\n",
      "  [7.37021020e-01 4.18102353e-01 3.12801050e-02]\n",
      "  [4.37749066e-02 6.25402183e-02 3.31382466e-02]\n",
      "  [1.69069062e-01 2.05187828e-02 2.31313165e-01]]]\n"
     ]
    }
   ],
   "source": [
    "# 71. Multiply a (w, h, 3) image by an array with dimensions (w, h)\n",
    "image = np.random.random((5, 5, 3))\n",
    "array_to_multiply = np.random.random((5, 5))\n",
    "resultant_image = image * array_to_multiply[:, :, np.newaxis]\n",
    "print(resultant_image)"
   ]
  },
  {
   "cell_type": "code",
   "execution_count": 213,
   "metadata": {},
   "outputs": [
    {
     "name": "stdout",
     "output_type": "stream",
     "text": [
      "[[0.2143811  0.0193177  0.96127633 0.25292928]\n",
      " [0.40410221 0.34034823 0.35898322 0.80314604]\n",
      " [0.21841176 0.00527824 0.36778819 0.10465085]]\n"
     ]
    }
   ],
   "source": [
    "# 72. Swap two rows of an array\n",
    "array_to_swap_rows = np.random.random((3, 4))\n",
    "array_to_swap_rows[[0, 2]] = array_to_swap_rows[[2, 0]]\n",
    "print(array_to_swap_rows)"
   ]
  },
  {
   "cell_type": "code",
   "execution_count": 214,
   "metadata": {},
   "outputs": [
    {
     "name": "stdout",
     "output_type": "stream",
     "text": [
      "[[0 1]\n",
      " [2 3]\n",
      " [4 5]\n",
      " [6 7]\n",
      " [8 9]]\n"
     ]
    }
   ],
   "source": [
    "# 73. Find the set of unique line segments composing 10 triangles\n",
    "triangles = np.random.randint(0, 10, (10, 3))\n",
    "line_segments = np.unique(triangles[:, [0, 1, 1, 2, 2, 0]])\n",
    "line_segments = line_segments.reshape(-1, 2)\n",
    "print(line_segments)"
   ]
  },
  {
   "cell_type": "code",
   "execution_count": 215,
   "metadata": {},
   "outputs": [
    {
     "name": "stdout",
     "output_type": "stream",
     "text": [
      "[0 1 1 2 3 3 3 4 4 5]\n"
     ]
    }
   ],
   "source": [
    "# 74. Produce an array A such that np.bincount(A) == C\n",
    "C = np.array([1, 2, 1, 3, 2, 1])\n",
    "A = np.repeat(np.arange(len(C)), C)\n",
    "print(A)"
   ]
  },
  {
   "cell_type": "code",
   "execution_count": 216,
   "metadata": {},
   "outputs": [
    {
     "name": "stdout",
     "output_type": "stream",
     "text": [
      "[2. 3. 4. 5. 6. 7. 8.]\n"
     ]
    }
   ],
   "source": [
    "# 75. Compute averages using a sliding window over an array\n",
    "array_for_averages = np.array([1, 2, 3, 4, 5, 6, 7, 8, 9])\n",
    "window_size = 3\n",
    "averages = np.convolve(array_for_averages, np.ones(window_size)/window_size, mode='valid')\n",
    "print(averages)"
   ]
  },
  {
   "cell_type": "code",
   "execution_count": 217,
   "metadata": {},
   "outputs": [
    {
     "name": "stdout",
     "output_type": "stream",
     "text": [
      "[[1 2 3 4 5 6 7]\n",
      " [2 3 4 5 6 7 8]\n",
      " [3 4 5 6 7 8 9]]\n"
     ]
    }
   ],
   "source": [
    "# 76. Extract a subpart with a fixed shape centered on a given element from an arbitrary array\n",
    "arbitrary_array = np.random.random((5, 5))\n",
    "Z = np.array([1, 2, 3, 4, 5, 6, 7, 8, 9])\n",
    "num_elements = 3\n",
    "result = np.column_stack([Z[i:i+num_elements] for i in range(len(Z)-num_elements+1)])\n",
    "print(result)"
   ]
  },
  {
   "cell_type": "code",
   "execution_count": 218,
   "metadata": {},
   "outputs": [],
   "source": [
    "#77 How to negate a boolean, or to change the sign of a float inplace? \n",
    "\n",
    "# For boolean\n",
    "boolean_var = True\n",
    "boolean_var = not boolean_var\n",
    "\n",
    "# For float\n",
    "float_var = -3.14\n",
    "float_var = -float_var\n"
   ]
  },
  {
   "cell_type": "code",
   "execution_count": 219,
   "metadata": {},
   "outputs": [
    {
     "name": "stdout",
     "output_type": "stream",
     "text": [
      "[0. 0.]\n"
     ]
    }
   ],
   "source": [
    "#78 Consider 2 sets of points P0,P1 describing lines (2d) and a point p, how to compute distance from p to each line i (P0[i],P1[i])?\n",
    "\n",
    "def distance_to_lines(P0, P1, p):\n",
    "    return np.abs(np.cross(P1 - P0, p - P0) / np.linalg.norm(P1 - P0))\n",
    "\n",
    "# Example usage:\n",
    "P0 = np.array([[1, 2], [3, 4]])\n",
    "P1 = np.array([[5, 6], [7, 8]])\n",
    "p = np.array([9, 10])\n",
    "\n",
    "distances = distance_to_lines(P0, P1, p)\n",
    "print(distances)"
   ]
  },
  {
   "cell_type": "code",
   "execution_count": 220,
   "metadata": {},
   "outputs": [
    {
     "name": "stdout",
     "output_type": "stream",
     "text": [
      "[[0. 0. 0.]\n",
      " [0. 0. 0.]]\n"
     ]
    }
   ],
   "source": [
    "# 79. Consider 2 sets of points P0,P1 describing lines (2d) and a set of points P, how to compute distance from each point j (P[j]) to each line i (P0[i],P1[i])?\n",
    "\n",
    "def distances_to_lines(P0, P1, P):\n",
    "    return np.abs(np.cross(P1[:, np.newaxis] - P0[:, np.newaxis], P - P0[:, np.newaxis]) / np.linalg.norm(P1 - P0))\n",
    "\n",
    "# Example usage:\n",
    "P = np.array([[9, 10], [11, 12], [13, 14]])\n",
    "distances = distances_to_lines(P0, P1, P)\n",
    "print(distances)\n"
   ]
  },
  {
   "cell_type": "code",
   "execution_count": 221,
   "metadata": {},
   "outputs": [
    {
     "name": "stdout",
     "output_type": "stream",
     "text": [
      "[[0.89833446 0.17285753 0.11478766]\n",
      " [0.57162393 0.12845531 0.96002947]\n",
      " [0.81526014 0.68418223 0.62899515]]\n"
     ]
    }
   ],
   "source": [
    "# 80. Consider an arbitrary array, write a function that extract a subpart with a fixed shape and centered on a given element (pad with a fill value when necessary)\n",
    "\n",
    "def extract_subpart(arr, center, shape, fill_value=0):\n",
    "    i, j = center\n",
    "    h, w = shape\n",
    "    subpart = arr[i - h//2:i + h//2 + 1, j - w//2:j + w//2 + 1]\n",
    "    return np.pad(subpart, ((max(0, h//2 - i), max(0, i + h//2 + 1 - arr.shape[0])),\n",
    "                            (max(0, w//2 - j), max(0, j + w//2 + 1 - arr.shape[1]))), constant_values=fill_value)\n",
    "\n",
    "# Example usage:\n",
    "arr = np.random.random((10, 10))\n",
    "center = (5, 5)\n",
    "shape = (3, 3)\n",
    "result = extract_subpart(arr, center, shape)\n",
    "print(result)\n"
   ]
  },
  {
   "cell_type": "code",
   "execution_count": 222,
   "metadata": {},
   "outputs": [
    {
     "name": "stdout",
     "output_type": "stream",
     "text": [
      "[[ 1  2  3  4]\n",
      " [ 2  3  4  5]\n",
      " [ 3  4  5  6]\n",
      " [ 4  5  6  7]\n",
      " [ 5  6  7  8]\n",
      " [ 6  7  8  9]\n",
      " [ 7  8  9 10]\n",
      " [ 8  9 10 11]\n",
      " [ 9 10 11 12]\n",
      " [10 11 12 13]\n",
      " [11 12 13 14]]\n"
     ]
    }
   ],
   "source": [
    "# 81. Consider an array Z = [1,2,3,4,5,6,7,8,9,10,11,12,13,14], how to generate an array R = [[1,2,3,4], [2,3,4,5], [3,4,5,6], ..., [11,12,13,14]]?\n",
    "\n",
    "Z = np.array([1, 2, 3, 4, 5, 6, 7, 8, 9, 10, 11, 12, 13, 14])\n",
    "R = np.lib.stride_tricks.sliding_window_view(Z, (4,))\n",
    "print(R)"
   ]
  },
  {
   "cell_type": "code",
   "execution_count": 223,
   "metadata": {},
   "outputs": [],
   "source": [
    "# 82. Compute a matrix rank\n",
    "\n",
    "rank = np.linalg.matrix_rank(matrix)"
   ]
  },
  {
   "cell_type": "code",
   "execution_count": 224,
   "metadata": {},
   "outputs": [
    {
     "name": "stdout",
     "output_type": "stream",
     "text": [
      "4\n"
     ]
    }
   ],
   "source": [
    "# 83. How to find the most frequent value in an array?\n",
    "\n",
    "array = np.array([1, 2, 2, 3, 3, 3, 4, 4, 4, 4, 5, 5])\n",
    "most_frequent_value = np.bincount(array).argmax()\n",
    "print(most_frequent_value)\n"
   ]
  },
  {
   "cell_type": "code",
   "execution_count": 225,
   "metadata": {},
   "outputs": [
    {
     "name": "stdout",
     "output_type": "stream",
     "text": [
      "[[[[0.96725208 0.77749707 0.31785053]\n",
      "   [0.24938368 0.20562911 0.29714329]\n",
      "   [0.80535461 0.27723326 0.09510361]]\n",
      "\n",
      "  [[0.77749707 0.31785053 0.69458515]\n",
      "   [0.20562911 0.29714329 0.79152322]\n",
      "   [0.27723326 0.09510361 0.04105388]]\n",
      "\n",
      "  [[0.31785053 0.69458515 0.59348388]\n",
      "   [0.29714329 0.79152322 0.67885934]\n",
      "   [0.09510361 0.04105388 0.7820167 ]]\n",
      "\n",
      "  [[0.69458515 0.59348388 0.69549274]\n",
      "   [0.79152322 0.67885934 0.440255  ]\n",
      "   [0.04105388 0.7820167  0.94695114]]\n",
      "\n",
      "  [[0.59348388 0.69549274 0.31499757]\n",
      "   [0.67885934 0.440255   0.7096287 ]\n",
      "   [0.7820167  0.94695114 0.39459333]]\n",
      "\n",
      "  [[0.69549274 0.31499757 0.50487481]\n",
      "   [0.440255   0.7096287  0.57120191]\n",
      "   [0.94695114 0.39459333 0.79953031]]\n",
      "\n",
      "  [[0.31499757 0.50487481 0.29458979]\n",
      "   [0.7096287  0.57120191 0.82472135]\n",
      "   [0.39459333 0.79953031 0.50494571]]\n",
      "\n",
      "  [[0.50487481 0.29458979 0.9854175 ]\n",
      "   [0.57120191 0.82472135 0.52988028]\n",
      "   [0.79953031 0.50494571 0.29153948]]]\n",
      "\n",
      "\n",
      " [[[0.24938368 0.20562911 0.29714329]\n",
      "   [0.80535461 0.27723326 0.09510361]\n",
      "   [0.36347641 0.06862257 0.50327787]]\n",
      "\n",
      "  [[0.20562911 0.29714329 0.79152322]\n",
      "   [0.27723326 0.09510361 0.04105388]\n",
      "   [0.06862257 0.50327787 0.24185949]]\n",
      "\n",
      "  [[0.29714329 0.79152322 0.67885934]\n",
      "   [0.09510361 0.04105388 0.7820167 ]\n",
      "   [0.50327787 0.24185949 0.2756806 ]]\n",
      "\n",
      "  [[0.79152322 0.67885934 0.440255  ]\n",
      "   [0.04105388 0.7820167  0.94695114]\n",
      "   [0.24185949 0.2756806  0.06969294]]\n",
      "\n",
      "  [[0.67885934 0.440255   0.7096287 ]\n",
      "   [0.7820167  0.94695114 0.39459333]\n",
      "   [0.2756806  0.06969294 0.13498804]]\n",
      "\n",
      "  [[0.440255   0.7096287  0.57120191]\n",
      "   [0.94695114 0.39459333 0.79953031]\n",
      "   [0.06969294 0.13498804 0.89961645]]\n",
      "\n",
      "  [[0.7096287  0.57120191 0.82472135]\n",
      "   [0.39459333 0.79953031 0.50494571]\n",
      "   [0.13498804 0.89961645 0.57826161]]\n",
      "\n",
      "  [[0.57120191 0.82472135 0.52988028]\n",
      "   [0.79953031 0.50494571 0.29153948]\n",
      "   [0.89961645 0.57826161 0.17429069]]]\n",
      "\n",
      "\n",
      " [[[0.80535461 0.27723326 0.09510361]\n",
      "   [0.36347641 0.06862257 0.50327787]\n",
      "   [0.88473081 0.70192531 0.82572504]]\n",
      "\n",
      "  [[0.27723326 0.09510361 0.04105388]\n",
      "   [0.06862257 0.50327787 0.24185949]\n",
      "   [0.70192531 0.82572504 0.31730087]]\n",
      "\n",
      "  [[0.09510361 0.04105388 0.7820167 ]\n",
      "   [0.50327787 0.24185949 0.2756806 ]\n",
      "   [0.82572504 0.31730087 0.08391444]]\n",
      "\n",
      "  [[0.04105388 0.7820167  0.94695114]\n",
      "   [0.24185949 0.2756806  0.06969294]\n",
      "   [0.31730087 0.08391444 0.99514281]]\n",
      "\n",
      "  [[0.7820167  0.94695114 0.39459333]\n",
      "   [0.2756806  0.06969294 0.13498804]\n",
      "   [0.08391444 0.99514281 0.77058619]]\n",
      "\n",
      "  [[0.94695114 0.39459333 0.79953031]\n",
      "   [0.06969294 0.13498804 0.89961645]\n",
      "   [0.99514281 0.77058619 0.73683881]]\n",
      "\n",
      "  [[0.39459333 0.79953031 0.50494571]\n",
      "   [0.13498804 0.89961645 0.57826161]\n",
      "   [0.77058619 0.73683881 0.67490521]]\n",
      "\n",
      "  [[0.79953031 0.50494571 0.29153948]\n",
      "   [0.89961645 0.57826161 0.17429069]\n",
      "   [0.73683881 0.67490521 0.40808451]]]\n",
      "\n",
      "\n",
      " [[[0.36347641 0.06862257 0.50327787]\n",
      "   [0.88473081 0.70192531 0.82572504]\n",
      "   [0.674824   0.95020443 0.07428394]]\n",
      "\n",
      "  [[0.06862257 0.50327787 0.24185949]\n",
      "   [0.70192531 0.82572504 0.31730087]\n",
      "   [0.95020443 0.07428394 0.21824814]]\n",
      "\n",
      "  [[0.50327787 0.24185949 0.2756806 ]\n",
      "   [0.82572504 0.31730087 0.08391444]\n",
      "   [0.07428394 0.21824814 0.61305838]]\n",
      "\n",
      "  [[0.24185949 0.2756806  0.06969294]\n",
      "   [0.31730087 0.08391444 0.99514281]\n",
      "   [0.21824814 0.61305838 0.08758421]]\n",
      "\n",
      "  [[0.2756806  0.06969294 0.13498804]\n",
      "   [0.08391444 0.99514281 0.77058619]\n",
      "   [0.61305838 0.08758421 0.16532594]]\n",
      "\n",
      "  [[0.06969294 0.13498804 0.89961645]\n",
      "   [0.99514281 0.77058619 0.73683881]\n",
      "   [0.08758421 0.16532594 0.36734189]]\n",
      "\n",
      "  [[0.13498804 0.89961645 0.57826161]\n",
      "   [0.77058619 0.73683881 0.67490521]\n",
      "   [0.16532594 0.36734189 0.98559841]]\n",
      "\n",
      "  [[0.89961645 0.57826161 0.17429069]\n",
      "   [0.73683881 0.67490521 0.40808451]\n",
      "   [0.36734189 0.98559841 0.24115259]]]\n",
      "\n",
      "\n",
      " [[[0.88473081 0.70192531 0.82572504]\n",
      "   [0.674824   0.95020443 0.07428394]\n",
      "   [0.19628268 0.09014522 0.13900897]]\n",
      "\n",
      "  [[0.70192531 0.82572504 0.31730087]\n",
      "   [0.95020443 0.07428394 0.21824814]\n",
      "   [0.09014522 0.13900897 0.57346369]]\n",
      "\n",
      "  [[0.82572504 0.31730087 0.08391444]\n",
      "   [0.07428394 0.21824814 0.61305838]\n",
      "   [0.13900897 0.57346369 0.64893407]]\n",
      "\n",
      "  [[0.31730087 0.08391444 0.99514281]\n",
      "   [0.21824814 0.61305838 0.08758421]\n",
      "   [0.57346369 0.64893407 0.15377394]]\n",
      "\n",
      "  [[0.08391444 0.99514281 0.77058619]\n",
      "   [0.61305838 0.08758421 0.16532594]\n",
      "   [0.64893407 0.15377394 0.6670909 ]]\n",
      "\n",
      "  [[0.99514281 0.77058619 0.73683881]\n",
      "   [0.08758421 0.16532594 0.36734189]\n",
      "   [0.15377394 0.6670909  0.14183188]]\n",
      "\n",
      "  [[0.77058619 0.73683881 0.67490521]\n",
      "   [0.16532594 0.36734189 0.98559841]\n",
      "   [0.6670909  0.14183188 0.04375177]]\n",
      "\n",
      "  [[0.73683881 0.67490521 0.40808451]\n",
      "   [0.36734189 0.98559841 0.24115259]\n",
      "   [0.14183188 0.04375177 0.22507724]]]\n",
      "\n",
      "\n",
      " [[[0.674824   0.95020443 0.07428394]\n",
      "   [0.19628268 0.09014522 0.13900897]\n",
      "   [0.67378421 0.21173866 0.93664969]]\n",
      "\n",
      "  [[0.95020443 0.07428394 0.21824814]\n",
      "   [0.09014522 0.13900897 0.57346369]\n",
      "   [0.21173866 0.93664969 0.82699416]]\n",
      "\n",
      "  [[0.07428394 0.21824814 0.61305838]\n",
      "   [0.13900897 0.57346369 0.64893407]\n",
      "   [0.93664969 0.82699416 0.58986674]]\n",
      "\n",
      "  [[0.21824814 0.61305838 0.08758421]\n",
      "   [0.57346369 0.64893407 0.15377394]\n",
      "   [0.82699416 0.58986674 0.14956258]]\n",
      "\n",
      "  [[0.61305838 0.08758421 0.16532594]\n",
      "   [0.64893407 0.15377394 0.6670909 ]\n",
      "   [0.58986674 0.14956258 0.25220727]]\n",
      "\n",
      "  [[0.08758421 0.16532594 0.36734189]\n",
      "   [0.15377394 0.6670909  0.14183188]\n",
      "   [0.14956258 0.25220727 0.31494735]]\n",
      "\n",
      "  [[0.16532594 0.36734189 0.98559841]\n",
      "   [0.6670909  0.14183188 0.04375177]\n",
      "   [0.25220727 0.31494735 0.9140256 ]]\n",
      "\n",
      "  [[0.36734189 0.98559841 0.24115259]\n",
      "   [0.14183188 0.04375177 0.22507724]\n",
      "   [0.31494735 0.9140256  0.18402373]]]\n",
      "\n",
      "\n",
      " [[[0.19628268 0.09014522 0.13900897]\n",
      "   [0.67378421 0.21173866 0.93664969]\n",
      "   [0.32485383 0.41717582 0.56779572]]\n",
      "\n",
      "  [[0.09014522 0.13900897 0.57346369]\n",
      "   [0.21173866 0.93664969 0.82699416]\n",
      "   [0.41717582 0.56779572 0.76451444]]\n",
      "\n",
      "  [[0.13900897 0.57346369 0.64893407]\n",
      "   [0.93664969 0.82699416 0.58986674]\n",
      "   [0.56779572 0.76451444 0.92566433]]\n",
      "\n",
      "  [[0.57346369 0.64893407 0.15377394]\n",
      "   [0.82699416 0.58986674 0.14956258]\n",
      "   [0.76451444 0.92566433 0.24855728]]\n",
      "\n",
      "  [[0.64893407 0.15377394 0.6670909 ]\n",
      "   [0.58986674 0.14956258 0.25220727]\n",
      "   [0.92566433 0.24855728 0.45622703]]\n",
      "\n",
      "  [[0.15377394 0.6670909  0.14183188]\n",
      "   [0.14956258 0.25220727 0.31494735]\n",
      "   [0.24855728 0.45622703 0.591738  ]]\n",
      "\n",
      "  [[0.6670909  0.14183188 0.04375177]\n",
      "   [0.25220727 0.31494735 0.9140256 ]\n",
      "   [0.45622703 0.591738   0.04065552]]\n",
      "\n",
      "  [[0.14183188 0.04375177 0.22507724]\n",
      "   [0.31494735 0.9140256  0.18402373]\n",
      "   [0.591738   0.04065552 0.06637744]]]\n",
      "\n",
      "\n",
      " [[[0.67378421 0.21173866 0.93664969]\n",
      "   [0.32485383 0.41717582 0.56779572]\n",
      "   [0.89203182 0.41479677 0.97988269]]\n",
      "\n",
      "  [[0.21173866 0.93664969 0.82699416]\n",
      "   [0.41717582 0.56779572 0.76451444]\n",
      "   [0.41479677 0.97988269 0.60735704]]\n",
      "\n",
      "  [[0.93664969 0.82699416 0.58986674]\n",
      "   [0.56779572 0.76451444 0.92566433]\n",
      "   [0.97988269 0.60735704 0.20109926]]\n",
      "\n",
      "  [[0.82699416 0.58986674 0.14956258]\n",
      "   [0.76451444 0.92566433 0.24855728]\n",
      "   [0.60735704 0.20109926 0.27413402]]\n",
      "\n",
      "  [[0.58986674 0.14956258 0.25220727]\n",
      "   [0.92566433 0.24855728 0.45622703]\n",
      "   [0.20109926 0.27413402 0.54515126]]\n",
      "\n",
      "  [[0.14956258 0.25220727 0.31494735]\n",
      "   [0.24855728 0.45622703 0.591738  ]\n",
      "   [0.27413402 0.54515126 0.06574778]]\n",
      "\n",
      "  [[0.25220727 0.31494735 0.9140256 ]\n",
      "   [0.45622703 0.591738   0.04065552]\n",
      "   [0.54515126 0.06574778 0.56547438]]\n",
      "\n",
      "  [[0.31494735 0.9140256  0.18402373]\n",
      "   [0.591738   0.04065552 0.06637744]\n",
      "   [0.06574778 0.56547438 0.34447756]]]]\n"
     ]
    }
   ],
   "source": [
    "# 84. Extract all the contiguous 3x3 blocks from a random 10x10 matrix\n",
    "\n",
    "matrix = np.random.random((10, 10))\n",
    "blocks = np.lib.stride_tricks.sliding_window_view(matrix, (3, 3))\n",
    "print(blocks)\n"
   ]
  },
  {
   "cell_type": "code",
   "execution_count": 226,
   "metadata": {},
   "outputs": [
    {
     "name": "stdout",
     "output_type": "stream",
     "text": [
      "[[0. 0. 0. 0. 0.]\n",
      " [0. 0. 3. 0. 0.]\n",
      " [0. 3. 0. 0. 0.]\n",
      " [0. 0. 0. 0. 5.]\n",
      " [0. 0. 0. 5. 0.]]\n"
     ]
    }
   ],
   "source": [
    "# 85. Create a 2D array subclass such that Z[i,j] == Z[j,i]\n",
    "\n",
    "class SymmetricArray(np.ndarray):\n",
    "    def __new__(cls, input_array):\n",
    "        # Create the array with the input data\n",
    "        obj = np.asarray(input_array).view(cls)\n",
    "        return obj\n",
    "\n",
    "    def __setitem__(self, index, value):\n",
    "        # Set both Z[i, j] and Z[j, i] to the same value\n",
    "        i, j = index\n",
    "        super(SymmetricArray, self).__setitem__((i, j), value)\n",
    "        super(SymmetricArray, self).__setitem__((j, i), value)\n",
    "\n",
    "# Example usage:\n",
    "original_array = np.zeros((5, 5))\n",
    "symmetric_array = SymmetricArray(original_array)\n",
    "\n",
    "# Set values\n",
    "symmetric_array[1, 2] = 3\n",
    "symmetric_array[3, 4] = 5\n",
    "\n",
    "print(symmetric_array)\n",
    "\n"
   ]
  },
  {
   "cell_type": "code",
   "execution_count": 227,
   "metadata": {},
   "outputs": [],
   "source": [
    "# 86. Consider a set of p matrices with shape (n,n) and a set of p vectors with shape (n,1). How to compute the sum of of the p matrix products at once? (result has shape (n,1)) (★★★)\n",
    "\n",
    "p_matrices = np.random.random((3, 4, 4))  # Assuming p=3, n=4\n",
    "p_vectors = np.random.random((3, 4, 1))\n",
    "result = np.sum(p_matrices @ p_vectors, axis=0)\n"
   ]
  },
  {
   "cell_type": "code",
   "execution_count": 228,
   "metadata": {},
   "outputs": [
    {
     "name": "stdout",
     "output_type": "stream",
     "text": [
      "[[ 7.49067865  7.57052199  7.77450171  7.81749831  7.17074484  6.61634815\n",
      "   6.54591826  6.28529094  7.09720729  8.34963196  7.79158072  8.30294837\n",
      "   8.36322707]\n",
      " [ 7.03043376  7.76737509  7.27374576  7.20123779  7.27264917  6.20040009\n",
      "   6.35162622  7.38167197  7.75865243  9.04380027  8.10310616  8.07263697\n",
      "   7.53331215]\n",
      " [ 6.81990876  6.61174713  7.05094228  6.97543057  7.3916921   6.8306753\n",
      "   6.93621386  8.2173261   8.90224353 10.40633997  8.43821475  8.3189435\n",
      "   7.51984467]\n",
      " [ 6.50353695  6.91735564  7.77686396  8.04648097  8.56204694  7.90556979\n",
      "   7.74357966  9.09134592  8.97793802  9.96629905  8.14498981  8.03125665\n",
      "   7.40446756]\n",
      " [ 7.63101773  7.78849355  7.63091696  7.76090548  7.80056461  7.79003316\n",
      "   8.16726967  9.33584801  9.22724149  9.77064965  9.00822511  8.53523939\n",
      "   8.57410135]\n",
      " [ 7.48342489  6.46070611  6.51695458  7.21513887  7.79242779  8.31325137\n",
      "   8.23472984  8.44853847  8.45111509  8.95358446  8.90364179  9.08901729\n",
      "   9.26978078]\n",
      " [ 7.51009238  7.31942354  6.41559052  7.37988206  7.32788408  7.81292324\n",
      "   8.29624078  8.45867958  9.09538508  8.50487745  9.02644112  8.62021724\n",
      "   8.17212909]\n",
      " [ 7.53365981  7.20629302  5.66124724  7.07887305  7.18145717  8.08241016\n",
      "   9.47826817  8.82660484  9.45502366  8.68290845  9.34930043  9.11080043\n",
      "   8.13387613]\n",
      " [ 5.57348822  5.89516079  5.18460576  6.60281256  7.39917017  7.38711737\n",
      "   8.76686     8.80828634  9.01833561  8.0886081   8.26918136  8.3555333\n",
      "   7.63000399]\n",
      " [ 6.56342962  7.64781138  6.83907588  7.67333584  7.51775628  7.15538594\n",
      "   8.92252089  9.19786786 10.27697889  8.89075296  9.5200009   9.12489043\n",
      "   8.08295839]\n",
      " [ 7.87433906  7.95323012  6.72549486  8.16603451  7.65406141  7.94088668\n",
      "   9.47341666  8.78312329  9.23793449  7.59279902  8.15749087  8.63969444\n",
      "   9.08691882]\n",
      " [ 7.68676044  7.53658938  7.31613433  8.03806677  7.45958678  6.99649835\n",
      "   8.07720518  8.16491963  9.07304808  8.14615655  7.71574554  6.94003226\n",
      "   7.50080739]\n",
      " [ 9.99479416  9.55459033  9.34036573  9.53710379  7.99108514  7.89163067\n",
      "   8.46655137  8.68746652 10.60419901  9.54801643  8.63118188  7.22613898\n",
      "   6.72849034]]\n"
     ]
    }
   ],
   "source": [
    "# 87. Consider a 16x16 array, how to get the block-sum (block size is 4x4)?\n",
    "\n",
    "array = np.random.random((16, 16))\n",
    "block_sum = np.sum(np.lib.stride_tricks.sliding_window_view(array, (4, 4)), axis=(2, 3))\n",
    "print(block_sum)\n"
   ]
  },
  {
   "cell_type": "code",
   "execution_count": 229,
   "metadata": {},
   "outputs": [],
   "source": [
    "# 88. How to implement the Game of Life using numpy arrays?\n",
    "\n",
    "def game_of_life(board):\n",
    "    neighbors = sum(np.roll(np.roll(board, i, 0), j, 1) for i in (-1, 0, 1) for j in (-1, 0, 1) if (i != 0 or j != 0))\n",
    "    new_board = (neighbors == 3) | (board & (neighbors == 2))\n",
    "    return new_board.astype(int)\n"
   ]
  },
  {
   "cell_type": "code",
   "execution_count": 230,
   "metadata": {},
   "outputs": [
    {
     "name": "stdout",
     "output_type": "stream",
     "text": [
      "[10]\n"
     ]
    }
   ],
   "source": [
    "# 89. How to get the n largest values of an array\n",
    "\n",
    "array = np.array([1, 3, 5, 7, 9, 2, 4, 6, 8, 10])\n",
    "n_largest_values = np.partition(array, -n)[-n:]\n",
    "print(n_largest_values)\n"
   ]
  },
  {
   "cell_type": "code",
   "execution_count": 231,
   "metadata": {},
   "outputs": [
    {
     "name": "stdout",
     "output_type": "stream",
     "text": [
      "[[1 4 6]\n",
      " [1 5 6]\n",
      " [2 4 6]\n",
      " [2 5 6]\n",
      " [3 4 6]\n",
      " [3 5 6]\n",
      " [1 4 7]\n",
      " [1 5 7]\n",
      " [2 4 7]\n",
      " [2 5 7]\n",
      " [3 4 7]\n",
      " [3 5 7]]\n"
     ]
    }
   ],
   "source": [
    "# 90. Given an arbitrary number of vectors, build the cartesian product (every combinations of every item)\n",
    "\n",
    "vectors = [np.array([1, 2, 3]), np.array([4, 5]), np.array([6, 7])]\n",
    "cartesian_product = np.array(np.meshgrid(*vectors)).T.reshape(-1, len(vectors))\n",
    "print(cartesian_product)\n"
   ]
  },
  {
   "cell_type": "code",
   "execution_count": 245,
   "metadata": {},
   "outputs": [
    {
     "name": "stdout",
     "output_type": "stream",
     "text": [
      "[(1, 'Alice', 25) (2, 'Bob', 30) (3, 'Charlie', 22)]\n"
     ]
    }
   ],
   "source": [
    "# 91. How to create a record array from a regular array?\n",
    "\n",
    "# Example regular array\n",
    "regular_array = np.array([(1, 'Alice', 25), (2, 'Bob', 30), (3, 'Charlie', 22)],\n",
    "                         dtype=[('ID', int), ('Name', 'U10'), ('Age', int)])\n",
    "\n",
    "# Creating a record array\n",
    "record_array = np.array(regular_array, dtype=[('ID', int), ('Name', 'U10'), ('Age', int)])\n",
    "\n",
    "# Print the record array\n",
    "print(record_array)"
   ]
  },
  {
   "cell_type": "code",
   "execution_count": 236,
   "metadata": {},
   "outputs": [],
   "source": [
    "# 92. Consider a large vector Z, compute Z to the power of 3 using 3 different methods\n",
    "\n",
    "Z = np.random.random(5)\n",
    "\n",
    "# Method 1\n",
    "result_method1 = Z * Z * Z\n",
    "\n",
    "# Method 2\n",
    "result_method2 = np.power(Z, 3)\n",
    "\n",
    "# Method 3\n",
    "result_method3 = np.einsum('i,i,i->i', Z, Z, Z)\n"
   ]
  },
  {
   "cell_type": "code",
   "execution_count": 237,
   "metadata": {},
   "outputs": [
    {
     "name": "stdout",
     "output_type": "stream",
     "text": [
      "[[1 2 3]\n",
      " [4 5 6]\n",
      " [3 2 1]\n",
      " [6 5 4]\n",
      " [1 2 3]]\n"
     ]
    }
   ],
   "source": [
    "# 93. Consider two arrays A and B of shape (8,3) and (2,2). How to find rows of A that contain elements of each row of B regardless of the order of the elements in B? (★★★)\n",
    "\n",
    "A = np.array([[1, 2, 3], [4, 5, 6], [7, 8, 9], [3, 2, 1], [6, 5, 4], [9, 8, 7], [1, 2, 3], [7, 8, 9]])\n",
    "B = np.array([[3, 2, 1], [6, 5, 4]])\n",
    "\n",
    "rows_containing_elements = np.all(np.isin(A, B), axis=1)\n",
    "result = A[rows_containing_elements]\n",
    "print(result)\n"
   ]
  },
  {
   "cell_type": "code",
   "execution_count": 238,
   "metadata": {},
   "outputs": [
    {
     "name": "stdout",
     "output_type": "stream",
     "text": [
      "[[1 2 2]\n",
      " [0 0 2]\n",
      " [0 2 1]\n",
      " [0 1 2]\n",
      " [2 0 2]\n",
      " [2 1 2]\n",
      " [0 1 1]\n",
      " [2 2 0]\n",
      " [1 1 0]\n",
      " [2 1 2]]\n"
     ]
    }
   ],
   "source": [
    "# 94. Considering a 10x3 matrix, extract rows with unequal values (e.g. [2,2,3])\n",
    "\n",
    "matrix = np.random.randint(0, 3, size=(10, 3))\n",
    "unequal_rows = matrix[(matrix[:, 0] != matrix[:, 1]) | (matrix[:, 1] != matrix[:, 2]) | (matrix[:, 0] != matrix[:, 2])]\n",
    "print(unequal_rows)\n"
   ]
  },
  {
   "cell_type": "code",
   "execution_count": 239,
   "metadata": {},
   "outputs": [
    {
     "name": "stdout",
     "output_type": "stream",
     "text": [
      "[[0 1 0 0 0 0 0 0]\n",
      " [1 0 1 0 0 0 0 0]\n",
      " [1 1 1 0 0 0 0 0]]\n"
     ]
    }
   ],
   "source": [
    "# 95. Convert a vector of ints into a matrix binary representation\n",
    "\n",
    "vector = np.array([2, 5, 7])\n",
    "matrix_binary_representation = ((vector[:, None] & (1 << np.arange(8))) > 0).astype(int)\n",
    "print(matrix_binary_representation)\n"
   ]
  },
  {
   "cell_type": "code",
   "execution_count": 240,
   "metadata": {},
   "outputs": [
    {
     "name": "stdout",
     "output_type": "stream",
     "text": [
      "[[0 0 0]\n",
      " [0 0 2]\n",
      " [1 0 2]\n",
      " [1 1 0]\n",
      " [1 1 2]\n",
      " [1 2 0]\n",
      " [1 2 2]\n",
      " [2 0 0]\n",
      " [2 0 2]]\n"
     ]
    }
   ],
   "source": [
    "# 96. Given a two dimensional array, how to extract unique rows?\n",
    "\n",
    "array = np.random.randint(0, 3, size=(10, 3))\n",
    "unique_rows = np.unique(array, axis=0)\n",
    "print(unique_rows)\n"
   ]
  },
  {
   "cell_type": "code",
   "execution_count": 241,
   "metadata": {},
   "outputs": [],
   "source": [
    "# 97. Considering 2 vectors A & B, write the einsum equivalent of inner, outer, sum, and mul function \n",
    "\n",
    "A = np.array([1, 2, 3])\n",
    "B = np.array([4, 5, 6])\n",
    "\n",
    "# Einsum equivalents\n",
    "inner_product = np.einsum('i,i->', A, B)\n",
    "outer_product = np.einsum('i,j->ij', A, B)\n",
    "sum_result = np.einsum('i->', A)\n",
    "elementwise_multiply = np.einsum('i,i->i', A, B)\n"
   ]
  },
  {
   "cell_type": "code",
   "execution_count": 242,
   "metadata": {},
   "outputs": [
    {
     "data": {
      "image/png": "[encoded data removed]",
      "text/plain": [
       "<Figure size 640x480 with 1 Axes>"
      ]
     },
     "metadata": {},
     "output_type": "display_data"
    }
   ],
   "source": [
    "# 98. Considering a path described by two vectors (X,Y), how to sample it using equidistant samples\n",
    "import matplotlib.pyplot as plt\n",
    "\n",
    "# Example vectors describing a path\n",
    "X = np.array([1, 2, 3, 4, 5])\n",
    "Y = np.array([2, 4, 1, 7, 9])\n",
    "\n",
    "# Number of equidistant samples\n",
    "num_samples = 10\n",
    "\n",
    "# Generate equidistant samples\n",
    "equidistant_samples_x = np.linspace(X.min(), X.max(), num_samples)\n",
    "equidistant_samples_y = np.interp(equidistant_samples_x, X, Y)\n",
    "\n",
    "# Plotting the original path and equidistant samples\n",
    "plt.plot(X, Y, marker='o', label='Original Path')\n",
    "plt.scatter(equidistant_samples_x, equidistant_samples_y, color='red', label='Equidistant Samples')\n",
    "plt.legend()\n",
    "plt.xlabel('X')\n",
    "plt.ylabel('Y')\n",
    "plt.title('Sampling a Path with Equidistant Samples')\n",
    "plt.show()"
   ]
  },
  {
   "cell_type": "code",
   "execution_count": 243,
   "metadata": {},
   "outputs": [
    {
     "name": "stdout",
     "output_type": "stream",
     "text": [
      "Bootstrapped 95% Confidence Interval for the Mean: [3.8 7.3]\n"
     ]
    }
   ],
   "source": [
    "# 100. Compute bootstrapped 95% confidence intervals for the mean of a 1D array X (i.e., resample the elements of an array with replacement N times, compute the mean of each sample, and then compute percentiles over the means). (★★★)\n",
    "\n",
    "def bootstrap_mean_confidence_interval(X, N=1000, alpha=0.05):\n",
    "    # N: Number of bootstrap samples\n",
    "    # alpha: Significance level for confidence interval\n",
    "    \n",
    "    # Generate bootstrap samples\n",
    "    bootstrap_samples = [np.random.choice(X, size=len(X), replace=True) for _ in range(N)]\n",
    "    \n",
    "    # Compute means of bootstrap samples\n",
    "    bootstrap_means = np.mean(bootstrap_samples, axis=1)\n",
    "    \n",
    "    # Calculate confidence intervals\n",
    "    lower_percentile = (alpha / 2) * 100\n",
    "    upper_percentile = 100 - (alpha / 2) * 100\n",
    "    confidence_interval = np.percentile(bootstrap_means, [lower_percentile, upper_percentile])\n",
    "    \n",
    "    return confidence_interval\n",
    "\n",
    "# Example usage:\n",
    "X = np.array([1, 2, 3, 4, 5, 6, 7, 8, 9, 10])\n",
    "\n",
    "confidence_interval = bootstrap_mean_confidence_interval(X)\n",
    "print(\"Bootstrapped 95% Confidence Interval for the Mean:\", confidence_interval)\n"
   ]
  }
 ],
 "metadata": {
  "kernelspec": {
   "display_name": "arewads3.11",
   "language": "python",
   "name": "python3"
  },
  "language_info": {
   "codemirror_mode": {
    "name": "ipython",
    "version": 3
   },
   "file_extension": ".py",
   "mimetype": "text/x-python",
   "name": "python",
   "nbconvert_exporter": "python",
   "pygments_lexer": "ipython3",
   "version": "3.11.5"
  }
 },
 "nbformat": 4,
 "nbformat_minor": 2
}
